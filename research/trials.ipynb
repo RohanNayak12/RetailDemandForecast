{
 "cells": [
  {
   "cell_type": "code",
   "execution_count": 1,
   "id": "11243964",
   "metadata": {},
   "outputs": [],
   "source": [
    "import tensorflow as tf"
   ]
  },
  {
   "cell_type": "code",
   "execution_count": 1,
   "id": "fa24929f",
   "metadata": {},
   "outputs": [],
   "source": [
    "#Downloading data"
   ]
  },
  {
   "cell_type": "code",
   "execution_count": 3,
   "id": "3b278d86",
   "metadata": {},
   "outputs": [],
   "source": [
    "import gdown"
   ]
  },
  {
   "cell_type": "code",
   "execution_count": null,
   "id": "d21b5c7a",
   "metadata": {},
   "outputs": [],
   "source": [
    "url=\"https://drive.google.com/file/d/1o3b5F60AKd245z__9mFBvC_CbsLLoH6S/view?usp=drive_link\""
   ]
  },
  {
   "cell_type": "code",
   "execution_count": 10,
   "id": "943b4547",
   "metadata": {},
   "outputs": [],
   "source": [
    "fileId=url.split(\"/\")[-2]\n",
    "prefix=\"https://drive.google.com/uc?/export=download&id=\""
   ]
  },
  {
   "cell_type": "code",
   "execution_count": 14,
   "id": "1be91a6b",
   "metadata": {},
   "outputs": [
    {
     "name": "stderr",
     "output_type": "stream",
     "text": [
      "Downloading...\n",
      "From: https://drive.google.com/uc?/export=download&id=1o3b5F60AKd245z__9mFBvC_CbsLLoH6S\n",
      "To: c:\\Users\\rohan\\OneDrive\\Desktop\\New folder\\RetailDemandForecast\\research\\dataset.zip\n",
      "100%|██████████| 2.59M/2.59M [00:02<00:00, 1.20MB/s]\n"
     ]
    },
    {
     "data": {
      "text/plain": [
       "'dataset.zip'"
      ]
     },
     "execution_count": 14,
     "metadata": {},
     "output_type": "execute_result"
    }
   ],
   "source": [
    "gdown.download(prefix+fileId,\"dataset.zip\")"
   ]
  },
  {
   "cell_type": "code",
   "execution_count": null,
   "id": "733807e3",
   "metadata": {},
   "outputs": [],
   "source": []
  }
 ],
 "metadata": {
  "kernelspec": {
   "display_name": "tensorflow",
   "language": "python",
   "name": "python3"
  },
  "language_info": {
   "codemirror_mode": {
    "name": "ipython",
    "version": 3
   },
   "file_extension": ".py",
   "mimetype": "text/x-python",
   "name": "python",
   "nbconvert_exporter": "python",
   "pygments_lexer": "ipython3",
   "version": "3.11.13"
  }
 },
 "nbformat": 4,
 "nbformat_minor": 5
}
