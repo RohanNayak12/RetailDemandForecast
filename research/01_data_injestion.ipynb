{
 "cells": [
  {
   "cell_type": "code",
   "execution_count": 1,
   "id": "0ead8833",
   "metadata": {},
   "outputs": [
    {
     "data": {
      "text/plain": [
       "'c:\\\\Users\\\\rohan\\\\OneDrive\\\\Desktop\\\\New folder\\\\RetailDemandForecast\\\\research'"
      ]
     },
     "execution_count": 1,
     "metadata": {},
     "output_type": "execute_result"
    }
   ],
   "source": [
    "import os\n",
    "%pwd"
   ]
  },
  {
   "cell_type": "code",
   "execution_count": 2,
   "id": "c8bffa9e",
   "metadata": {},
   "outputs": [
    {
     "data": {
      "text/plain": [
       "'c:\\\\Users\\\\rohan\\\\OneDrive\\\\Desktop\\\\New folder\\\\RetailDemandForecast'"
      ]
     },
     "execution_count": 2,
     "metadata": {},
     "output_type": "execute_result"
    }
   ],
   "source": [
    "os.chdir(\"../\")\n",
    "%pwd"
   ]
  },
  {
   "cell_type": "code",
   "execution_count": 3,
   "id": "f5fd657a",
   "metadata": {},
   "outputs": [],
   "source": [
    "from dataclasses import dataclass\n",
    "from pathlib import Path\n",
    "\n",
    "@dataclass(frozen=True)\n",
    "class DataInjestionConfig:\n",
    "    root_dir:Path\n",
    "    source_url:str\n",
    "    local_data_file:Path\n",
    "    unzip_dir:Path\n",
    "    final_dataset_dir:Path\n",
    "\n",
    "@dataclass(frozen=True)\n",
    "class PrepareBaseModelConfig:\n",
    "    root_dir:Path\n",
    "    base_model_path:Path\n",
    "    seasonality_mode:str\n",
    "    daily_seasonality:bool\n",
    "    weekly_seasonality:bool\n",
    "    yearly_seasonality:bool\n",
    "\n",
    "@dataclass(frozen=True)\n",
    "class ModelTrainingConfig:\n",
    "  root_dir: Path\n",
    "  trained_model_path: Path\n",
    "  dataset_path: Path\n",
    "  base_model_path:Path\n",
    "  store_column:str='Store'\n",
    "  date_column: str = 'Date'\n",
    "  target_column: str = 'Weekly_Sales_x'\n",
    "  train_split: int = 120\n",
    "\n",
    "@dataclass(frozen=True)\n",
    "class ModelEvaluationConfig:\n",
    "    root_dir: Path\n",
    "    evaluation_results_path: Path\n",
    "    dataset_path: Path\n",
    "    model_path: Path\n",
    "    train_split: int = 120\n",
    "    forecast_periods: int = 23\n",
    "    frequency: str='W-Fri'\n",
    "    store_column:str='Store'\n",
    "    date_column: str = 'Date'\n",
    "    target_column: str = 'Weekly_Sales_x'\n",
    "\n",
    "@dataclass\n",
    "class ModelPredictionConfig:\n",
    "    root_dir: Path\n",
    "    dataset_path: Path\n",
    "    model_path: Path\n",
    "    "
   ]
  },
  {
   "cell_type": "code",
   "execution_count": 4,
   "id": "cb23ef4b",
   "metadata": {},
   "outputs": [],
   "source": [
    "from src.retailDemand.constants import *\n",
    "from src.retailDemand.utils import *"
   ]
  },
  {
   "cell_type": "code",
   "execution_count": 5,
   "id": "3ebf3c79",
   "metadata": {},
   "outputs": [
    {
     "data": {
      "text/plain": [
       "'c:\\\\Users\\\\rohan\\\\OneDrive\\\\Desktop\\\\New folder\\\\RetailDemandForecast'"
      ]
     },
     "execution_count": 5,
     "metadata": {},
     "output_type": "execute_result"
    }
   ],
   "source": [
    "%pwd"
   ]
  },
  {
   "cell_type": "code",
   "execution_count": 6,
   "id": "7becc239",
   "metadata": {},
   "outputs": [],
   "source": [
    "from src.retailDemand.utils.common import createDir, read_yaml\n",
    "\n",
    "\n",
    "class ConfigurationManager:\n",
    "    def __init__(\n",
    "            self,\n",
    "            config_file_path=CONFIG_FILE_PATH,\n",
    "            params_file_path=PARAMS_FILE_PATH):\n",
    "        \n",
    "        self.config=read_yaml(config_file_path)\n",
    "        self.params=read_yaml(params_file_path)\n",
    "\n",
    "        createDir([self.config.artifacts_root])\n",
    "\n",
    "    def getDataInjestionConfig(self)->DataInjestionConfig:\n",
    "        config=self.config.data_injestion\n",
    "\n",
    "        createDir([config.root_dir])\n",
    "        data_injestion_config=DataInjestionConfig(\n",
    "            root_dir=config.root_dir,\n",
    "            local_data_file=config.local_data_file,\n",
    "            unzip_dir=config.unzip_dir,\n",
    "            source_url=config.source_url,\n",
    "            final_dataset_dir=config.final_dataset_dir\n",
    "        )\n",
    "        return data_injestion_config\n",
    "    \n",
    "    def getPrepareBaseModelConfig(self)->PrepareBaseModelConfig:\n",
    "        config=self.config.prepare_base_model\n",
    "\n",
    "        createDir([config.root_dir])\n",
    "        prepare_base_model_config=PrepareBaseModelConfig(\n",
    "            root_dir=Path(config.root_dir),\n",
    "            base_model_path=Path(config.base_model_path),\n",
    "            seasonality_mode=str(config.seasonality_mode),\n",
    "            weekly_seasonality=bool(config.weekly_seasonality),\n",
    "            daily_seasonality=bool(config.daily_seasonality),\n",
    "            yearly_seasonality=bool(config.yearly_seasonality)\n",
    "        )\n",
    "\n",
    "        return prepare_base_model_config\n",
    "    \n",
    "    def getModelTrainingConfig(self)-> ModelTrainingConfig:\n",
    "        config=self.config.model_train\n",
    "\n",
    "        createDir([config.root_dir])\n",
    "        model_train_config=ModelTrainingConfig(\n",
    "            root_dir=Path(config.root_dir),\n",
    "            trained_model_path=Path(config.trained_model_path),\n",
    "            dataset_path=Path(config.dataset_path),\n",
    "            base_model_path=Path(config.base_model_path),\n",
    "            store_column=self.params.STORE_COLUMN,\n",
    "            date_column=self.params.DATE_COLUMN,\n",
    "            target_column=self.params.TARGET_COLUMN,\n",
    "            train_split=self.params.TRAIN_SPLIT\n",
    "        )\n",
    "        return model_train_config\n",
    "    \n",
    "    def getModelEvaluationConfig(self)->ModelEvaluationConfig:\n",
    "        config=self.config.model_evaluation\n",
    "\n",
    "        createDir([config.root_dir])\n",
    "        model_eval_config=ModelEvaluationConfig(\n",
    "            root_dir=Path(config.root_dir),\n",
    "            evaluation_results_path=Path(config.evaluation_results_path),\n",
    "            train_split=self.params.TRAIN_SPLIT,\n",
    "            forecast_periods=self.params.FORECAST_PERIODS,\n",
    "            frequency=self.params.FREQUENCY,\n",
    "            dataset_path=Path(config.dataset_path),\n",
    "            model_path=Path(config.model_path),\n",
    "            store_column=self.params.STORE_COLUMN,\n",
    "            date_column=self.params.DATE_COLUMN,\n",
    "            target_column=self.params.TARGET_COLUMN\n",
    "        )\n",
    "        return model_eval_config\n",
    "    \n",
    "    def getModelPredConfig(self)->ModelPredictionConfig:\n",
    "        config=self.config.model_prediction\n",
    "\n",
    "        createDir([config.root_dir])\n",
    "        model_pred_config=ModelPredictionConfig(\n",
    "            root_dir=Path(config.root_dir),\n",
    "            dataset_path=Path(config.dataset_path),\n",
    "            model_path=Path(config.model_path)\n",
    "        )\n",
    "        return model_pred_config"
   ]
  },
  {
   "cell_type": "code",
   "execution_count": 7,
   "id": "52125e1b",
   "metadata": {},
   "outputs": [],
   "source": [
    "import zipfile\n",
    "import gdown\n",
    "from src.retailDemand import logger\n",
    "import pandas as pd\n"
   ]
  },
  {
   "cell_type": "code",
   "execution_count": 8,
   "id": "6fe976ee",
   "metadata": {},
   "outputs": [],
   "source": [
    "import pandas as pd\n",
    "\n",
    "class DataInjestion:\n",
    "    def __init__(self,config:DataInjestionConfig):\n",
    "        self.config=config\n",
    "    \n",
    "    def download_file(self):\n",
    "        try:\n",
    "            dataset_url=self.config.source_url\n",
    "            zip_download_dir=self.config.local_data_file\n",
    "            os.makedirs(\"artifacts/data_injestion\",exist_ok=True)\n",
    "            logger.info(f\"Downloading data from {dataset_url} into {zip_download_dir}\")\n",
    "\n",
    "            file_id=dataset_url.split(\"/\")[-2]\n",
    "            prefix=\"https://drive.google.com/uc?/export=download&id=\"\n",
    "            gdown.download(prefix+file_id,zip_download_dir)\n",
    "            logger.info(f\"Downloaded data from {dataset_url} to {zip_download_dir}\")\n",
    "\n",
    "        except Exception as e:\n",
    "            raise e\n",
    "        \n",
    "    def extract_zip_file(self)->Path:\n",
    "        unzip_path=self.config.unzip_dir\n",
    "        os.makedirs(unzip_path,exist_ok=True)\n",
    "        with zipfile.ZipFile(self.config.local_data_file,'r') as zip_ref:\n",
    "            zip_ref.extractall(unzip_path)\n",
    "            folders = {name.split('/')[0] for name in zip_ref.namelist() if '/' in name}\n",
    "            logger.info(list(folders)[0])\n",
    "            logger.info(zip_ref)\n",
    "        fname=list(folders)[0]\n",
    "        logger.info(f\"Final unzip path: {Path(unzip_path)/fname}\")\n",
    "        return Path(unzip_path)/fname\n",
    "    \n",
    "    def dataPrep(self)->pd.DataFrame:\n",
    "        try:\n",
    "            final_dir_path=self.extract_zip_file()\n",
    "            fPath=final_dir_path/\"features.csv\"\n",
    "            tPath=final_dir_path/\"train.csv\"\n",
    "            sPath=final_dir_path/\"stores.csv\"\n",
    "\n",
    "            logger.info(\"Loading csv files for merging\")\n",
    "            df1=pd.read_csv(tPath)\n",
    "            df2=pd.read_csv(fPath)\n",
    "            df3=pd.read_csv(sPath)\n",
    "\n",
    "            temp_data=df1.merge(df2,on=['Store','Date','IsHoliday'],how='inner')\n",
    "            final_data=temp_data.merge(df3,on=['Store'],how='inner')\n",
    "\n",
    "            final_data['Date']=pd.to_datetime(final_data['Date'])\n",
    "\n",
    "            final_data['Year']=final_data['Date'].dt.year\n",
    "            final_data['Month']=final_data['Date'].dt.month\n",
    "            final_data['Week']=final_data['Date'].dt.isocalendar().week\n",
    "            final_data['Day_Name']=final_data['Date'].dt.day_name\n",
    "            final_data['Month_Name']=final_data['Date'].dt.month_name\n",
    "\n",
    "            if 'Weekly_Sales' in final_data.columns and 'Weekly_Sales_x' not in final_data.columns:\n",
    "                final_data['Weekly_Sales_x'] = final_data['Weekly_Sales']\n",
    "\n",
    "            logger.info(f\"Final merged data shape: {final_data.shape}\")\n",
    "            logger.info(f\"Columns: {list(final_data.columns)}\")\n",
    "\n",
    "            return final_data\n",
    "        except Exception as e:\n",
    "            logger.error(f\"Error loading and merging data: {str(e)}\")\n",
    "            raise\n",
    "\n",
    "    def save_data(self,name:str=\"final_data.csv\")->Path:\n",
    "        final_data=self.dataPrep()\n",
    "        save_dir=self.config.final_dataset_dir\n",
    "        save_path=Path(save_dir)/name\n",
    "\n",
    "        final_data.to_csv(save_path,index=False)\n",
    "        logger.info(f\"Final data saved to: {save_path}\")\n",
    "        # logger.info(f\"Saved data shape: {self.data.shape}\")\n",
    "        logger.info(f\"Ready for model training\")\n",
    "\n",
    "        return save_path"
   ]
  },
  {
   "cell_type": "code",
   "execution_count": 9,
   "id": "7c8cbee3",
   "metadata": {},
   "outputs": [
    {
     "data": {
      "text/plain": [
       "'c:\\\\Users\\\\rohan\\\\OneDrive\\\\Desktop\\\\New folder\\\\RetailDemandForecast'"
      ]
     },
     "execution_count": 9,
     "metadata": {},
     "output_type": "execute_result"
    }
   ],
   "source": [
    "%pwd"
   ]
  },
  {
   "cell_type": "code",
   "execution_count": null,
   "id": "ab025041",
   "metadata": {},
   "outputs": [
    {
     "name": "stdout",
     "output_type": "stream",
     "text": [
      "[2025-09-16 20:34:00,156: INFO: common: yaml file: config\\config.yaml loaded successfully]\n",
      "[2025-09-16 20:34:00,162: INFO: common: yaml file: params.yaml loaded successfully]\n",
      "[2025-09-16 20:34:00,169: INFO: common: Created directory at: artifacts]\n",
      "[2025-09-16 20:34:00,173: INFO: common: Created directory at: artifacts/data_injestion]\n",
      "[2025-09-16 20:34:00,176: INFO: 1062413224: Downloading data from https://drive.google.com/file/d/140EnsVZ6YyG8vDjaLiAm8EvZgzX3bH5B/view?usp=sharing into artifacts/data_injestion/dataset.zip]\n"
     ]
    },
    {
     "name": "stderr",
     "output_type": "stream",
     "text": [
      "Downloading...\n",
      "From: https://drive.google.com/uc?/export=download&id=140EnsVZ6YyG8vDjaLiAm8EvZgzX3bH5B\n",
      "To: c:\\Users\\rohan\\OneDrive\\Desktop\\New folder\\RetailDemandForecast\\artifacts\\data_injestion\\dataset.zip\n",
      "100%|██████████| 3.27M/3.27M [00:02<00:00, 1.40MB/s]"
     ]
    },
    {
     "name": "stdout",
     "output_type": "stream",
     "text": [
      "[2025-09-16 20:34:07,644: INFO: 1062413224: Downloaded data from https://drive.google.com/file/d/140EnsVZ6YyG8vDjaLiAm8EvZgzX3bH5B/view?usp=sharing to artifacts/data_injestion/dataset.zip]\n"
     ]
    },
    {
     "name": "stderr",
     "output_type": "stream",
     "text": [
      "\n"
     ]
    },
    {
     "name": "stdout",
     "output_type": "stream",
     "text": [
      "[2025-09-16 20:34:07,810: INFO: 1062413224: dataset1]\n",
      "[2025-09-16 20:34:07,817: INFO: 1062413224: <zipfile.ZipFile filename='artifacts/data_injestion/dataset.zip' mode='r'>]\n",
      "[2025-09-16 20:34:07,820: INFO: 1062413224: Final unzip path: artifacts\\data_injestion\\dataset1]\n",
      "[2025-09-16 20:34:07,822: INFO: 1062413224: Loading csv files for merging]\n",
      "[2025-09-16 20:34:08,789: INFO: 1062413224: Final merged data shape: (421570, 22)]\n",
      "[2025-09-16 20:34:08,789: INFO: 1062413224: Columns: ['Store', 'Dept', 'Date', 'Weekly_Sales', 'IsHoliday', 'Temperature', 'Fuel_Price', 'MarkDown1', 'MarkDown2', 'MarkDown3', 'MarkDown4', 'MarkDown5', 'CPI', 'Unemployment', 'Type', 'Size', 'Year', 'Month', 'Week', 'Day_Name', 'Month_Name', 'Weekly_Sales_x']]\n",
      "[2025-09-16 20:34:21,084: INFO: 1062413224: Final data saved to: artifacts\\data_injestion\\final_data.csv]\n",
      "[2025-09-16 20:34:21,085: INFO: 1062413224: Ready for model training]\n"
     ]
    }
   ],
   "source": [
    "try:\n",
    "    config=ConfigurationManager()\n",
    "    data_injestion_config=config.getDataInjestionConfig()\n",
    "    data_injestion=DataInjestion(config=data_injestion_config)\n",
    "    data_injestion.download_file()\n",
    "    data_injestion.save_data()\n",
    "except Exception as e:\n",
    "    raise e"
   ]
  },
  {
   "cell_type": "code",
   "execution_count": 11,
   "id": "98852ffe",
   "metadata": {},
   "outputs": [],
   "source": [
    "from prophet import Prophet\n",
    "import pickle\n",
    "\n",
    "class BaseModelPrep:\n",
    "    def __init__(self,config:PrepareBaseModelConfig):\n",
    "        self.config=config\n",
    "        self.model=None\n",
    "    \n",
    "    def getBaseModel(self)->Prophet:\n",
    "        model=Prophet(\n",
    "            seasonality_mode=self.config.seasonality_mode,\n",
    "            daily_seasonality=self.config.seasonality_mode,\n",
    "            weekly_seasonality=self.config.weekly_seasonality,\n",
    "            yearly_seasonality=self.config.yearly_seasonality\n",
    "        )\n",
    "        logger.info(\"Base model prepared\")\n",
    "        return model\n",
    "    \n",
    "    def save_base_model(self):\n",
    "        model=self.getBaseModel()\n",
    "        model_path=self.config.base_model_path\n",
    "        with open(model_path,'wb') as f:\n",
    "            pickle.dump(model,f)\n",
    "        logger.info(f\"Model saved at path {model_path}\")"
   ]
  },
  {
   "cell_type": "code",
   "execution_count": 12,
   "id": "46a9ff79",
   "metadata": {},
   "outputs": [
    {
     "name": "stdout",
     "output_type": "stream",
     "text": [
      "[2025-09-16 20:34:22,481: INFO: common: yaml file: config\\config.yaml loaded successfully]\n",
      "[2025-09-16 20:34:22,487: INFO: common: yaml file: params.yaml loaded successfully]\n",
      "[2025-09-16 20:34:22,489: INFO: common: Created directory at: artifacts]\n",
      "[2025-09-16 20:34:22,492: INFO: common: Created directory at: artifacts/prepare_base_model]\n",
      "[2025-09-16 20:34:22,587: DEBUG: command: cmd: where.exe tbb.dll\n",
      "cwd: None]\n",
      "[2025-09-16 20:34:22,661: DEBUG: model: Adding TBB (c:\\Users\\rohan\\.conda\\envs\\tensorflow\\Lib\\site-packages\\prophet\\stan_model\\cmdstan-2.33.1\\stan\\lib\\stan_math\\lib\\tbb) to PATH]\n",
      "[2025-09-16 20:34:22,664: INFO: 1068067062: Base model prepared]\n",
      "[2025-09-16 20:34:22,666: INFO: 1068067062: Model saved at path artifacts\\prepare_base_model\\base_model.pkl]\n"
     ]
    }
   ],
   "source": [
    "try:\n",
    "    config=ConfigurationManager()\n",
    "    base_model_prep=BaseModelPrep(config.getPrepareBaseModelConfig())\n",
    "    base_model_prep.save_base_model()\n",
    "except Exception as e:\n",
    "    raise e"
   ]
  },
  {
   "cell_type": "code",
   "execution_count": 13,
   "id": "01ff0501",
   "metadata": {},
   "outputs": [],
   "source": [
    "class ModelTrain:\n",
    "    def __init__(self,config:ModelTrainingConfig):\n",
    "        self.config=config\n",
    "        self.dataset=None\n",
    "        self.models={}\n",
    "        self.base_params=None\n",
    "    \n",
    "    def load_dataset(self):\n",
    "        df_path=self.config.dataset_path\n",
    "        df=pd.read_csv(df_path)\n",
    "        self.dataset=df\n",
    "        logger.info(\"Dataset loaded for model tarining\")\n",
    "\n",
    "    def load_base_model_params(self):\n",
    "        if self.base_params is not None:\n",
    "            return self.base_params\n",
    "\n",
    "        base_model_path=self.config.base_model_path\n",
    "\n",
    "        if not Path(base_model_path).exists():\n",
    "            raise FileNotFoundError(f\"No base model at {base_model_path}\")\n",
    "        \n",
    "        with open(base_model_path,'rb') as f:\n",
    "            base_model=pickle.load(f)\n",
    "        logger.info(\"Base model loaded successfully\")\n",
    "    \n",
    "        # Debug: Log base model attributes\n",
    "        logger.info(f\"Base model type: {type(base_model)}\")\n",
    "\n",
    "        self.base_params = {\n",
    "        'growth': str(getattr(base_model, 'growth', 'linear')),\n",
    "        'seasonality_mode': str(getattr(base_model, 'seasonality_mode', 'multiplicative')),\n",
    "        'daily_seasonality': bool(getattr(base_model, 'daily_seasonality', False)),\n",
    "        'weekly_seasonality': bool(getattr(base_model, 'weekly_seasonality', True)),\n",
    "        'yearly_seasonality': bool(getattr(base_model, 'yearly_seasonality', True)),\n",
    "        'changepoint_prior_scale': float(getattr(base_model, 'changepoint_prior_scale', 0.05)),\n",
    "        'seasonality_prior_scale': float(getattr(base_model, 'seasonality_prior_scale', 10.0)),\n",
    "        'holidays_prior_scale': float(getattr(base_model, 'holidays_prior_scale', 10.0)),\n",
    "        'interval_width': float(getattr(base_model, 'interval_width', 0.80)),\n",
    "        'mcmc_samples': int(getattr(base_model, 'mcmc_samples', 0)),\n",
    "        'uncertainty_samples': int(getattr(base_model, 'uncertainty_samples', 1000))\n",
    "    }\n",
    "        if self.base_params['seasonality_mode'] not in ['additive', 'multiplicative']:\n",
    "            logger.warning(f\"Invalid seasonality_mode: {self.base_params['seasonality_mode']}, using 'multiplicative'\")\n",
    "            self.base_params['seasonality_mode'] = 'multiplicative'\n",
    "        \n",
    "        logger.info(\"Extracted base model parameters:\")\n",
    "        for key, value in self.base_params.items():\n",
    "            logger.info(f\"  {key} ({type(value).__name__}): {value}\")\n",
    "    \n",
    "    def create_new_model_instance(self)->Prophet:\n",
    "        self.load_base_model_params()\n",
    "        model=Prophet(**self.base_params)\n",
    "        logger.info(f\"Created base model's new instance\")\n",
    "        return model\n",
    "\n",
    "    def store_data_prep(self,store_id:int)->pd.DataFrame:\n",
    "        store_data=self.dataset[self.dataset[self.config.store_column]==store_id]\n",
    "\n",
    "        store_data=store_data[[self.config.date_column,self.config.target_column]]\n",
    "        store_data=store_data.groupby(self.config.date_column).sum()\n",
    "        store_data.reset_index(inplace=True)\n",
    "        store_data.columns=['ds','y']\n",
    "        logger.info(f\"Data prepared for store {store_id}\")\n",
    "        return store_data\n",
    "    \n",
    "    def train_store(self,store_id:int)->Prophet:\n",
    "        logger.info(f\"Started training for store {store_id}\")\n",
    "        data=self.store_data_prep(store_id=store_id)\n",
    "        train_data=data.iloc[:self.config.train_split]\n",
    "        model=self.create_new_model_instance()\n",
    "        model.fit(train_data)\n",
    "        self.models[store_id]=model\n",
    "        logger.info(f\"Model trained for store {store_id}\")\n",
    "        return model\n",
    "    \n",
    "    def trainAll(self):\n",
    "        stores=self.dataset[self.config.store_column].unique()\n",
    "        logger.info(f\"Starting model training for {len(stores)} stores\")\n",
    "\n",
    "        for store_id in stores:\n",
    "            #store_data=self.store_data_prep(store_id)\n",
    "            self.train_store(store_id)\n",
    "            logger.info(f\"Model trained for store {store_id}\")\n",
    "    \n",
    "    def save_models(self):\n",
    "        save_dir = Path(self.config.trained_model_path)\n",
    "        save_dir.mkdir(parents=True, exist_ok=True)\n",
    "        for store_id,model in self.models.items():\n",
    "            model_path=self.config.trained_model_path/f\"prophet_{store_id}.pkl\"\n",
    "            with open(model_path,'wb') as f:\n",
    "                pickle.dump(model,f)\n",
    "            logger.info(f\"model saved for store {store_id} at {model_path}\")"
   ]
  },
  {
   "cell_type": "code",
   "execution_count": 14,
   "id": "7c9ead2e",
   "metadata": {},
   "outputs": [
    {
     "name": "stdout",
     "output_type": "stream",
     "text": [
      "[2025-09-16 20:34:22,716: INFO: common: yaml file: config\\config.yaml loaded successfully]\n",
      "[2025-09-16 20:34:22,721: INFO: common: yaml file: params.yaml loaded successfully]\n",
      "[2025-09-16 20:34:22,725: INFO: common: Created directory at: artifacts]\n",
      "[2025-09-16 20:34:22,727: INFO: common: Created directory at: artifacts/model_train]\n",
      "[2025-09-16 20:34:25,120: INFO: 465351063: Dataset loaded for model tarining]\n",
      "[2025-09-16 20:34:25,138: INFO: 465351063: Starting model training for 45 stores]\n",
      "[2025-09-16 20:34:25,138: INFO: 465351063: Started training for store 1]\n",
      "[2025-09-16 20:34:25,152: INFO: 465351063: Data prepared for store 1]\n",
      "[2025-09-16 20:34:25,156: INFO: 465351063: Base model loaded successfully]\n",
      "[2025-09-16 20:34:25,158: INFO: 465351063: Base model type: <class 'prophet.forecaster.Prophet'>]\n",
      "[2025-09-16 20:34:25,159: INFO: 465351063: Extracted base model parameters:]\n",
      "[2025-09-16 20:34:25,161: INFO: 465351063:   growth (str): linear]\n",
      "[2025-09-16 20:34:25,161: INFO: 465351063:   seasonality_mode (str): multiplicative]\n",
      "[2025-09-16 20:34:25,161: INFO: 465351063:   daily_seasonality (bool): True]\n",
      "[2025-09-16 20:34:25,165: INFO: 465351063:   weekly_seasonality (bool): True]\n",
      "[2025-09-16 20:34:25,167: INFO: 465351063:   yearly_seasonality (bool): True]\n",
      "[2025-09-16 20:34:25,169: INFO: 465351063:   changepoint_prior_scale (float): 0.05]\n",
      "[2025-09-16 20:34:25,171: INFO: 465351063:   seasonality_prior_scale (float): 10.0]\n",
      "[2025-09-16 20:34:25,171: INFO: 465351063:   holidays_prior_scale (float): 10.0]\n",
      "[2025-09-16 20:34:25,173: INFO: 465351063:   interval_width (float): 0.8]\n",
      "[2025-09-16 20:34:25,173: INFO: 465351063:   mcmc_samples (int): 0]\n",
      "[2025-09-16 20:34:25,176: INFO: 465351063:   uncertainty_samples (int): 1000]\n",
      "[2025-09-16 20:34:25,182: DEBUG: command: cmd: where.exe tbb.dll\n",
      "cwd: None]\n",
      "[2025-09-16 20:34:25,324: DEBUG: model: TBB already found in load path]\n",
      "[2025-09-16 20:34:25,324: INFO: 465351063: Created base model's new instance]\n",
      "[2025-09-16 20:34:25,372: DEBUG: filesystem: input tempfile: C:\\Users\\rohan\\AppData\\Local\\Temp\\tmpsnym8bm2\\r3q8pjkb.json]\n",
      "[2025-09-16 20:34:25,389: DEBUG: filesystem: input tempfile: C:\\Users\\rohan\\AppData\\Local\\Temp\\tmpsnym8bm2\\gywjgupy.json]\n",
      "[2025-09-16 20:34:25,394: DEBUG: model: idx 0]\n",
      "[2025-09-16 20:34:25,394: DEBUG: model: running CmdStan, num_threads: None]\n",
      "[2025-09-16 20:34:25,394: DEBUG: model: CmdStan args: ['C:\\\\Users\\\\rohan\\\\.conda\\\\envs\\\\tensorflow\\\\Lib\\\\site-packages\\\\prophet\\\\stan_model\\\\prophet_model.bin', 'random', 'seed=55823', 'data', 'file=C:\\\\Users\\\\rohan\\\\AppData\\\\Local\\\\Temp\\\\tmpsnym8bm2\\\\r3q8pjkb.json', 'init=C:\\\\Users\\\\rohan\\\\AppData\\\\Local\\\\Temp\\\\tmpsnym8bm2\\\\gywjgupy.json', 'output', 'file=C:\\\\Users\\\\rohan\\\\AppData\\\\Local\\\\Temp\\\\tmpsnym8bm2\\\\prophet_model78b5kz4o\\\\prophet_model-20250916203425.csv', 'method=optimize', 'algorithm=lbfgs', 'iter=10000']]\n"
     ]
    },
    {
     "name": "stderr",
     "output_type": "stream",
     "text": [
      "20:34:25 - cmdstanpy - INFO - Chain [1] start processing\n"
     ]
    },
    {
     "name": "stdout",
     "output_type": "stream",
     "text": [
      "[2025-09-16 20:34:25,397: INFO: model: Chain [1] start processing]\n"
     ]
    },
    {
     "name": "stderr",
     "output_type": "stream",
     "text": [
      "20:34:25 - cmdstanpy - INFO - Chain [1] done processing\n"
     ]
    },
    {
     "name": "stdout",
     "output_type": "stream",
     "text": [
      "[2025-09-16 20:34:25,462: INFO: model: Chain [1] done processing]\n",
      "[2025-09-16 20:34:25,480: INFO: 465351063: Model trained for store 1]\n",
      "[2025-09-16 20:34:25,481: INFO: 465351063: Model trained for store 1]\n",
      "[2025-09-16 20:34:25,482: INFO: 465351063: Started training for store 2]\n",
      "[2025-09-16 20:34:25,490: INFO: 465351063: Data prepared for store 2]\n",
      "[2025-09-16 20:34:25,494: DEBUG: command: cmd: where.exe tbb.dll\n",
      "cwd: None]\n",
      "[2025-09-16 20:34:25,559: DEBUG: model: TBB already found in load path]\n",
      "[2025-09-16 20:34:25,559: INFO: 465351063: Created base model's new instance]\n",
      "[2025-09-16 20:34:25,577: DEBUG: filesystem: input tempfile: C:\\Users\\rohan\\AppData\\Local\\Temp\\tmpsnym8bm2\\a_9jvg2g.json]\n",
      "[2025-09-16 20:34:25,598: DEBUG: filesystem: input tempfile: C:\\Users\\rohan\\AppData\\Local\\Temp\\tmpsnym8bm2\\rvjm3lqf.json]\n",
      "[2025-09-16 20:34:25,601: DEBUG: model: idx 0]\n",
      "[2025-09-16 20:34:25,601: DEBUG: model: running CmdStan, num_threads: None]\n",
      "[2025-09-16 20:34:25,604: DEBUG: model: CmdStan args: ['C:\\\\Users\\\\rohan\\\\.conda\\\\envs\\\\tensorflow\\\\Lib\\\\site-packages\\\\prophet\\\\stan_model\\\\prophet_model.bin', 'random', 'seed=45434', 'data', 'file=C:\\\\Users\\\\rohan\\\\AppData\\\\Local\\\\Temp\\\\tmpsnym8bm2\\\\a_9jvg2g.json', 'init=C:\\\\Users\\\\rohan\\\\AppData\\\\Local\\\\Temp\\\\tmpsnym8bm2\\\\rvjm3lqf.json', 'output', 'file=C:\\\\Users\\\\rohan\\\\AppData\\\\Local\\\\Temp\\\\tmpsnym8bm2\\\\prophet_modelh6xauemj\\\\prophet_model-20250916203425.csv', 'method=optimize', 'algorithm=lbfgs', 'iter=10000']]\n"
     ]
    },
    {
     "name": "stderr",
     "output_type": "stream",
     "text": [
      "20:34:25 - cmdstanpy - INFO - Chain [1] start processing\n"
     ]
    },
    {
     "name": "stdout",
     "output_type": "stream",
     "text": [
      "[2025-09-16 20:34:25,604: INFO: model: Chain [1] start processing]\n"
     ]
    },
    {
     "name": "stderr",
     "output_type": "stream",
     "text": [
      "20:34:25 - cmdstanpy - INFO - Chain [1] done processing\n"
     ]
    },
    {
     "name": "stdout",
     "output_type": "stream",
     "text": [
      "[2025-09-16 20:34:25,668: INFO: model: Chain [1] done processing]\n",
      "[2025-09-16 20:34:25,687: INFO: 465351063: Model trained for store 2]\n",
      "[2025-09-16 20:34:25,690: INFO: 465351063: Model trained for store 2]\n",
      "[2025-09-16 20:34:25,690: INFO: 465351063: Started training for store 3]\n",
      "[2025-09-16 20:34:25,693: INFO: 465351063: Data prepared for store 3]\n",
      "[2025-09-16 20:34:25,702: DEBUG: command: cmd: where.exe tbb.dll\n",
      "cwd: None]\n",
      "[2025-09-16 20:34:25,765: DEBUG: model: TBB already found in load path]\n",
      "[2025-09-16 20:34:25,765: INFO: 465351063: Created base model's new instance]\n",
      "[2025-09-16 20:34:25,786: DEBUG: filesystem: input tempfile: C:\\Users\\rohan\\AppData\\Local\\Temp\\tmpsnym8bm2\\a4fstfxw.json]\n",
      "[2025-09-16 20:34:25,802: DEBUG: filesystem: input tempfile: C:\\Users\\rohan\\AppData\\Local\\Temp\\tmpsnym8bm2\\tg58y1w3.json]\n",
      "[2025-09-16 20:34:25,805: DEBUG: model: idx 0]\n",
      "[2025-09-16 20:34:25,807: DEBUG: model: running CmdStan, num_threads: None]\n",
      "[2025-09-16 20:34:25,807: DEBUG: model: CmdStan args: ['C:\\\\Users\\\\rohan\\\\.conda\\\\envs\\\\tensorflow\\\\Lib\\\\site-packages\\\\prophet\\\\stan_model\\\\prophet_model.bin', 'random', 'seed=36428', 'data', 'file=C:\\\\Users\\\\rohan\\\\AppData\\\\Local\\\\Temp\\\\tmpsnym8bm2\\\\a4fstfxw.json', 'init=C:\\\\Users\\\\rohan\\\\AppData\\\\Local\\\\Temp\\\\tmpsnym8bm2\\\\tg58y1w3.json', 'output', 'file=C:\\\\Users\\\\rohan\\\\AppData\\\\Local\\\\Temp\\\\tmpsnym8bm2\\\\prophet_modeltbrkgrqb\\\\prophet_model-20250916203425.csv', 'method=optimize', 'algorithm=lbfgs', 'iter=10000']]\n"
     ]
    },
    {
     "name": "stderr",
     "output_type": "stream",
     "text": [
      "20:34:25 - cmdstanpy - INFO - Chain [1] start processing\n"
     ]
    },
    {
     "name": "stdout",
     "output_type": "stream",
     "text": [
      "[2025-09-16 20:34:25,811: INFO: model: Chain [1] start processing]\n"
     ]
    },
    {
     "name": "stderr",
     "output_type": "stream",
     "text": [
      "20:34:25 - cmdstanpy - INFO - Chain [1] done processing\n"
     ]
    },
    {
     "name": "stdout",
     "output_type": "stream",
     "text": [
      "[2025-09-16 20:34:25,862: INFO: model: Chain [1] done processing]\n",
      "[2025-09-16 20:34:25,878: INFO: 465351063: Model trained for store 3]\n",
      "[2025-09-16 20:34:25,878: INFO: 465351063: Model trained for store 3]\n",
      "[2025-09-16 20:34:25,880: INFO: 465351063: Started training for store 4]\n",
      "[2025-09-16 20:34:25,888: INFO: 465351063: Data prepared for store 4]\n",
      "[2025-09-16 20:34:25,888: DEBUG: command: cmd: where.exe tbb.dll\n",
      "cwd: None]\n",
      "[2025-09-16 20:34:25,955: DEBUG: model: TBB already found in load path]\n",
      "[2025-09-16 20:34:25,955: INFO: 465351063: Created base model's new instance]\n",
      "[2025-09-16 20:34:25,977: DEBUG: filesystem: input tempfile: C:\\Users\\rohan\\AppData\\Local\\Temp\\tmpsnym8bm2\\oxttz6m9.json]\n",
      "[2025-09-16 20:34:25,980: DEBUG: filesystem: input tempfile: C:\\Users\\rohan\\AppData\\Local\\Temp\\tmpsnym8bm2\\dmr22kr6.json]\n",
      "[2025-09-16 20:34:25,994: DEBUG: model: idx 0]\n",
      "[2025-09-16 20:34:25,996: DEBUG: model: running CmdStan, num_threads: None]\n",
      "[2025-09-16 20:34:25,996: DEBUG: model: CmdStan args: ['C:\\\\Users\\\\rohan\\\\.conda\\\\envs\\\\tensorflow\\\\Lib\\\\site-packages\\\\prophet\\\\stan_model\\\\prophet_model.bin', 'random', 'seed=85300', 'data', 'file=C:\\\\Users\\\\rohan\\\\AppData\\\\Local\\\\Temp\\\\tmpsnym8bm2\\\\oxttz6m9.json', 'init=C:\\\\Users\\\\rohan\\\\AppData\\\\Local\\\\Temp\\\\tmpsnym8bm2\\\\dmr22kr6.json', 'output', 'file=C:\\\\Users\\\\rohan\\\\AppData\\\\Local\\\\Temp\\\\tmpsnym8bm2\\\\prophet_modelyfjac8lz\\\\prophet_model-20250916203425.csv', 'method=optimize', 'algorithm=lbfgs', 'iter=10000']]\n"
     ]
    },
    {
     "name": "stderr",
     "output_type": "stream",
     "text": [
      "20:34:25 - cmdstanpy - INFO - Chain [1] start processing\n"
     ]
    },
    {
     "name": "stdout",
     "output_type": "stream",
     "text": [
      "[2025-09-16 20:34:25,996: INFO: model: Chain [1] start processing]\n"
     ]
    },
    {
     "name": "stderr",
     "output_type": "stream",
     "text": [
      "20:34:26 - cmdstanpy - INFO - Chain [1] done processing\n"
     ]
    },
    {
     "name": "stdout",
     "output_type": "stream",
     "text": [
      "[2025-09-16 20:34:26,044: INFO: model: Chain [1] done processing]\n",
      "[2025-09-16 20:34:26,055: INFO: 465351063: Model trained for store 4]\n",
      "[2025-09-16 20:34:26,060: INFO: 465351063: Model trained for store 4]\n",
      "[2025-09-16 20:34:26,060: INFO: 465351063: Started training for store 5]\n",
      "[2025-09-16 20:34:26,069: INFO: 465351063: Data prepared for store 5]\n",
      "[2025-09-16 20:34:26,072: DEBUG: command: cmd: where.exe tbb.dll\n",
      "cwd: None]\n",
      "[2025-09-16 20:34:26,141: DEBUG: model: TBB already found in load path]\n",
      "[2025-09-16 20:34:26,141: INFO: 465351063: Created base model's new instance]\n",
      "[2025-09-16 20:34:26,159: DEBUG: filesystem: input tempfile: C:\\Users\\rohan\\AppData\\Local\\Temp\\tmpsnym8bm2\\gqdhsbh8.json]\n",
      "[2025-09-16 20:34:26,181: DEBUG: filesystem: input tempfile: C:\\Users\\rohan\\AppData\\Local\\Temp\\tmpsnym8bm2\\e9n9gnc3.json]\n",
      "[2025-09-16 20:34:26,187: DEBUG: model: idx 0]\n",
      "[2025-09-16 20:34:26,190: DEBUG: model: running CmdStan, num_threads: None]\n",
      "[2025-09-16 20:34:26,190: DEBUG: model: CmdStan args: ['C:\\\\Users\\\\rohan\\\\.conda\\\\envs\\\\tensorflow\\\\Lib\\\\site-packages\\\\prophet\\\\stan_model\\\\prophet_model.bin', 'random', 'seed=25332', 'data', 'file=C:\\\\Users\\\\rohan\\\\AppData\\\\Local\\\\Temp\\\\tmpsnym8bm2\\\\gqdhsbh8.json', 'init=C:\\\\Users\\\\rohan\\\\AppData\\\\Local\\\\Temp\\\\tmpsnym8bm2\\\\e9n9gnc3.json', 'output', 'file=C:\\\\Users\\\\rohan\\\\AppData\\\\Local\\\\Temp\\\\tmpsnym8bm2\\\\prophet_modelbojncasp\\\\prophet_model-20250916203426.csv', 'method=optimize', 'algorithm=lbfgs', 'iter=10000']]\n"
     ]
    },
    {
     "name": "stderr",
     "output_type": "stream",
     "text": [
      "20:34:26 - cmdstanpy - INFO - Chain [1] start processing\n"
     ]
    },
    {
     "name": "stdout",
     "output_type": "stream",
     "text": [
      "[2025-09-16 20:34:26,192: INFO: model: Chain [1] start processing]\n"
     ]
    },
    {
     "name": "stderr",
     "output_type": "stream",
     "text": [
      "20:34:26 - cmdstanpy - INFO - Chain [1] done processing\n"
     ]
    },
    {
     "name": "stdout",
     "output_type": "stream",
     "text": [
      "[2025-09-16 20:34:26,245: INFO: model: Chain [1] done processing]\n",
      "[2025-09-16 20:34:26,261: INFO: 465351063: Model trained for store 5]\n",
      "[2025-09-16 20:34:26,261: INFO: 465351063: Model trained for store 5]\n",
      "[2025-09-16 20:34:26,263: INFO: 465351063: Started training for store 6]\n",
      "[2025-09-16 20:34:26,270: INFO: 465351063: Data prepared for store 6]\n",
      "[2025-09-16 20:34:26,275: DEBUG: command: cmd: where.exe tbb.dll\n",
      "cwd: None]\n",
      "[2025-09-16 20:34:26,340: DEBUG: model: TBB already found in load path]\n",
      "[2025-09-16 20:34:26,340: INFO: 465351063: Created base model's new instance]\n",
      "[2025-09-16 20:34:26,363: DEBUG: filesystem: input tempfile: C:\\Users\\rohan\\AppData\\Local\\Temp\\tmpsnym8bm2\\dw25ef_p.json]\n",
      "[2025-09-16 20:34:26,376: DEBUG: filesystem: input tempfile: C:\\Users\\rohan\\AppData\\Local\\Temp\\tmpsnym8bm2\\fmptj_qh.json]\n",
      "[2025-09-16 20:34:26,383: DEBUG: model: idx 0]\n",
      "[2025-09-16 20:34:26,383: DEBUG: model: running CmdStan, num_threads: None]\n",
      "[2025-09-16 20:34:26,387: DEBUG: model: CmdStan args: ['C:\\\\Users\\\\rohan\\\\.conda\\\\envs\\\\tensorflow\\\\Lib\\\\site-packages\\\\prophet\\\\stan_model\\\\prophet_model.bin', 'random', 'seed=89982', 'data', 'file=C:\\\\Users\\\\rohan\\\\AppData\\\\Local\\\\Temp\\\\tmpsnym8bm2\\\\dw25ef_p.json', 'init=C:\\\\Users\\\\rohan\\\\AppData\\\\Local\\\\Temp\\\\tmpsnym8bm2\\\\fmptj_qh.json', 'output', 'file=C:\\\\Users\\\\rohan\\\\AppData\\\\Local\\\\Temp\\\\tmpsnym8bm2\\\\prophet_modell_hhiten\\\\prophet_model-20250916203426.csv', 'method=optimize', 'algorithm=lbfgs', 'iter=10000']]\n"
     ]
    },
    {
     "name": "stderr",
     "output_type": "stream",
     "text": [
      "20:34:26 - cmdstanpy - INFO - Chain [1] start processing\n"
     ]
    },
    {
     "name": "stdout",
     "output_type": "stream",
     "text": [
      "[2025-09-16 20:34:26,388: INFO: model: Chain [1] start processing]\n"
     ]
    },
    {
     "name": "stderr",
     "output_type": "stream",
     "text": [
      "20:34:26 - cmdstanpy - INFO - Chain [1] done processing\n"
     ]
    },
    {
     "name": "stdout",
     "output_type": "stream",
     "text": [
      "[2025-09-16 20:34:26,435: INFO: model: Chain [1] done processing]\n",
      "[2025-09-16 20:34:26,488: INFO: 465351063: Model trained for store 6]\n",
      "[2025-09-16 20:34:26,490: INFO: 465351063: Model trained for store 6]\n",
      "[2025-09-16 20:34:26,492: INFO: 465351063: Started training for store 7]\n",
      "[2025-09-16 20:34:26,502: INFO: 465351063: Data prepared for store 7]\n",
      "[2025-09-16 20:34:26,508: DEBUG: command: cmd: where.exe tbb.dll\n",
      "cwd: None]\n",
      "[2025-09-16 20:34:26,585: DEBUG: model: TBB already found in load path]\n",
      "[2025-09-16 20:34:26,586: INFO: 465351063: Created base model's new instance]\n",
      "[2025-09-16 20:34:26,604: DEBUG: filesystem: input tempfile: C:\\Users\\rohan\\AppData\\Local\\Temp\\tmpsnym8bm2\\_p0zbwim.json]\n",
      "[2025-09-16 20:34:26,611: DEBUG: filesystem: input tempfile: C:\\Users\\rohan\\AppData\\Local\\Temp\\tmpsnym8bm2\\0tzalleg.json]\n",
      "[2025-09-16 20:34:26,621: DEBUG: model: idx 0]\n",
      "[2025-09-16 20:34:26,621: DEBUG: model: running CmdStan, num_threads: None]\n",
      "[2025-09-16 20:34:26,621: DEBUG: model: CmdStan args: ['C:\\\\Users\\\\rohan\\\\.conda\\\\envs\\\\tensorflow\\\\Lib\\\\site-packages\\\\prophet\\\\stan_model\\\\prophet_model.bin', 'random', 'seed=68706', 'data', 'file=C:\\\\Users\\\\rohan\\\\AppData\\\\Local\\\\Temp\\\\tmpsnym8bm2\\\\_p0zbwim.json', 'init=C:\\\\Users\\\\rohan\\\\AppData\\\\Local\\\\Temp\\\\tmpsnym8bm2\\\\0tzalleg.json', 'output', 'file=C:\\\\Users\\\\rohan\\\\AppData\\\\Local\\\\Temp\\\\tmpsnym8bm2\\\\prophet_modeldpoxqnlq\\\\prophet_model-20250916203426.csv', 'method=optimize', 'algorithm=lbfgs', 'iter=10000']]\n"
     ]
    },
    {
     "name": "stderr",
     "output_type": "stream",
     "text": [
      "20:34:26 - cmdstanpy - INFO - Chain [1] start processing\n"
     ]
    },
    {
     "name": "stdout",
     "output_type": "stream",
     "text": [
      "[2025-09-16 20:34:26,626: INFO: model: Chain [1] start processing]\n"
     ]
    },
    {
     "name": "stderr",
     "output_type": "stream",
     "text": [
      "20:34:26 - cmdstanpy - INFO - Chain [1] done processing\n"
     ]
    },
    {
     "name": "stdout",
     "output_type": "stream",
     "text": [
      "[2025-09-16 20:34:26,680: INFO: model: Chain [1] done processing]\n",
      "[2025-09-16 20:34:26,694: INFO: 465351063: Model trained for store 7]\n",
      "[2025-09-16 20:34:26,694: INFO: 465351063: Model trained for store 7]\n",
      "[2025-09-16 20:34:26,694: INFO: 465351063: Started training for store 8]\n",
      "[2025-09-16 20:34:26,703: INFO: 465351063: Data prepared for store 8]\n",
      "[2025-09-16 20:34:26,707: DEBUG: command: cmd: where.exe tbb.dll\n",
      "cwd: None]\n",
      "[2025-09-16 20:34:26,770: DEBUG: model: TBB already found in load path]\n",
      "[2025-09-16 20:34:26,770: INFO: 465351063: Created base model's new instance]\n",
      "[2025-09-16 20:34:26,791: DEBUG: filesystem: input tempfile: C:\\Users\\rohan\\AppData\\Local\\Temp\\tmpsnym8bm2\\8ndcur4p.json]\n",
      "[2025-09-16 20:34:26,803: DEBUG: filesystem: input tempfile: C:\\Users\\rohan\\AppData\\Local\\Temp\\tmpsnym8bm2\\53vkouek.json]\n",
      "[2025-09-16 20:34:26,811: DEBUG: model: idx 0]\n",
      "[2025-09-16 20:34:26,811: DEBUG: model: running CmdStan, num_threads: None]\n",
      "[2025-09-16 20:34:26,811: DEBUG: model: CmdStan args: ['C:\\\\Users\\\\rohan\\\\.conda\\\\envs\\\\tensorflow\\\\Lib\\\\site-packages\\\\prophet\\\\stan_model\\\\prophet_model.bin', 'random', 'seed=73043', 'data', 'file=C:\\\\Users\\\\rohan\\\\AppData\\\\Local\\\\Temp\\\\tmpsnym8bm2\\\\8ndcur4p.json', 'init=C:\\\\Users\\\\rohan\\\\AppData\\\\Local\\\\Temp\\\\tmpsnym8bm2\\\\53vkouek.json', 'output', 'file=C:\\\\Users\\\\rohan\\\\AppData\\\\Local\\\\Temp\\\\tmpsnym8bm2\\\\prophet_modelfhlnri1s\\\\prophet_model-20250916203426.csv', 'method=optimize', 'algorithm=lbfgs', 'iter=10000']]\n"
     ]
    },
    {
     "name": "stderr",
     "output_type": "stream",
     "text": [
      "20:34:26 - cmdstanpy - INFO - Chain [1] start processing\n"
     ]
    },
    {
     "name": "stdout",
     "output_type": "stream",
     "text": [
      "[2025-09-16 20:34:26,816: INFO: model: Chain [1] start processing]\n"
     ]
    },
    {
     "name": "stderr",
     "output_type": "stream",
     "text": [
      "20:34:26 - cmdstanpy - INFO - Chain [1] done processing\n"
     ]
    },
    {
     "name": "stdout",
     "output_type": "stream",
     "text": [
      "[2025-09-16 20:34:26,860: INFO: model: Chain [1] done processing]\n",
      "[2025-09-16 20:34:26,875: INFO: 465351063: Model trained for store 8]\n",
      "[2025-09-16 20:34:26,875: INFO: 465351063: Model trained for store 8]\n",
      "[2025-09-16 20:34:26,875: INFO: 465351063: Started training for store 9]\n",
      "[2025-09-16 20:34:26,886: INFO: 465351063: Data prepared for store 9]\n",
      "[2025-09-16 20:34:26,888: DEBUG: command: cmd: where.exe tbb.dll\n",
      "cwd: None]\n",
      "[2025-09-16 20:34:26,953: DEBUG: model: TBB already found in load path]\n",
      "[2025-09-16 20:34:26,953: INFO: 465351063: Created base model's new instance]\n",
      "[2025-09-16 20:34:26,967: DEBUG: filesystem: input tempfile: C:\\Users\\rohan\\AppData\\Local\\Temp\\tmpsnym8bm2\\xkra3jv1.json]\n",
      "[2025-09-16 20:34:26,986: DEBUG: filesystem: input tempfile: C:\\Users\\rohan\\AppData\\Local\\Temp\\tmpsnym8bm2\\o5_sx1o_.json]\n",
      "[2025-09-16 20:34:26,986: DEBUG: model: idx 0]\n",
      "[2025-09-16 20:34:26,994: DEBUG: model: running CmdStan, num_threads: None]\n",
      "[2025-09-16 20:34:26,995: DEBUG: model: CmdStan args: ['C:\\\\Users\\\\rohan\\\\.conda\\\\envs\\\\tensorflow\\\\Lib\\\\site-packages\\\\prophet\\\\stan_model\\\\prophet_model.bin', 'random', 'seed=88416', 'data', 'file=C:\\\\Users\\\\rohan\\\\AppData\\\\Local\\\\Temp\\\\tmpsnym8bm2\\\\xkra3jv1.json', 'init=C:\\\\Users\\\\rohan\\\\AppData\\\\Local\\\\Temp\\\\tmpsnym8bm2\\\\o5_sx1o_.json', 'output', 'file=C:\\\\Users\\\\rohan\\\\AppData\\\\Local\\\\Temp\\\\tmpsnym8bm2\\\\prophet_modelj5eyv6xv\\\\prophet_model-20250916203426.csv', 'method=optimize', 'algorithm=lbfgs', 'iter=10000']]\n"
     ]
    },
    {
     "name": "stderr",
     "output_type": "stream",
     "text": [
      "20:34:26 - cmdstanpy - INFO - Chain [1] start processing\n"
     ]
    },
    {
     "name": "stdout",
     "output_type": "stream",
     "text": [
      "[2025-09-16 20:34:26,996: INFO: model: Chain [1] start processing]\n"
     ]
    },
    {
     "name": "stderr",
     "output_type": "stream",
     "text": [
      "20:34:27 - cmdstanpy - INFO - Chain [1] done processing\n"
     ]
    },
    {
     "name": "stdout",
     "output_type": "stream",
     "text": [
      "[2025-09-16 20:34:27,044: INFO: model: Chain [1] done processing]\n",
      "[2025-09-16 20:34:27,060: INFO: 465351063: Model trained for store 9]\n",
      "[2025-09-16 20:34:27,060: INFO: 465351063: Model trained for store 9]\n",
      "[2025-09-16 20:34:27,064: INFO: 465351063: Started training for store 10]\n",
      "[2025-09-16 20:34:27,072: INFO: 465351063: Data prepared for store 10]\n",
      "[2025-09-16 20:34:27,076: DEBUG: command: cmd: where.exe tbb.dll\n",
      "cwd: None]\n",
      "[2025-09-16 20:34:27,145: DEBUG: model: TBB already found in load path]\n",
      "[2025-09-16 20:34:27,145: INFO: 465351063: Created base model's new instance]\n",
      "[2025-09-16 20:34:27,168: DEBUG: filesystem: input tempfile: C:\\Users\\rohan\\AppData\\Local\\Temp\\tmpsnym8bm2\\lb946okh.json]\n",
      "[2025-09-16 20:34:27,181: DEBUG: filesystem: input tempfile: C:\\Users\\rohan\\AppData\\Local\\Temp\\tmpsnym8bm2\\sy7smfnn.json]\n",
      "[2025-09-16 20:34:27,185: DEBUG: model: idx 0]\n",
      "[2025-09-16 20:34:27,185: DEBUG: model: running CmdStan, num_threads: None]\n",
      "[2025-09-16 20:34:27,185: DEBUG: model: CmdStan args: ['C:\\\\Users\\\\rohan\\\\.conda\\\\envs\\\\tensorflow\\\\Lib\\\\site-packages\\\\prophet\\\\stan_model\\\\prophet_model.bin', 'random', 'seed=32587', 'data', 'file=C:\\\\Users\\\\rohan\\\\AppData\\\\Local\\\\Temp\\\\tmpsnym8bm2\\\\lb946okh.json', 'init=C:\\\\Users\\\\rohan\\\\AppData\\\\Local\\\\Temp\\\\tmpsnym8bm2\\\\sy7smfnn.json', 'output', 'file=C:\\\\Users\\\\rohan\\\\AppData\\\\Local\\\\Temp\\\\tmpsnym8bm2\\\\prophet_modeltk4ranfd\\\\prophet_model-20250916203427.csv', 'method=optimize', 'algorithm=lbfgs', 'iter=10000']]\n"
     ]
    },
    {
     "name": "stderr",
     "output_type": "stream",
     "text": [
      "20:34:27 - cmdstanpy - INFO - Chain [1] start processing\n"
     ]
    },
    {
     "name": "stdout",
     "output_type": "stream",
     "text": [
      "[2025-09-16 20:34:27,188: INFO: model: Chain [1] start processing]\n"
     ]
    },
    {
     "name": "stderr",
     "output_type": "stream",
     "text": [
      "20:34:27 - cmdstanpy - INFO - Chain [1] done processing\n"
     ]
    },
    {
     "name": "stdout",
     "output_type": "stream",
     "text": [
      "[2025-09-16 20:34:27,235: INFO: model: Chain [1] done processing]\n",
      "[2025-09-16 20:34:27,256: INFO: 465351063: Model trained for store 10]\n",
      "[2025-09-16 20:34:27,256: INFO: 465351063: Model trained for store 10]\n",
      "[2025-09-16 20:34:27,256: INFO: 465351063: Started training for store 11]\n",
      "[2025-09-16 20:34:27,264: INFO: 465351063: Data prepared for store 11]\n",
      "[2025-09-16 20:34:27,268: DEBUG: command: cmd: where.exe tbb.dll\n",
      "cwd: None]\n",
      "[2025-09-16 20:34:27,334: DEBUG: model: TBB already found in load path]\n",
      "[2025-09-16 20:34:27,334: INFO: 465351063: Created base model's new instance]\n",
      "[2025-09-16 20:34:27,355: DEBUG: filesystem: input tempfile: C:\\Users\\rohan\\AppData\\Local\\Temp\\tmpsnym8bm2\\47vrod5p.json]\n",
      "[2025-09-16 20:34:27,370: DEBUG: filesystem: input tempfile: C:\\Users\\rohan\\AppData\\Local\\Temp\\tmpsnym8bm2\\kpid2kqj.json]\n",
      "[2025-09-16 20:34:27,373: DEBUG: model: idx 0]\n",
      "[2025-09-16 20:34:27,374: DEBUG: model: running CmdStan, num_threads: None]\n",
      "[2025-09-16 20:34:27,374: DEBUG: model: CmdStan args: ['C:\\\\Users\\\\rohan\\\\.conda\\\\envs\\\\tensorflow\\\\Lib\\\\site-packages\\\\prophet\\\\stan_model\\\\prophet_model.bin', 'random', 'seed=14121', 'data', 'file=C:\\\\Users\\\\rohan\\\\AppData\\\\Local\\\\Temp\\\\tmpsnym8bm2\\\\47vrod5p.json', 'init=C:\\\\Users\\\\rohan\\\\AppData\\\\Local\\\\Temp\\\\tmpsnym8bm2\\\\kpid2kqj.json', 'output', 'file=C:\\\\Users\\\\rohan\\\\AppData\\\\Local\\\\Temp\\\\tmpsnym8bm2\\\\prophet_model4uc3qeq5\\\\prophet_model-20250916203427.csv', 'method=optimize', 'algorithm=lbfgs', 'iter=10000']]\n"
     ]
    },
    {
     "name": "stderr",
     "output_type": "stream",
     "text": [
      "20:34:27 - cmdstanpy - INFO - Chain [1] start processing\n"
     ]
    },
    {
     "name": "stdout",
     "output_type": "stream",
     "text": [
      "[2025-09-16 20:34:27,376: INFO: model: Chain [1] start processing]\n"
     ]
    },
    {
     "name": "stderr",
     "output_type": "stream",
     "text": [
      "20:34:27 - cmdstanpy - INFO - Chain [1] done processing\n"
     ]
    },
    {
     "name": "stdout",
     "output_type": "stream",
     "text": [
      "[2025-09-16 20:34:27,427: INFO: model: Chain [1] done processing]\n",
      "[2025-09-16 20:34:27,442: INFO: 465351063: Model trained for store 11]\n",
      "[2025-09-16 20:34:27,444: INFO: 465351063: Model trained for store 11]\n",
      "[2025-09-16 20:34:27,444: INFO: 465351063: Started training for store 12]\n",
      "[2025-09-16 20:34:27,453: INFO: 465351063: Data prepared for store 12]\n",
      "[2025-09-16 20:34:27,456: DEBUG: command: cmd: where.exe tbb.dll\n",
      "cwd: None]\n",
      "[2025-09-16 20:34:27,520: DEBUG: model: TBB already found in load path]\n",
      "[2025-09-16 20:34:27,520: INFO: 465351063: Created base model's new instance]\n",
      "[2025-09-16 20:34:27,543: DEBUG: filesystem: input tempfile: C:\\Users\\rohan\\AppData\\Local\\Temp\\tmpsnym8bm2\\gu45eudc.json]\n",
      "[2025-09-16 20:34:27,557: DEBUG: filesystem: input tempfile: C:\\Users\\rohan\\AppData\\Local\\Temp\\tmpsnym8bm2\\_k1q3anj.json]\n",
      "[2025-09-16 20:34:27,568: DEBUG: model: idx 0]\n",
      "[2025-09-16 20:34:27,568: DEBUG: model: running CmdStan, num_threads: None]\n",
      "[2025-09-16 20:34:27,571: DEBUG: model: CmdStan args: ['C:\\\\Users\\\\rohan\\\\.conda\\\\envs\\\\tensorflow\\\\Lib\\\\site-packages\\\\prophet\\\\stan_model\\\\prophet_model.bin', 'random', 'seed=85596', 'data', 'file=C:\\\\Users\\\\rohan\\\\AppData\\\\Local\\\\Temp\\\\tmpsnym8bm2\\\\gu45eudc.json', 'init=C:\\\\Users\\\\rohan\\\\AppData\\\\Local\\\\Temp\\\\tmpsnym8bm2\\\\_k1q3anj.json', 'output', 'file=C:\\\\Users\\\\rohan\\\\AppData\\\\Local\\\\Temp\\\\tmpsnym8bm2\\\\prophet_modelrd32f8bi\\\\prophet_model-20250916203427.csv', 'method=optimize', 'algorithm=lbfgs', 'iter=10000']]\n"
     ]
    },
    {
     "name": "stderr",
     "output_type": "stream",
     "text": [
      "20:34:27 - cmdstanpy - INFO - Chain [1] start processing\n"
     ]
    },
    {
     "name": "stdout",
     "output_type": "stream",
     "text": [
      "[2025-09-16 20:34:27,573: INFO: model: Chain [1] start processing]\n"
     ]
    },
    {
     "name": "stderr",
     "output_type": "stream",
     "text": [
      "20:34:27 - cmdstanpy - INFO - Chain [1] done processing\n"
     ]
    },
    {
     "name": "stdout",
     "output_type": "stream",
     "text": [
      "[2025-09-16 20:34:27,618: INFO: model: Chain [1] done processing]\n",
      "[2025-09-16 20:34:27,630: INFO: 465351063: Model trained for store 12]\n",
      "[2025-09-16 20:34:27,630: INFO: 465351063: Model trained for store 12]\n",
      "[2025-09-16 20:34:27,630: INFO: 465351063: Started training for store 13]\n",
      "[2025-09-16 20:34:27,644: INFO: 465351063: Data prepared for store 13]\n",
      "[2025-09-16 20:34:27,646: DEBUG: command: cmd: where.exe tbb.dll\n",
      "cwd: None]\n",
      "[2025-09-16 20:34:27,710: DEBUG: model: TBB already found in load path]\n",
      "[2025-09-16 20:34:27,712: INFO: 465351063: Created base model's new instance]\n",
      "[2025-09-16 20:34:27,729: DEBUG: filesystem: input tempfile: C:\\Users\\rohan\\AppData\\Local\\Temp\\tmpsnym8bm2\\e0xbay3k.json]\n",
      "[2025-09-16 20:34:27,742: DEBUG: filesystem: input tempfile: C:\\Users\\rohan\\AppData\\Local\\Temp\\tmpsnym8bm2\\_imhz3lo.json]\n",
      "[2025-09-16 20:34:27,750: DEBUG: model: idx 0]\n",
      "[2025-09-16 20:34:27,751: DEBUG: model: running CmdStan, num_threads: None]\n",
      "[2025-09-16 20:34:27,751: DEBUG: model: CmdStan args: ['C:\\\\Users\\\\rohan\\\\.conda\\\\envs\\\\tensorflow\\\\Lib\\\\site-packages\\\\prophet\\\\stan_model\\\\prophet_model.bin', 'random', 'seed=18999', 'data', 'file=C:\\\\Users\\\\rohan\\\\AppData\\\\Local\\\\Temp\\\\tmpsnym8bm2\\\\e0xbay3k.json', 'init=C:\\\\Users\\\\rohan\\\\AppData\\\\Local\\\\Temp\\\\tmpsnym8bm2\\\\_imhz3lo.json', 'output', 'file=C:\\\\Users\\\\rohan\\\\AppData\\\\Local\\\\Temp\\\\tmpsnym8bm2\\\\prophet_model5haw437f\\\\prophet_model-20250916203427.csv', 'method=optimize', 'algorithm=lbfgs', 'iter=10000']]\n"
     ]
    },
    {
     "name": "stderr",
     "output_type": "stream",
     "text": [
      "20:34:27 - cmdstanpy - INFO - Chain [1] start processing\n"
     ]
    },
    {
     "name": "stdout",
     "output_type": "stream",
     "text": [
      "[2025-09-16 20:34:27,751: INFO: model: Chain [1] start processing]\n"
     ]
    },
    {
     "name": "stderr",
     "output_type": "stream",
     "text": [
      "20:34:27 - cmdstanpy - INFO - Chain [1] done processing\n"
     ]
    },
    {
     "name": "stdout",
     "output_type": "stream",
     "text": [
      "[2025-09-16 20:34:27,799: INFO: model: Chain [1] done processing]\n",
      "[2025-09-16 20:34:27,812: INFO: 465351063: Model trained for store 13]\n",
      "[2025-09-16 20:34:27,815: INFO: 465351063: Model trained for store 13]\n",
      "[2025-09-16 20:34:27,815: INFO: 465351063: Started training for store 14]\n",
      "[2025-09-16 20:34:27,820: INFO: 465351063: Data prepared for store 14]\n",
      "[2025-09-16 20:34:27,820: DEBUG: command: cmd: where.exe tbb.dll\n",
      "cwd: None]\n",
      "[2025-09-16 20:34:27,935: DEBUG: model: TBB already found in load path]\n",
      "[2025-09-16 20:34:27,935: INFO: 465351063: Created base model's new instance]\n",
      "[2025-09-16 20:34:27,952: DEBUG: filesystem: input tempfile: C:\\Users\\rohan\\AppData\\Local\\Temp\\tmpsnym8bm2\\4dc2i7jj.json]\n",
      "[2025-09-16 20:34:27,975: DEBUG: filesystem: input tempfile: C:\\Users\\rohan\\AppData\\Local\\Temp\\tmpsnym8bm2\\zyk7x771.json]\n",
      "[2025-09-16 20:34:27,982: DEBUG: model: idx 0]\n",
      "[2025-09-16 20:34:27,982: DEBUG: model: running CmdStan, num_threads: None]\n",
      "[2025-09-16 20:34:27,982: DEBUG: model: CmdStan args: ['C:\\\\Users\\\\rohan\\\\.conda\\\\envs\\\\tensorflow\\\\Lib\\\\site-packages\\\\prophet\\\\stan_model\\\\prophet_model.bin', 'random', 'seed=68840', 'data', 'file=C:\\\\Users\\\\rohan\\\\AppData\\\\Local\\\\Temp\\\\tmpsnym8bm2\\\\4dc2i7jj.json', 'init=C:\\\\Users\\\\rohan\\\\AppData\\\\Local\\\\Temp\\\\tmpsnym8bm2\\\\zyk7x771.json', 'output', 'file=C:\\\\Users\\\\rohan\\\\AppData\\\\Local\\\\Temp\\\\tmpsnym8bm2\\\\prophet_model2rji1rhz\\\\prophet_model-20250916203427.csv', 'method=optimize', 'algorithm=lbfgs', 'iter=10000']]\n"
     ]
    },
    {
     "name": "stderr",
     "output_type": "stream",
     "text": [
      "20:34:27 - cmdstanpy - INFO - Chain [1] start processing\n"
     ]
    },
    {
     "name": "stdout",
     "output_type": "stream",
     "text": [
      "[2025-09-16 20:34:27,986: INFO: model: Chain [1] start processing]\n"
     ]
    },
    {
     "name": "stderr",
     "output_type": "stream",
     "text": [
      "20:34:28 - cmdstanpy - INFO - Chain [1] done processing\n"
     ]
    },
    {
     "name": "stdout",
     "output_type": "stream",
     "text": [
      "[2025-09-16 20:34:28,031: INFO: model: Chain [1] done processing]\n",
      "[2025-09-16 20:34:28,045: INFO: 465351063: Model trained for store 14]\n",
      "[2025-09-16 20:34:28,047: INFO: 465351063: Model trained for store 14]\n",
      "[2025-09-16 20:34:28,047: INFO: 465351063: Started training for store 15]\n",
      "[2025-09-16 20:34:28,053: INFO: 465351063: Data prepared for store 15]\n",
      "[2025-09-16 20:34:28,053: DEBUG: command: cmd: where.exe tbb.dll\n",
      "cwd: None]\n",
      "[2025-09-16 20:34:28,121: DEBUG: model: TBB already found in load path]\n",
      "[2025-09-16 20:34:28,121: INFO: 465351063: Created base model's new instance]\n",
      "[2025-09-16 20:34:28,146: DEBUG: filesystem: input tempfile: C:\\Users\\rohan\\AppData\\Local\\Temp\\tmpsnym8bm2\\oiyzk2el.json]\n",
      "[2025-09-16 20:34:28,159: DEBUG: filesystem: input tempfile: C:\\Users\\rohan\\AppData\\Local\\Temp\\tmpsnym8bm2\\9lb684z9.json]\n",
      "[2025-09-16 20:34:28,168: DEBUG: model: idx 0]\n",
      "[2025-09-16 20:34:28,169: DEBUG: model: running CmdStan, num_threads: None]\n",
      "[2025-09-16 20:34:28,170: DEBUG: model: CmdStan args: ['C:\\\\Users\\\\rohan\\\\.conda\\\\envs\\\\tensorflow\\\\Lib\\\\site-packages\\\\prophet\\\\stan_model\\\\prophet_model.bin', 'random', 'seed=94013', 'data', 'file=C:\\\\Users\\\\rohan\\\\AppData\\\\Local\\\\Temp\\\\tmpsnym8bm2\\\\oiyzk2el.json', 'init=C:\\\\Users\\\\rohan\\\\AppData\\\\Local\\\\Temp\\\\tmpsnym8bm2\\\\9lb684z9.json', 'output', 'file=C:\\\\Users\\\\rohan\\\\AppData\\\\Local\\\\Temp\\\\tmpsnym8bm2\\\\prophet_modeliuy_kv9a\\\\prophet_model-20250916203428.csv', 'method=optimize', 'algorithm=lbfgs', 'iter=10000']]\n"
     ]
    },
    {
     "name": "stderr",
     "output_type": "stream",
     "text": [
      "20:34:28 - cmdstanpy - INFO - Chain [1] start processing\n"
     ]
    },
    {
     "name": "stdout",
     "output_type": "stream",
     "text": [
      "[2025-09-16 20:34:28,170: INFO: model: Chain [1] start processing]\n"
     ]
    },
    {
     "name": "stderr",
     "output_type": "stream",
     "text": [
      "20:34:28 - cmdstanpy - INFO - Chain [1] done processing\n"
     ]
    },
    {
     "name": "stdout",
     "output_type": "stream",
     "text": [
      "[2025-09-16 20:34:28,215: INFO: model: Chain [1] done processing]\n",
      "[2025-09-16 20:34:28,230: INFO: 465351063: Model trained for store 15]\n",
      "[2025-09-16 20:34:28,230: INFO: 465351063: Model trained for store 15]\n",
      "[2025-09-16 20:34:28,230: INFO: 465351063: Started training for store 16]\n",
      "[2025-09-16 20:34:28,241: INFO: 465351063: Data prepared for store 16]\n",
      "[2025-09-16 20:34:28,241: DEBUG: command: cmd: where.exe tbb.dll\n",
      "cwd: None]\n",
      "[2025-09-16 20:34:28,309: DEBUG: model: TBB already found in load path]\n",
      "[2025-09-16 20:34:28,309: INFO: 465351063: Created base model's new instance]\n",
      "[2025-09-16 20:34:28,333: DEBUG: filesystem: input tempfile: C:\\Users\\rohan\\AppData\\Local\\Temp\\tmpsnym8bm2\\8frbjsh1.json]\n",
      "[2025-09-16 20:34:28,347: DEBUG: filesystem: input tempfile: C:\\Users\\rohan\\AppData\\Local\\Temp\\tmpsnym8bm2\\u0907hc0.json]\n",
      "[2025-09-16 20:34:28,354: DEBUG: model: idx 0]\n",
      "[2025-09-16 20:34:28,354: DEBUG: model: running CmdStan, num_threads: None]\n",
      "[2025-09-16 20:34:28,354: DEBUG: model: CmdStan args: ['C:\\\\Users\\\\rohan\\\\.conda\\\\envs\\\\tensorflow\\\\Lib\\\\site-packages\\\\prophet\\\\stan_model\\\\prophet_model.bin', 'random', 'seed=42765', 'data', 'file=C:\\\\Users\\\\rohan\\\\AppData\\\\Local\\\\Temp\\\\tmpsnym8bm2\\\\8frbjsh1.json', 'init=C:\\\\Users\\\\rohan\\\\AppData\\\\Local\\\\Temp\\\\tmpsnym8bm2\\\\u0907hc0.json', 'output', 'file=C:\\\\Users\\\\rohan\\\\AppData\\\\Local\\\\Temp\\\\tmpsnym8bm2\\\\prophet_model8zoo1f52\\\\prophet_model-20250916203428.csv', 'method=optimize', 'algorithm=lbfgs', 'iter=10000']]\n"
     ]
    },
    {
     "name": "stderr",
     "output_type": "stream",
     "text": [
      "20:34:28 - cmdstanpy - INFO - Chain [1] start processing\n"
     ]
    },
    {
     "name": "stdout",
     "output_type": "stream",
     "text": [
      "[2025-09-16 20:34:28,359: INFO: model: Chain [1] start processing]\n"
     ]
    },
    {
     "name": "stderr",
     "output_type": "stream",
     "text": [
      "20:34:28 - cmdstanpy - INFO - Chain [1] done processing\n"
     ]
    },
    {
     "name": "stdout",
     "output_type": "stream",
     "text": [
      "[2025-09-16 20:34:28,409: INFO: model: Chain [1] done processing]\n",
      "[2025-09-16 20:34:28,419: INFO: 465351063: Model trained for store 16]\n",
      "[2025-09-16 20:34:28,419: INFO: 465351063: Model trained for store 16]\n",
      "[2025-09-16 20:34:28,426: INFO: 465351063: Started training for store 17]\n",
      "[2025-09-16 20:34:28,430: INFO: 465351063: Data prepared for store 17]\n",
      "[2025-09-16 20:34:28,435: DEBUG: command: cmd: where.exe tbb.dll\n",
      "cwd: None]\n",
      "[2025-09-16 20:34:28,497: DEBUG: model: TBB already found in load path]\n",
      "[2025-09-16 20:34:28,497: INFO: 465351063: Created base model's new instance]\n",
      "[2025-09-16 20:34:28,514: DEBUG: filesystem: input tempfile: C:\\Users\\rohan\\AppData\\Local\\Temp\\tmpsnym8bm2\\lc0q3m61.json]\n",
      "[2025-09-16 20:34:28,528: DEBUG: filesystem: input tempfile: C:\\Users\\rohan\\AppData\\Local\\Temp\\tmpsnym8bm2\\ek3f8_k_.json]\n",
      "[2025-09-16 20:34:28,539: DEBUG: model: idx 0]\n",
      "[2025-09-16 20:34:28,539: DEBUG: model: running CmdStan, num_threads: None]\n",
      "[2025-09-16 20:34:28,539: DEBUG: model: CmdStan args: ['C:\\\\Users\\\\rohan\\\\.conda\\\\envs\\\\tensorflow\\\\Lib\\\\site-packages\\\\prophet\\\\stan_model\\\\prophet_model.bin', 'random', 'seed=35699', 'data', 'file=C:\\\\Users\\\\rohan\\\\AppData\\\\Local\\\\Temp\\\\tmpsnym8bm2\\\\lc0q3m61.json', 'init=C:\\\\Users\\\\rohan\\\\AppData\\\\Local\\\\Temp\\\\tmpsnym8bm2\\\\ek3f8_k_.json', 'output', 'file=C:\\\\Users\\\\rohan\\\\AppData\\\\Local\\\\Temp\\\\tmpsnym8bm2\\\\prophet_modelodicc0_d\\\\prophet_model-20250916203428.csv', 'method=optimize', 'algorithm=lbfgs', 'iter=10000']]\n"
     ]
    },
    {
     "name": "stderr",
     "output_type": "stream",
     "text": [
      "20:34:28 - cmdstanpy - INFO - Chain [1] start processing\n"
     ]
    },
    {
     "name": "stdout",
     "output_type": "stream",
     "text": [
      "[2025-09-16 20:34:28,539: INFO: model: Chain [1] start processing]\n"
     ]
    },
    {
     "name": "stderr",
     "output_type": "stream",
     "text": [
      "20:34:28 - cmdstanpy - INFO - Chain [1] done processing\n"
     ]
    },
    {
     "name": "stdout",
     "output_type": "stream",
     "text": [
      "[2025-09-16 20:34:28,585: INFO: model: Chain [1] done processing]\n",
      "[2025-09-16 20:34:28,593: INFO: 465351063: Model trained for store 17]\n",
      "[2025-09-16 20:34:28,593: INFO: 465351063: Model trained for store 17]\n",
      "[2025-09-16 20:34:28,601: INFO: 465351063: Started training for store 18]\n",
      "[2025-09-16 20:34:28,604: INFO: 465351063: Data prepared for store 18]\n",
      "[2025-09-16 20:34:28,609: DEBUG: command: cmd: where.exe tbb.dll\n",
      "cwd: None]\n",
      "[2025-09-16 20:34:28,678: DEBUG: model: TBB already found in load path]\n",
      "[2025-09-16 20:34:28,678: INFO: 465351063: Created base model's new instance]\n",
      "[2025-09-16 20:34:28,709: DEBUG: filesystem: input tempfile: C:\\Users\\rohan\\AppData\\Local\\Temp\\tmpsnym8bm2\\fu5on37w.json]\n",
      "[2025-09-16 20:34:28,729: DEBUG: filesystem: input tempfile: C:\\Users\\rohan\\AppData\\Local\\Temp\\tmpsnym8bm2\\5t9lp8dj.json]\n",
      "[2025-09-16 20:34:28,735: DEBUG: model: idx 0]\n",
      "[2025-09-16 20:34:28,735: DEBUG: model: running CmdStan, num_threads: None]\n",
      "[2025-09-16 20:34:28,735: DEBUG: model: CmdStan args: ['C:\\\\Users\\\\rohan\\\\.conda\\\\envs\\\\tensorflow\\\\Lib\\\\site-packages\\\\prophet\\\\stan_model\\\\prophet_model.bin', 'random', 'seed=21690', 'data', 'file=C:\\\\Users\\\\rohan\\\\AppData\\\\Local\\\\Temp\\\\tmpsnym8bm2\\\\fu5on37w.json', 'init=C:\\\\Users\\\\rohan\\\\AppData\\\\Local\\\\Temp\\\\tmpsnym8bm2\\\\5t9lp8dj.json', 'output', 'file=C:\\\\Users\\\\rohan\\\\AppData\\\\Local\\\\Temp\\\\tmpsnym8bm2\\\\prophet_modelz3t76c54\\\\prophet_model-20250916203428.csv', 'method=optimize', 'algorithm=lbfgs', 'iter=10000']]\n"
     ]
    },
    {
     "name": "stderr",
     "output_type": "stream",
     "text": [
      "20:34:28 - cmdstanpy - INFO - Chain [1] start processing\n"
     ]
    },
    {
     "name": "stdout",
     "output_type": "stream",
     "text": [
      "[2025-09-16 20:34:28,741: INFO: model: Chain [1] start processing]\n"
     ]
    },
    {
     "name": "stderr",
     "output_type": "stream",
     "text": [
      "20:34:28 - cmdstanpy - INFO - Chain [1] done processing\n"
     ]
    },
    {
     "name": "stdout",
     "output_type": "stream",
     "text": [
      "[2025-09-16 20:34:28,792: INFO: model: Chain [1] done processing]\n",
      "[2025-09-16 20:34:28,802: INFO: 465351063: Model trained for store 18]\n",
      "[2025-09-16 20:34:28,809: INFO: 465351063: Model trained for store 18]\n",
      "[2025-09-16 20:34:28,809: INFO: 465351063: Started training for store 19]\n",
      "[2025-09-16 20:34:28,817: INFO: 465351063: Data prepared for store 19]\n",
      "[2025-09-16 20:34:28,818: DEBUG: command: cmd: where.exe tbb.dll\n",
      "cwd: None]\n",
      "[2025-09-16 20:34:28,886: DEBUG: model: TBB already found in load path]\n",
      "[2025-09-16 20:34:28,886: INFO: 465351063: Created base model's new instance]\n",
      "[2025-09-16 20:34:28,901: DEBUG: filesystem: input tempfile: C:\\Users\\rohan\\AppData\\Local\\Temp\\tmpsnym8bm2\\yylyui_w.json]\n",
      "[2025-09-16 20:34:28,918: DEBUG: filesystem: input tempfile: C:\\Users\\rohan\\AppData\\Local\\Temp\\tmpsnym8bm2\\3r7q_xqb.json]\n",
      "[2025-09-16 20:34:28,927: DEBUG: model: idx 0]\n",
      "[2025-09-16 20:34:28,927: DEBUG: model: running CmdStan, num_threads: None]\n",
      "[2025-09-16 20:34:28,932: DEBUG: model: CmdStan args: ['C:\\\\Users\\\\rohan\\\\.conda\\\\envs\\\\tensorflow\\\\Lib\\\\site-packages\\\\prophet\\\\stan_model\\\\prophet_model.bin', 'random', 'seed=48827', 'data', 'file=C:\\\\Users\\\\rohan\\\\AppData\\\\Local\\\\Temp\\\\tmpsnym8bm2\\\\yylyui_w.json', 'init=C:\\\\Users\\\\rohan\\\\AppData\\\\Local\\\\Temp\\\\tmpsnym8bm2\\\\3r7q_xqb.json', 'output', 'file=C:\\\\Users\\\\rohan\\\\AppData\\\\Local\\\\Temp\\\\tmpsnym8bm2\\\\prophet_model5n6lw9_x\\\\prophet_model-20250916203428.csv', 'method=optimize', 'algorithm=lbfgs', 'iter=10000']]\n"
     ]
    },
    {
     "name": "stderr",
     "output_type": "stream",
     "text": [
      "20:34:28 - cmdstanpy - INFO - Chain [1] start processing\n"
     ]
    },
    {
     "name": "stdout",
     "output_type": "stream",
     "text": [
      "[2025-09-16 20:34:28,932: INFO: model: Chain [1] start processing]\n"
     ]
    },
    {
     "name": "stderr",
     "output_type": "stream",
     "text": [
      "20:34:29 - cmdstanpy - INFO - Chain [1] done processing\n"
     ]
    },
    {
     "name": "stdout",
     "output_type": "stream",
     "text": [
      "[2025-09-16 20:34:29,010: INFO: model: Chain [1] done processing]\n",
      "[2025-09-16 20:34:29,042: INFO: 465351063: Model trained for store 19]\n",
      "[2025-09-16 20:34:29,044: INFO: 465351063: Model trained for store 19]\n",
      "[2025-09-16 20:34:29,046: INFO: 465351063: Started training for store 20]\n",
      "[2025-09-16 20:34:29,055: INFO: 465351063: Data prepared for store 20]\n",
      "[2025-09-16 20:34:29,059: DEBUG: command: cmd: where.exe tbb.dll\n",
      "cwd: None]\n",
      "[2025-09-16 20:34:29,140: DEBUG: model: TBB already found in load path]\n",
      "[2025-09-16 20:34:29,140: INFO: 465351063: Created base model's new instance]\n",
      "[2025-09-16 20:34:29,165: DEBUG: filesystem: input tempfile: C:\\Users\\rohan\\AppData\\Local\\Temp\\tmpsnym8bm2\\th5ja_7t.json]\n",
      "[2025-09-16 20:34:29,176: DEBUG: filesystem: input tempfile: C:\\Users\\rohan\\AppData\\Local\\Temp\\tmpsnym8bm2\\hj5y09df.json]\n",
      "[2025-09-16 20:34:29,184: DEBUG: model: idx 0]\n",
      "[2025-09-16 20:34:29,186: DEBUG: model: running CmdStan, num_threads: None]\n",
      "[2025-09-16 20:34:29,187: DEBUG: model: CmdStan args: ['C:\\\\Users\\\\rohan\\\\.conda\\\\envs\\\\tensorflow\\\\Lib\\\\site-packages\\\\prophet\\\\stan_model\\\\prophet_model.bin', 'random', 'seed=65552', 'data', 'file=C:\\\\Users\\\\rohan\\\\AppData\\\\Local\\\\Temp\\\\tmpsnym8bm2\\\\th5ja_7t.json', 'init=C:\\\\Users\\\\rohan\\\\AppData\\\\Local\\\\Temp\\\\tmpsnym8bm2\\\\hj5y09df.json', 'output', 'file=C:\\\\Users\\\\rohan\\\\AppData\\\\Local\\\\Temp\\\\tmpsnym8bm2\\\\prophet_model8c7gzzwa\\\\prophet_model-20250916203429.csv', 'method=optimize', 'algorithm=lbfgs', 'iter=10000']]\n"
     ]
    },
    {
     "name": "stderr",
     "output_type": "stream",
     "text": [
      "20:34:29 - cmdstanpy - INFO - Chain [1] start processing\n"
     ]
    },
    {
     "name": "stdout",
     "output_type": "stream",
     "text": [
      "[2025-09-16 20:34:29,188: INFO: model: Chain [1] start processing]\n"
     ]
    },
    {
     "name": "stderr",
     "output_type": "stream",
     "text": [
      "20:34:29 - cmdstanpy - INFO - Chain [1] done processing\n"
     ]
    },
    {
     "name": "stdout",
     "output_type": "stream",
     "text": [
      "[2025-09-16 20:34:29,284: INFO: model: Chain [1] done processing]\n",
      "[2025-09-16 20:34:29,300: INFO: 465351063: Model trained for store 20]\n",
      "[2025-09-16 20:34:29,301: INFO: 465351063: Model trained for store 20]\n",
      "[2025-09-16 20:34:29,304: INFO: 465351063: Started training for store 21]\n",
      "[2025-09-16 20:34:29,309: INFO: 465351063: Data prepared for store 21]\n",
      "[2025-09-16 20:34:29,311: DEBUG: command: cmd: where.exe tbb.dll\n",
      "cwd: None]\n",
      "[2025-09-16 20:34:29,375: DEBUG: model: TBB already found in load path]\n",
      "[2025-09-16 20:34:29,375: INFO: 465351063: Created base model's new instance]\n",
      "[2025-09-16 20:34:29,400: DEBUG: filesystem: input tempfile: C:\\Users\\rohan\\AppData\\Local\\Temp\\tmpsnym8bm2\\56xl4afi.json]\n",
      "[2025-09-16 20:34:29,414: DEBUG: filesystem: input tempfile: C:\\Users\\rohan\\AppData\\Local\\Temp\\tmpsnym8bm2\\7jgj6sd2.json]\n",
      "[2025-09-16 20:34:29,421: DEBUG: model: idx 0]\n",
      "[2025-09-16 20:34:29,421: DEBUG: model: running CmdStan, num_threads: None]\n",
      "[2025-09-16 20:34:29,423: DEBUG: model: CmdStan args: ['C:\\\\Users\\\\rohan\\\\.conda\\\\envs\\\\tensorflow\\\\Lib\\\\site-packages\\\\prophet\\\\stan_model\\\\prophet_model.bin', 'random', 'seed=7106', 'data', 'file=C:\\\\Users\\\\rohan\\\\AppData\\\\Local\\\\Temp\\\\tmpsnym8bm2\\\\56xl4afi.json', 'init=C:\\\\Users\\\\rohan\\\\AppData\\\\Local\\\\Temp\\\\tmpsnym8bm2\\\\7jgj6sd2.json', 'output', 'file=C:\\\\Users\\\\rohan\\\\AppData\\\\Local\\\\Temp\\\\tmpsnym8bm2\\\\prophet_model_0f83v79\\\\prophet_model-20250916203429.csv', 'method=optimize', 'algorithm=lbfgs', 'iter=10000']]\n"
     ]
    },
    {
     "name": "stderr",
     "output_type": "stream",
     "text": [
      "20:34:29 - cmdstanpy - INFO - Chain [1] start processing\n"
     ]
    },
    {
     "name": "stdout",
     "output_type": "stream",
     "text": [
      "[2025-09-16 20:34:29,425: INFO: model: Chain [1] start processing]\n"
     ]
    },
    {
     "name": "stderr",
     "output_type": "stream",
     "text": [
      "20:34:29 - cmdstanpy - INFO - Chain [1] done processing\n"
     ]
    },
    {
     "name": "stdout",
     "output_type": "stream",
     "text": [
      "[2025-09-16 20:34:29,469: INFO: model: Chain [1] done processing]\n",
      "[2025-09-16 20:34:29,479: INFO: 465351063: Model trained for store 21]\n",
      "[2025-09-16 20:34:29,485: INFO: 465351063: Model trained for store 21]\n",
      "[2025-09-16 20:34:29,485: INFO: 465351063: Started training for store 22]\n",
      "[2025-09-16 20:34:29,493: INFO: 465351063: Data prepared for store 22]\n",
      "[2025-09-16 20:34:29,493: DEBUG: command: cmd: where.exe tbb.dll\n",
      "cwd: None]\n",
      "[2025-09-16 20:34:29,560: DEBUG: model: TBB already found in load path]\n",
      "[2025-09-16 20:34:29,560: INFO: 465351063: Created base model's new instance]\n",
      "[2025-09-16 20:34:29,578: DEBUG: filesystem: input tempfile: C:\\Users\\rohan\\AppData\\Local\\Temp\\tmpsnym8bm2\\dp1hfomi.json]\n",
      "[2025-09-16 20:34:29,595: DEBUG: filesystem: input tempfile: C:\\Users\\rohan\\AppData\\Local\\Temp\\tmpsnym8bm2\\qqlm_nb6.json]\n",
      "[2025-09-16 20:34:29,601: DEBUG: model: idx 0]\n",
      "[2025-09-16 20:34:29,601: DEBUG: model: running CmdStan, num_threads: None]\n",
      "[2025-09-16 20:34:29,601: DEBUG: model: CmdStan args: ['C:\\\\Users\\\\rohan\\\\.conda\\\\envs\\\\tensorflow\\\\Lib\\\\site-packages\\\\prophet\\\\stan_model\\\\prophet_model.bin', 'random', 'seed=9600', 'data', 'file=C:\\\\Users\\\\rohan\\\\AppData\\\\Local\\\\Temp\\\\tmpsnym8bm2\\\\dp1hfomi.json', 'init=C:\\\\Users\\\\rohan\\\\AppData\\\\Local\\\\Temp\\\\tmpsnym8bm2\\\\qqlm_nb6.json', 'output', 'file=C:\\\\Users\\\\rohan\\\\AppData\\\\Local\\\\Temp\\\\tmpsnym8bm2\\\\prophet_modelp5i89f51\\\\prophet_model-20250916203429.csv', 'method=optimize', 'algorithm=lbfgs', 'iter=10000']]\n"
     ]
    },
    {
     "name": "stderr",
     "output_type": "stream",
     "text": [
      "20:34:29 - cmdstanpy - INFO - Chain [1] start processing\n"
     ]
    },
    {
     "name": "stdout",
     "output_type": "stream",
     "text": [
      "[2025-09-16 20:34:29,606: INFO: model: Chain [1] start processing]\n"
     ]
    },
    {
     "name": "stderr",
     "output_type": "stream",
     "text": [
      "20:34:29 - cmdstanpy - INFO - Chain [1] done processing\n"
     ]
    },
    {
     "name": "stdout",
     "output_type": "stream",
     "text": [
      "[2025-09-16 20:34:29,651: INFO: model: Chain [1] done processing]\n",
      "[2025-09-16 20:34:29,668: INFO: 465351063: Model trained for store 22]\n",
      "[2025-09-16 20:34:29,670: INFO: 465351063: Model trained for store 22]\n",
      "[2025-09-16 20:34:29,671: INFO: 465351063: Started training for store 23]\n",
      "[2025-09-16 20:34:29,675: INFO: 465351063: Data prepared for store 23]\n",
      "[2025-09-16 20:34:29,675: DEBUG: command: cmd: where.exe tbb.dll\n",
      "cwd: None]\n",
      "[2025-09-16 20:34:29,747: DEBUG: model: TBB already found in load path]\n",
      "[2025-09-16 20:34:29,749: INFO: 465351063: Created base model's new instance]\n",
      "[2025-09-16 20:34:29,776: DEBUG: filesystem: input tempfile: C:\\Users\\rohan\\AppData\\Local\\Temp\\tmpsnym8bm2\\b4fbu0c_.json]\n",
      "[2025-09-16 20:34:29,791: DEBUG: filesystem: input tempfile: C:\\Users\\rohan\\AppData\\Local\\Temp\\tmpsnym8bm2\\qb0wj71w.json]\n",
      "[2025-09-16 20:34:29,794: DEBUG: model: idx 0]\n",
      "[2025-09-16 20:34:29,794: DEBUG: model: running CmdStan, num_threads: None]\n",
      "[2025-09-16 20:34:29,794: DEBUG: model: CmdStan args: ['C:\\\\Users\\\\rohan\\\\.conda\\\\envs\\\\tensorflow\\\\Lib\\\\site-packages\\\\prophet\\\\stan_model\\\\prophet_model.bin', 'random', 'seed=16573', 'data', 'file=C:\\\\Users\\\\rohan\\\\AppData\\\\Local\\\\Temp\\\\tmpsnym8bm2\\\\b4fbu0c_.json', 'init=C:\\\\Users\\\\rohan\\\\AppData\\\\Local\\\\Temp\\\\tmpsnym8bm2\\\\qb0wj71w.json', 'output', 'file=C:\\\\Users\\\\rohan\\\\AppData\\\\Local\\\\Temp\\\\tmpsnym8bm2\\\\prophet_modelticawthk\\\\prophet_model-20250916203429.csv', 'method=optimize', 'algorithm=lbfgs', 'iter=10000']]\n"
     ]
    },
    {
     "name": "stderr",
     "output_type": "stream",
     "text": [
      "20:34:29 - cmdstanpy - INFO - Chain [1] start processing\n"
     ]
    },
    {
     "name": "stdout",
     "output_type": "stream",
     "text": [
      "[2025-09-16 20:34:29,794: INFO: model: Chain [1] start processing]\n"
     ]
    },
    {
     "name": "stderr",
     "output_type": "stream",
     "text": [
      "20:34:29 - cmdstanpy - INFO - Chain [1] done processing\n"
     ]
    },
    {
     "name": "stdout",
     "output_type": "stream",
     "text": [
      "[2025-09-16 20:34:29,849: INFO: model: Chain [1] done processing]\n",
      "[2025-09-16 20:34:29,859: INFO: 465351063: Model trained for store 23]\n",
      "[2025-09-16 20:34:29,859: INFO: 465351063: Model trained for store 23]\n",
      "[2025-09-16 20:34:29,859: INFO: 465351063: Started training for store 24]\n",
      "[2025-09-16 20:34:29,872: INFO: 465351063: Data prepared for store 24]\n",
      "[2025-09-16 20:34:29,876: DEBUG: command: cmd: where.exe tbb.dll\n",
      "cwd: None]\n",
      "[2025-09-16 20:34:29,942: DEBUG: model: TBB already found in load path]\n",
      "[2025-09-16 20:34:29,944: INFO: 465351063: Created base model's new instance]\n",
      "[2025-09-16 20:34:29,966: DEBUG: filesystem: input tempfile: C:\\Users\\rohan\\AppData\\Local\\Temp\\tmpsnym8bm2\\_rjtmrv7.json]\n",
      "[2025-09-16 20:34:29,983: DEBUG: filesystem: input tempfile: C:\\Users\\rohan\\AppData\\Local\\Temp\\tmpsnym8bm2\\_6njmeue.json]\n",
      "[2025-09-16 20:34:29,986: DEBUG: model: idx 0]\n",
      "[2025-09-16 20:34:29,986: DEBUG: model: running CmdStan, num_threads: None]\n",
      "[2025-09-16 20:34:29,986: DEBUG: model: CmdStan args: ['C:\\\\Users\\\\rohan\\\\.conda\\\\envs\\\\tensorflow\\\\Lib\\\\site-packages\\\\prophet\\\\stan_model\\\\prophet_model.bin', 'random', 'seed=27751', 'data', 'file=C:\\\\Users\\\\rohan\\\\AppData\\\\Local\\\\Temp\\\\tmpsnym8bm2\\\\_rjtmrv7.json', 'init=C:\\\\Users\\\\rohan\\\\AppData\\\\Local\\\\Temp\\\\tmpsnym8bm2\\\\_6njmeue.json', 'output', 'file=C:\\\\Users\\\\rohan\\\\AppData\\\\Local\\\\Temp\\\\tmpsnym8bm2\\\\prophet_modelfbbxfqwq\\\\prophet_model-20250916203429.csv', 'method=optimize', 'algorithm=lbfgs', 'iter=10000']]\n"
     ]
    },
    {
     "name": "stderr",
     "output_type": "stream",
     "text": [
      "20:34:29 - cmdstanpy - INFO - Chain [1] start processing\n"
     ]
    },
    {
     "name": "stdout",
     "output_type": "stream",
     "text": [
      "[2025-09-16 20:34:29,990: INFO: model: Chain [1] start processing]\n"
     ]
    },
    {
     "name": "stderr",
     "output_type": "stream",
     "text": [
      "20:34:30 - cmdstanpy - INFO - Chain [1] done processing\n"
     ]
    },
    {
     "name": "stdout",
     "output_type": "stream",
     "text": [
      "[2025-09-16 20:34:30,034: INFO: model: Chain [1] done processing]\n",
      "[2025-09-16 20:34:30,051: INFO: 465351063: Model trained for store 24]\n",
      "[2025-09-16 20:34:30,052: INFO: 465351063: Model trained for store 24]\n",
      "[2025-09-16 20:34:30,054: INFO: 465351063: Started training for store 25]\n",
      "[2025-09-16 20:34:30,060: INFO: 465351063: Data prepared for store 25]\n",
      "[2025-09-16 20:34:30,060: DEBUG: command: cmd: where.exe tbb.dll\n",
      "cwd: None]\n",
      "[2025-09-16 20:34:30,126: DEBUG: model: TBB already found in load path]\n",
      "[2025-09-16 20:34:30,126: INFO: 465351063: Created base model's new instance]\n",
      "[2025-09-16 20:34:30,145: DEBUG: filesystem: input tempfile: C:\\Users\\rohan\\AppData\\Local\\Temp\\tmpsnym8bm2\\po3e7_n7.json]\n",
      "[2025-09-16 20:34:30,167: DEBUG: filesystem: input tempfile: C:\\Users\\rohan\\AppData\\Local\\Temp\\tmpsnym8bm2\\i3ju88fa.json]\n",
      "[2025-09-16 20:34:30,172: DEBUG: model: idx 0]\n",
      "[2025-09-16 20:34:30,172: DEBUG: model: running CmdStan, num_threads: None]\n",
      "[2025-09-16 20:34:30,174: DEBUG: model: CmdStan args: ['C:\\\\Users\\\\rohan\\\\.conda\\\\envs\\\\tensorflow\\\\Lib\\\\site-packages\\\\prophet\\\\stan_model\\\\prophet_model.bin', 'random', 'seed=86373', 'data', 'file=C:\\\\Users\\\\rohan\\\\AppData\\\\Local\\\\Temp\\\\tmpsnym8bm2\\\\po3e7_n7.json', 'init=C:\\\\Users\\\\rohan\\\\AppData\\\\Local\\\\Temp\\\\tmpsnym8bm2\\\\i3ju88fa.json', 'output', 'file=C:\\\\Users\\\\rohan\\\\AppData\\\\Local\\\\Temp\\\\tmpsnym8bm2\\\\prophet_modelzege0jkx\\\\prophet_model-20250916203430.csv', 'method=optimize', 'algorithm=lbfgs', 'iter=10000']]\n"
     ]
    },
    {
     "name": "stderr",
     "output_type": "stream",
     "text": [
      "20:34:30 - cmdstanpy - INFO - Chain [1] start processing\n"
     ]
    },
    {
     "name": "stdout",
     "output_type": "stream",
     "text": [
      "[2025-09-16 20:34:30,174: INFO: model: Chain [1] start processing]\n"
     ]
    },
    {
     "name": "stderr",
     "output_type": "stream",
     "text": [
      "20:34:30 - cmdstanpy - INFO - Chain [1] done processing\n"
     ]
    },
    {
     "name": "stdout",
     "output_type": "stream",
     "text": [
      "[2025-09-16 20:34:30,273: INFO: model: Chain [1] done processing]\n",
      "[2025-09-16 20:34:30,282: INFO: 465351063: Model trained for store 25]\n",
      "[2025-09-16 20:34:30,282: INFO: 465351063: Model trained for store 25]\n",
      "[2025-09-16 20:34:30,284: INFO: 465351063: Started training for store 26]\n",
      "[2025-09-16 20:34:30,290: INFO: 465351063: Data prepared for store 26]\n",
      "[2025-09-16 20:34:30,294: DEBUG: command: cmd: where.exe tbb.dll\n",
      "cwd: None]\n",
      "[2025-09-16 20:34:30,373: DEBUG: model: TBB already found in load path]\n",
      "[2025-09-16 20:34:30,373: INFO: 465351063: Created base model's new instance]\n",
      "[2025-09-16 20:34:30,392: DEBUG: filesystem: input tempfile: C:\\Users\\rohan\\AppData\\Local\\Temp\\tmpsnym8bm2\\h20mjr4w.json]\n",
      "[2025-09-16 20:34:30,410: DEBUG: filesystem: input tempfile: C:\\Users\\rohan\\AppData\\Local\\Temp\\tmpsnym8bm2\\isqo54q6.json]\n",
      "[2025-09-16 20:34:30,414: DEBUG: model: idx 0]\n",
      "[2025-09-16 20:34:30,414: DEBUG: model: running CmdStan, num_threads: None]\n",
      "[2025-09-16 20:34:30,416: DEBUG: model: CmdStan args: ['C:\\\\Users\\\\rohan\\\\.conda\\\\envs\\\\tensorflow\\\\Lib\\\\site-packages\\\\prophet\\\\stan_model\\\\prophet_model.bin', 'random', 'seed=2530', 'data', 'file=C:\\\\Users\\\\rohan\\\\AppData\\\\Local\\\\Temp\\\\tmpsnym8bm2\\\\h20mjr4w.json', 'init=C:\\\\Users\\\\rohan\\\\AppData\\\\Local\\\\Temp\\\\tmpsnym8bm2\\\\isqo54q6.json', 'output', 'file=C:\\\\Users\\\\rohan\\\\AppData\\\\Local\\\\Temp\\\\tmpsnym8bm2\\\\prophet_modelgeieyn44\\\\prophet_model-20250916203430.csv', 'method=optimize', 'algorithm=lbfgs', 'iter=10000']]\n"
     ]
    },
    {
     "name": "stderr",
     "output_type": "stream",
     "text": [
      "20:34:30 - cmdstanpy - INFO - Chain [1] start processing\n"
     ]
    },
    {
     "name": "stdout",
     "output_type": "stream",
     "text": [
      "[2025-09-16 20:34:30,417: INFO: model: Chain [1] start processing]\n"
     ]
    },
    {
     "name": "stderr",
     "output_type": "stream",
     "text": [
      "20:34:30 - cmdstanpy - INFO - Chain [1] done processing\n"
     ]
    },
    {
     "name": "stdout",
     "output_type": "stream",
     "text": [
      "[2025-09-16 20:34:30,459: INFO: model: Chain [1] done processing]\n",
      "[2025-09-16 20:34:30,472: INFO: 465351063: Model trained for store 26]\n",
      "[2025-09-16 20:34:30,472: INFO: 465351063: Model trained for store 26]\n",
      "[2025-09-16 20:34:30,474: INFO: 465351063: Started training for store 27]\n",
      "[2025-09-16 20:34:30,482: INFO: 465351063: Data prepared for store 27]\n",
      "[2025-09-16 20:34:30,486: DEBUG: command: cmd: where.exe tbb.dll\n",
      "cwd: None]\n",
      "[2025-09-16 20:34:30,549: DEBUG: model: TBB already found in load path]\n",
      "[2025-09-16 20:34:30,549: INFO: 465351063: Created base model's new instance]\n",
      "[2025-09-16 20:34:30,576: DEBUG: filesystem: input tempfile: C:\\Users\\rohan\\AppData\\Local\\Temp\\tmpsnym8bm2\\uzpi8wcm.json]\n",
      "[2025-09-16 20:34:30,586: DEBUG: filesystem: input tempfile: C:\\Users\\rohan\\AppData\\Local\\Temp\\tmpsnym8bm2\\v6_y92ly.json]\n",
      "[2025-09-16 20:34:30,594: DEBUG: model: idx 0]\n",
      "[2025-09-16 20:34:30,594: DEBUG: model: running CmdStan, num_threads: None]\n",
      "[2025-09-16 20:34:30,594: DEBUG: model: CmdStan args: ['C:\\\\Users\\\\rohan\\\\.conda\\\\envs\\\\tensorflow\\\\Lib\\\\site-packages\\\\prophet\\\\stan_model\\\\prophet_model.bin', 'random', 'seed=49944', 'data', 'file=C:\\\\Users\\\\rohan\\\\AppData\\\\Local\\\\Temp\\\\tmpsnym8bm2\\\\uzpi8wcm.json', 'init=C:\\\\Users\\\\rohan\\\\AppData\\\\Local\\\\Temp\\\\tmpsnym8bm2\\\\v6_y92ly.json', 'output', 'file=C:\\\\Users\\\\rohan\\\\AppData\\\\Local\\\\Temp\\\\tmpsnym8bm2\\\\prophet_modelqas1sull\\\\prophet_model-20250916203430.csv', 'method=optimize', 'algorithm=lbfgs', 'iter=10000']]\n"
     ]
    },
    {
     "name": "stderr",
     "output_type": "stream",
     "text": [
      "20:34:30 - cmdstanpy - INFO - Chain [1] start processing\n"
     ]
    },
    {
     "name": "stdout",
     "output_type": "stream",
     "text": [
      "[2025-09-16 20:34:30,596: INFO: model: Chain [1] start processing]\n"
     ]
    },
    {
     "name": "stderr",
     "output_type": "stream",
     "text": [
      "20:34:30 - cmdstanpy - INFO - Chain [1] done processing\n"
     ]
    },
    {
     "name": "stdout",
     "output_type": "stream",
     "text": [
      "[2025-09-16 20:34:30,642: INFO: model: Chain [1] done processing]\n",
      "[2025-09-16 20:34:30,655: INFO: 465351063: Model trained for store 27]\n",
      "[2025-09-16 20:34:30,656: INFO: 465351063: Model trained for store 27]\n",
      "[2025-09-16 20:34:30,656: INFO: 465351063: Started training for store 28]\n",
      "[2025-09-16 20:34:30,664: INFO: 465351063: Data prepared for store 28]\n",
      "[2025-09-16 20:34:30,668: DEBUG: command: cmd: where.exe tbb.dll\n",
      "cwd: None]\n",
      "[2025-09-16 20:34:30,732: DEBUG: model: TBB already found in load path]\n",
      "[2025-09-16 20:34:30,733: INFO: 465351063: Created base model's new instance]\n",
      "[2025-09-16 20:34:30,758: DEBUG: filesystem: input tempfile: C:\\Users\\rohan\\AppData\\Local\\Temp\\tmpsnym8bm2\\fowr7ert.json]\n",
      "[2025-09-16 20:34:30,771: DEBUG: filesystem: input tempfile: C:\\Users\\rohan\\AppData\\Local\\Temp\\tmpsnym8bm2\\r4dzw9bo.json]\n",
      "[2025-09-16 20:34:30,777: DEBUG: model: idx 0]\n",
      "[2025-09-16 20:34:30,777: DEBUG: model: running CmdStan, num_threads: None]\n",
      "[2025-09-16 20:34:30,781: DEBUG: model: CmdStan args: ['C:\\\\Users\\\\rohan\\\\.conda\\\\envs\\\\tensorflow\\\\Lib\\\\site-packages\\\\prophet\\\\stan_model\\\\prophet_model.bin', 'random', 'seed=98607', 'data', 'file=C:\\\\Users\\\\rohan\\\\AppData\\\\Local\\\\Temp\\\\tmpsnym8bm2\\\\fowr7ert.json', 'init=C:\\\\Users\\\\rohan\\\\AppData\\\\Local\\\\Temp\\\\tmpsnym8bm2\\\\r4dzw9bo.json', 'output', 'file=C:\\\\Users\\\\rohan\\\\AppData\\\\Local\\\\Temp\\\\tmpsnym8bm2\\\\prophet_model9xg5hioc\\\\prophet_model-20250916203430.csv', 'method=optimize', 'algorithm=lbfgs', 'iter=10000']]\n"
     ]
    },
    {
     "name": "stderr",
     "output_type": "stream",
     "text": [
      "20:34:30 - cmdstanpy - INFO - Chain [1] start processing\n"
     ]
    },
    {
     "name": "stdout",
     "output_type": "stream",
     "text": [
      "[2025-09-16 20:34:30,783: INFO: model: Chain [1] start processing]\n"
     ]
    },
    {
     "name": "stderr",
     "output_type": "stream",
     "text": [
      "20:34:30 - cmdstanpy - INFO - Chain [1] done processing\n"
     ]
    },
    {
     "name": "stdout",
     "output_type": "stream",
     "text": [
      "[2025-09-16 20:34:30,834: INFO: model: Chain [1] done processing]\n",
      "[2025-09-16 20:34:30,849: INFO: 465351063: Model trained for store 28]\n",
      "[2025-09-16 20:34:30,849: INFO: 465351063: Model trained for store 28]\n",
      "[2025-09-16 20:34:30,851: INFO: 465351063: Started training for store 29]\n",
      "[2025-09-16 20:34:30,856: INFO: 465351063: Data prepared for store 29]\n",
      "[2025-09-16 20:34:30,856: DEBUG: command: cmd: where.exe tbb.dll\n",
      "cwd: None]\n",
      "[2025-09-16 20:34:30,922: DEBUG: model: TBB already found in load path]\n",
      "[2025-09-16 20:34:30,922: INFO: 465351063: Created base model's new instance]\n",
      "[2025-09-16 20:34:30,949: DEBUG: filesystem: input tempfile: C:\\Users\\rohan\\AppData\\Local\\Temp\\tmpsnym8bm2\\pb6ifv80.json]\n",
      "[2025-09-16 20:34:30,962: DEBUG: filesystem: input tempfile: C:\\Users\\rohan\\AppData\\Local\\Temp\\tmpsnym8bm2\\05vq3_71.json]\n",
      "[2025-09-16 20:34:30,966: DEBUG: model: idx 0]\n",
      "[2025-09-16 20:34:30,966: DEBUG: model: running CmdStan, num_threads: None]\n",
      "[2025-09-16 20:34:30,966: DEBUG: model: CmdStan args: ['C:\\\\Users\\\\rohan\\\\.conda\\\\envs\\\\tensorflow\\\\Lib\\\\site-packages\\\\prophet\\\\stan_model\\\\prophet_model.bin', 'random', 'seed=89806', 'data', 'file=C:\\\\Users\\\\rohan\\\\AppData\\\\Local\\\\Temp\\\\tmpsnym8bm2\\\\pb6ifv80.json', 'init=C:\\\\Users\\\\rohan\\\\AppData\\\\Local\\\\Temp\\\\tmpsnym8bm2\\\\05vq3_71.json', 'output', 'file=C:\\\\Users\\\\rohan\\\\AppData\\\\Local\\\\Temp\\\\tmpsnym8bm2\\\\prophet_modeliw66sicf\\\\prophet_model-20250916203430.csv', 'method=optimize', 'algorithm=lbfgs', 'iter=10000']]\n"
     ]
    },
    {
     "name": "stderr",
     "output_type": "stream",
     "text": [
      "20:34:30 - cmdstanpy - INFO - Chain [1] start processing\n"
     ]
    },
    {
     "name": "stdout",
     "output_type": "stream",
     "text": [
      "[2025-09-16 20:34:30,971: INFO: model: Chain [1] start processing]\n"
     ]
    },
    {
     "name": "stderr",
     "output_type": "stream",
     "text": [
      "20:34:31 - cmdstanpy - INFO - Chain [1] done processing\n"
     ]
    },
    {
     "name": "stdout",
     "output_type": "stream",
     "text": [
      "[2025-09-16 20:34:31,012: INFO: model: Chain [1] done processing]\n",
      "[2025-09-16 20:34:31,027: INFO: 465351063: Model trained for store 29]\n",
      "[2025-09-16 20:34:31,027: INFO: 465351063: Model trained for store 29]\n",
      "[2025-09-16 20:34:31,030: INFO: 465351063: Started training for store 30]\n",
      "[2025-09-16 20:34:31,037: INFO: 465351063: Data prepared for store 30]\n",
      "[2025-09-16 20:34:31,041: DEBUG: command: cmd: where.exe tbb.dll\n",
      "cwd: None]\n",
      "[2025-09-16 20:34:31,105: DEBUG: model: TBB already found in load path]\n",
      "[2025-09-16 20:34:31,105: INFO: 465351063: Created base model's new instance]\n",
      "[2025-09-16 20:34:31,128: DEBUG: filesystem: input tempfile: C:\\Users\\rohan\\AppData\\Local\\Temp\\tmpsnym8bm2\\eg5yi__o.json]\n",
      "[2025-09-16 20:34:31,141: DEBUG: filesystem: input tempfile: C:\\Users\\rohan\\AppData\\Local\\Temp\\tmpsnym8bm2\\ahyojk_t.json]\n",
      "[2025-09-16 20:34:31,146: DEBUG: model: idx 0]\n",
      "[2025-09-16 20:34:31,146: DEBUG: model: running CmdStan, num_threads: None]\n",
      "[2025-09-16 20:34:31,146: DEBUG: model: CmdStan args: ['C:\\\\Users\\\\rohan\\\\.conda\\\\envs\\\\tensorflow\\\\Lib\\\\site-packages\\\\prophet\\\\stan_model\\\\prophet_model.bin', 'random', 'seed=64732', 'data', 'file=C:\\\\Users\\\\rohan\\\\AppData\\\\Local\\\\Temp\\\\tmpsnym8bm2\\\\eg5yi__o.json', 'init=C:\\\\Users\\\\rohan\\\\AppData\\\\Local\\\\Temp\\\\tmpsnym8bm2\\\\ahyojk_t.json', 'output', 'file=C:\\\\Users\\\\rohan\\\\AppData\\\\Local\\\\Temp\\\\tmpsnym8bm2\\\\prophet_model0we_ibf1\\\\prophet_model-20250916203431.csv', 'method=optimize', 'algorithm=lbfgs', 'iter=10000']]\n"
     ]
    },
    {
     "name": "stderr",
     "output_type": "stream",
     "text": [
      "20:34:31 - cmdstanpy - INFO - Chain [1] start processing\n"
     ]
    },
    {
     "name": "stdout",
     "output_type": "stream",
     "text": [
      "[2025-09-16 20:34:31,151: INFO: model: Chain [1] start processing]\n"
     ]
    },
    {
     "name": "stderr",
     "output_type": "stream",
     "text": [
      "20:34:31 - cmdstanpy - INFO - Chain [1] done processing\n"
     ]
    },
    {
     "name": "stdout",
     "output_type": "stream",
     "text": [
      "[2025-09-16 20:34:31,191: INFO: model: Chain [1] done processing]\n",
      "[2025-09-16 20:34:31,205: INFO: 465351063: Model trained for store 30]\n",
      "[2025-09-16 20:34:31,205: INFO: 465351063: Model trained for store 30]\n",
      "[2025-09-16 20:34:31,207: INFO: 465351063: Started training for store 31]\n",
      "[2025-09-16 20:34:31,214: INFO: 465351063: Data prepared for store 31]\n",
      "[2025-09-16 20:34:31,216: DEBUG: command: cmd: where.exe tbb.dll\n",
      "cwd: None]\n",
      "[2025-09-16 20:34:31,279: DEBUG: model: TBB already found in load path]\n",
      "[2025-09-16 20:34:31,279: INFO: 465351063: Created base model's new instance]\n",
      "[2025-09-16 20:34:31,298: DEBUG: filesystem: input tempfile: C:\\Users\\rohan\\AppData\\Local\\Temp\\tmpsnym8bm2\\5ur6yrw8.json]\n",
      "[2025-09-16 20:34:31,312: DEBUG: filesystem: input tempfile: C:\\Users\\rohan\\AppData\\Local\\Temp\\tmpsnym8bm2\\whob2jg9.json]\n",
      "[2025-09-16 20:34:31,317: DEBUG: model: idx 0]\n",
      "[2025-09-16 20:34:31,317: DEBUG: model: running CmdStan, num_threads: None]\n",
      "[2025-09-16 20:34:31,320: DEBUG: model: CmdStan args: ['C:\\\\Users\\\\rohan\\\\.conda\\\\envs\\\\tensorflow\\\\Lib\\\\site-packages\\\\prophet\\\\stan_model\\\\prophet_model.bin', 'random', 'seed=3256', 'data', 'file=C:\\\\Users\\\\rohan\\\\AppData\\\\Local\\\\Temp\\\\tmpsnym8bm2\\\\5ur6yrw8.json', 'init=C:\\\\Users\\\\rohan\\\\AppData\\\\Local\\\\Temp\\\\tmpsnym8bm2\\\\whob2jg9.json', 'output', 'file=C:\\\\Users\\\\rohan\\\\AppData\\\\Local\\\\Temp\\\\tmpsnym8bm2\\\\prophet_modelst37ryqj\\\\prophet_model-20250916203431.csv', 'method=optimize', 'algorithm=lbfgs', 'iter=10000']]\n"
     ]
    },
    {
     "name": "stderr",
     "output_type": "stream",
     "text": [
      "20:34:31 - cmdstanpy - INFO - Chain [1] start processing\n"
     ]
    },
    {
     "name": "stdout",
     "output_type": "stream",
     "text": [
      "[2025-09-16 20:34:31,321: INFO: model: Chain [1] start processing]\n"
     ]
    },
    {
     "name": "stderr",
     "output_type": "stream",
     "text": [
      "20:34:31 - cmdstanpy - INFO - Chain [1] done processing\n"
     ]
    },
    {
     "name": "stdout",
     "output_type": "stream",
     "text": [
      "[2025-09-16 20:34:31,370: INFO: model: Chain [1] done processing]\n",
      "[2025-09-16 20:34:31,382: INFO: 465351063: Model trained for store 31]\n",
      "[2025-09-16 20:34:31,385: INFO: 465351063: Model trained for store 31]\n",
      "[2025-09-16 20:34:31,386: INFO: 465351063: Started training for store 32]\n",
      "[2025-09-16 20:34:31,396: INFO: 465351063: Data prepared for store 32]\n",
      "[2025-09-16 20:34:31,398: DEBUG: command: cmd: where.exe tbb.dll\n",
      "cwd: None]\n",
      "[2025-09-16 20:34:31,530: DEBUG: model: TBB already found in load path]\n",
      "[2025-09-16 20:34:31,532: INFO: 465351063: Created base model's new instance]\n",
      "[2025-09-16 20:34:31,553: DEBUG: filesystem: input tempfile: C:\\Users\\rohan\\AppData\\Local\\Temp\\tmpsnym8bm2\\swbxm1ea.json]\n",
      "[2025-09-16 20:34:31,564: DEBUG: filesystem: input tempfile: C:\\Users\\rohan\\AppData\\Local\\Temp\\tmpsnym8bm2\\vkd39chj.json]\n",
      "[2025-09-16 20:34:31,571: DEBUG: model: idx 0]\n",
      "[2025-09-16 20:34:31,571: DEBUG: model: running CmdStan, num_threads: None]\n",
      "[2025-09-16 20:34:31,571: DEBUG: model: CmdStan args: ['C:\\\\Users\\\\rohan\\\\.conda\\\\envs\\\\tensorflow\\\\Lib\\\\site-packages\\\\prophet\\\\stan_model\\\\prophet_model.bin', 'random', 'seed=55269', 'data', 'file=C:\\\\Users\\\\rohan\\\\AppData\\\\Local\\\\Temp\\\\tmpsnym8bm2\\\\swbxm1ea.json', 'init=C:\\\\Users\\\\rohan\\\\AppData\\\\Local\\\\Temp\\\\tmpsnym8bm2\\\\vkd39chj.json', 'output', 'file=C:\\\\Users\\\\rohan\\\\AppData\\\\Local\\\\Temp\\\\tmpsnym8bm2\\\\prophet_modelda3i72b1\\\\prophet_model-20250916203431.csv', 'method=optimize', 'algorithm=lbfgs', 'iter=10000']]\n"
     ]
    },
    {
     "name": "stderr",
     "output_type": "stream",
     "text": [
      "20:34:31 - cmdstanpy - INFO - Chain [1] start processing\n"
     ]
    },
    {
     "name": "stdout",
     "output_type": "stream",
     "text": [
      "[2025-09-16 20:34:31,573: INFO: model: Chain [1] start processing]\n"
     ]
    },
    {
     "name": "stderr",
     "output_type": "stream",
     "text": [
      "20:34:31 - cmdstanpy - INFO - Chain [1] done processing\n"
     ]
    },
    {
     "name": "stdout",
     "output_type": "stream",
     "text": [
      "[2025-09-16 20:34:31,620: INFO: model: Chain [1] done processing]\n",
      "[2025-09-16 20:34:31,636: INFO: 465351063: Model trained for store 32]\n",
      "[2025-09-16 20:34:31,636: INFO: 465351063: Model trained for store 32]\n",
      "[2025-09-16 20:34:31,639: INFO: 465351063: Started training for store 33]\n",
      "[2025-09-16 20:34:31,645: INFO: 465351063: Data prepared for store 33]\n",
      "[2025-09-16 20:34:31,647: DEBUG: command: cmd: where.exe tbb.dll\n",
      "cwd: None]\n",
      "[2025-09-16 20:34:31,716: DEBUG: model: TBB already found in load path]\n",
      "[2025-09-16 20:34:31,718: INFO: 465351063: Created base model's new instance]\n",
      "[2025-09-16 20:34:31,738: DEBUG: filesystem: input tempfile: C:\\Users\\rohan\\AppData\\Local\\Temp\\tmpsnym8bm2\\iayg4dzu.json]\n",
      "[2025-09-16 20:34:31,754: DEBUG: filesystem: input tempfile: C:\\Users\\rohan\\AppData\\Local\\Temp\\tmpsnym8bm2\\qyx_hmst.json]\n",
      "[2025-09-16 20:34:31,754: DEBUG: model: idx 0]\n",
      "[2025-09-16 20:34:31,754: DEBUG: model: running CmdStan, num_threads: None]\n",
      "[2025-09-16 20:34:31,754: DEBUG: model: CmdStan args: ['C:\\\\Users\\\\rohan\\\\.conda\\\\envs\\\\tensorflow\\\\Lib\\\\site-packages\\\\prophet\\\\stan_model\\\\prophet_model.bin', 'random', 'seed=55403', 'data', 'file=C:\\\\Users\\\\rohan\\\\AppData\\\\Local\\\\Temp\\\\tmpsnym8bm2\\\\iayg4dzu.json', 'init=C:\\\\Users\\\\rohan\\\\AppData\\\\Local\\\\Temp\\\\tmpsnym8bm2\\\\qyx_hmst.json', 'output', 'file=C:\\\\Users\\\\rohan\\\\AppData\\\\Local\\\\Temp\\\\tmpsnym8bm2\\\\prophet_modelbv9de7kx\\\\prophet_model-20250916203431.csv', 'method=optimize', 'algorithm=lbfgs', 'iter=10000']]\n"
     ]
    },
    {
     "name": "stderr",
     "output_type": "stream",
     "text": [
      "20:34:31 - cmdstanpy - INFO - Chain [1] start processing\n"
     ]
    },
    {
     "name": "stdout",
     "output_type": "stream",
     "text": [
      "[2025-09-16 20:34:31,754: INFO: model: Chain [1] start processing]\n"
     ]
    },
    {
     "name": "stderr",
     "output_type": "stream",
     "text": [
      "20:34:31 - cmdstanpy - INFO - Chain [1] done processing\n"
     ]
    },
    {
     "name": "stdout",
     "output_type": "stream",
     "text": [
      "[2025-09-16 20:34:31,804: INFO: model: Chain [1] done processing]\n",
      "[2025-09-16 20:34:31,820: INFO: 465351063: Model trained for store 33]\n",
      "[2025-09-16 20:34:31,820: INFO: 465351063: Model trained for store 33]\n",
      "[2025-09-16 20:34:31,820: INFO: 465351063: Started training for store 34]\n",
      "[2025-09-16 20:34:31,828: INFO: 465351063: Data prepared for store 34]\n",
      "[2025-09-16 20:34:31,832: DEBUG: command: cmd: where.exe tbb.dll\n",
      "cwd: None]\n",
      "[2025-09-16 20:34:31,898: DEBUG: model: TBB already found in load path]\n",
      "[2025-09-16 20:34:31,898: INFO: 465351063: Created base model's new instance]\n",
      "[2025-09-16 20:34:31,920: DEBUG: filesystem: input tempfile: C:\\Users\\rohan\\AppData\\Local\\Temp\\tmpsnym8bm2\\nmmk6tp_.json]\n",
      "[2025-09-16 20:34:31,934: DEBUG: filesystem: input tempfile: C:\\Users\\rohan\\AppData\\Local\\Temp\\tmpsnym8bm2\\gvj84jhs.json]\n",
      "[2025-09-16 20:34:31,938: DEBUG: model: idx 0]\n",
      "[2025-09-16 20:34:31,938: DEBUG: model: running CmdStan, num_threads: None]\n",
      "[2025-09-16 20:34:31,941: DEBUG: model: CmdStan args: ['C:\\\\Users\\\\rohan\\\\.conda\\\\envs\\\\tensorflow\\\\Lib\\\\site-packages\\\\prophet\\\\stan_model\\\\prophet_model.bin', 'random', 'seed=85250', 'data', 'file=C:\\\\Users\\\\rohan\\\\AppData\\\\Local\\\\Temp\\\\tmpsnym8bm2\\\\nmmk6tp_.json', 'init=C:\\\\Users\\\\rohan\\\\AppData\\\\Local\\\\Temp\\\\tmpsnym8bm2\\\\gvj84jhs.json', 'output', 'file=C:\\\\Users\\\\rohan\\\\AppData\\\\Local\\\\Temp\\\\tmpsnym8bm2\\\\prophet_model1drsfojy\\\\prophet_model-20250916203431.csv', 'method=optimize', 'algorithm=lbfgs', 'iter=10000']]\n"
     ]
    },
    {
     "name": "stderr",
     "output_type": "stream",
     "text": [
      "20:34:31 - cmdstanpy - INFO - Chain [1] start processing\n"
     ]
    },
    {
     "name": "stdout",
     "output_type": "stream",
     "text": [
      "[2025-09-16 20:34:31,942: INFO: model: Chain [1] start processing]\n"
     ]
    },
    {
     "name": "stderr",
     "output_type": "stream",
     "text": [
      "20:34:31 - cmdstanpy - INFO - Chain [1] done processing\n"
     ]
    },
    {
     "name": "stdout",
     "output_type": "stream",
     "text": [
      "[2025-09-16 20:34:31,993: INFO: model: Chain [1] done processing]\n",
      "[2025-09-16 20:34:32,008: INFO: 465351063: Model trained for store 34]\n",
      "[2025-09-16 20:34:32,008: INFO: 465351063: Model trained for store 34]\n",
      "[2025-09-16 20:34:32,010: INFO: 465351063: Started training for store 35]\n",
      "[2025-09-16 20:34:32,018: INFO: 465351063: Data prepared for store 35]\n",
      "[2025-09-16 20:34:32,020: DEBUG: command: cmd: where.exe tbb.dll\n",
      "cwd: None]\n",
      "[2025-09-16 20:34:32,082: DEBUG: model: TBB already found in load path]\n",
      "[2025-09-16 20:34:32,084: INFO: 465351063: Created base model's new instance]\n",
      "[2025-09-16 20:34:32,103: DEBUG: filesystem: input tempfile: C:\\Users\\rohan\\AppData\\Local\\Temp\\tmpsnym8bm2\\hg03k9bd.json]\n",
      "[2025-09-16 20:34:32,119: DEBUG: filesystem: input tempfile: C:\\Users\\rohan\\AppData\\Local\\Temp\\tmpsnym8bm2\\p8_klmfz.json]\n",
      "[2025-09-16 20:34:32,123: DEBUG: model: idx 0]\n",
      "[2025-09-16 20:34:32,125: DEBUG: model: running CmdStan, num_threads: None]\n",
      "[2025-09-16 20:34:32,127: DEBUG: model: CmdStan args: ['C:\\\\Users\\\\rohan\\\\.conda\\\\envs\\\\tensorflow\\\\Lib\\\\site-packages\\\\prophet\\\\stan_model\\\\prophet_model.bin', 'random', 'seed=56907', 'data', 'file=C:\\\\Users\\\\rohan\\\\AppData\\\\Local\\\\Temp\\\\tmpsnym8bm2\\\\hg03k9bd.json', 'init=C:\\\\Users\\\\rohan\\\\AppData\\\\Local\\\\Temp\\\\tmpsnym8bm2\\\\p8_klmfz.json', 'output', 'file=C:\\\\Users\\\\rohan\\\\AppData\\\\Local\\\\Temp\\\\tmpsnym8bm2\\\\prophet_modelt66huz3c\\\\prophet_model-20250916203432.csv', 'method=optimize', 'algorithm=lbfgs', 'iter=10000']]\n"
     ]
    },
    {
     "name": "stderr",
     "output_type": "stream",
     "text": [
      "20:34:32 - cmdstanpy - INFO - Chain [1] start processing\n"
     ]
    },
    {
     "name": "stdout",
     "output_type": "stream",
     "text": [
      "[2025-09-16 20:34:32,128: INFO: model: Chain [1] start processing]\n"
     ]
    },
    {
     "name": "stderr",
     "output_type": "stream",
     "text": [
      "20:34:32 - cmdstanpy - INFO - Chain [1] done processing\n"
     ]
    },
    {
     "name": "stdout",
     "output_type": "stream",
     "text": [
      "[2025-09-16 20:34:32,184: INFO: model: Chain [1] done processing]\n",
      "[2025-09-16 20:34:32,199: INFO: 465351063: Model trained for store 35]\n",
      "[2025-09-16 20:34:32,201: INFO: 465351063: Model trained for store 35]\n",
      "[2025-09-16 20:34:32,203: INFO: 465351063: Started training for store 36]\n",
      "[2025-09-16 20:34:32,211: INFO: 465351063: Data prepared for store 36]\n",
      "[2025-09-16 20:34:32,211: DEBUG: command: cmd: where.exe tbb.dll\n",
      "cwd: None]\n",
      "[2025-09-16 20:34:32,276: DEBUG: model: TBB already found in load path]\n",
      "[2025-09-16 20:34:32,285: INFO: 465351063: Created base model's new instance]\n",
      "[2025-09-16 20:34:32,305: DEBUG: filesystem: input tempfile: C:\\Users\\rohan\\AppData\\Local\\Temp\\tmpsnym8bm2\\dudi7chq.json]\n",
      "[2025-09-16 20:34:32,318: DEBUG: filesystem: input tempfile: C:\\Users\\rohan\\AppData\\Local\\Temp\\tmpsnym8bm2\\z00hietr.json]\n",
      "[2025-09-16 20:34:32,318: DEBUG: model: idx 0]\n",
      "[2025-09-16 20:34:32,318: DEBUG: model: running CmdStan, num_threads: None]\n",
      "[2025-09-16 20:34:32,318: DEBUG: model: CmdStan args: ['C:\\\\Users\\\\rohan\\\\.conda\\\\envs\\\\tensorflow\\\\Lib\\\\site-packages\\\\prophet\\\\stan_model\\\\prophet_model.bin', 'random', 'seed=50574', 'data', 'file=C:\\\\Users\\\\rohan\\\\AppData\\\\Local\\\\Temp\\\\tmpsnym8bm2\\\\dudi7chq.json', 'init=C:\\\\Users\\\\rohan\\\\AppData\\\\Local\\\\Temp\\\\tmpsnym8bm2\\\\z00hietr.json', 'output', 'file=C:\\\\Users\\\\rohan\\\\AppData\\\\Local\\\\Temp\\\\tmpsnym8bm2\\\\prophet_modelmht5cw8d\\\\prophet_model-20250916203432.csv', 'method=optimize', 'algorithm=lbfgs', 'iter=10000']]\n"
     ]
    },
    {
     "name": "stderr",
     "output_type": "stream",
     "text": [
      "20:34:32 - cmdstanpy - INFO - Chain [1] start processing\n"
     ]
    },
    {
     "name": "stdout",
     "output_type": "stream",
     "text": [
      "[2025-09-16 20:34:32,326: INFO: model: Chain [1] start processing]\n"
     ]
    },
    {
     "name": "stderr",
     "output_type": "stream",
     "text": [
      "20:34:32 - cmdstanpy - INFO - Chain [1] done processing\n"
     ]
    },
    {
     "name": "stdout",
     "output_type": "stream",
     "text": [
      "[2025-09-16 20:34:32,376: INFO: model: Chain [1] done processing]\n",
      "[2025-09-16 20:34:32,390: INFO: 465351063: Model trained for store 36]\n",
      "[2025-09-16 20:34:32,391: INFO: 465351063: Model trained for store 36]\n",
      "[2025-09-16 20:34:32,391: INFO: 465351063: Started training for store 37]\n",
      "[2025-09-16 20:34:32,399: INFO: 465351063: Data prepared for store 37]\n",
      "[2025-09-16 20:34:32,403: DEBUG: command: cmd: where.exe tbb.dll\n",
      "cwd: None]\n",
      "[2025-09-16 20:34:32,463: DEBUG: model: TBB already found in load path]\n",
      "[2025-09-16 20:34:32,468: INFO: 465351063: Created base model's new instance]\n",
      "[2025-09-16 20:34:32,488: DEBUG: filesystem: input tempfile: C:\\Users\\rohan\\AppData\\Local\\Temp\\tmpsnym8bm2\\lslfqku6.json]\n",
      "[2025-09-16 20:34:32,503: DEBUG: filesystem: input tempfile: C:\\Users\\rohan\\AppData\\Local\\Temp\\tmpsnym8bm2\\2u3mao31.json]\n",
      "[2025-09-16 20:34:32,507: DEBUG: model: idx 0]\n",
      "[2025-09-16 20:34:32,507: DEBUG: model: running CmdStan, num_threads: None]\n",
      "[2025-09-16 20:34:32,507: DEBUG: model: CmdStan args: ['C:\\\\Users\\\\rohan\\\\.conda\\\\envs\\\\tensorflow\\\\Lib\\\\site-packages\\\\prophet\\\\stan_model\\\\prophet_model.bin', 'random', 'seed=40546', 'data', 'file=C:\\\\Users\\\\rohan\\\\AppData\\\\Local\\\\Temp\\\\tmpsnym8bm2\\\\lslfqku6.json', 'init=C:\\\\Users\\\\rohan\\\\AppData\\\\Local\\\\Temp\\\\tmpsnym8bm2\\\\2u3mao31.json', 'output', 'file=C:\\\\Users\\\\rohan\\\\AppData\\\\Local\\\\Temp\\\\tmpsnym8bm2\\\\prophet_modele0ha6yrb\\\\prophet_model-20250916203432.csv', 'method=optimize', 'algorithm=lbfgs', 'iter=10000']]\n"
     ]
    },
    {
     "name": "stderr",
     "output_type": "stream",
     "text": [
      "20:34:32 - cmdstanpy - INFO - Chain [1] start processing\n"
     ]
    },
    {
     "name": "stdout",
     "output_type": "stream",
     "text": [
      "[2025-09-16 20:34:32,513: INFO: model: Chain [1] start processing]\n"
     ]
    },
    {
     "name": "stderr",
     "output_type": "stream",
     "text": [
      "20:34:32 - cmdstanpy - INFO - Chain [1] done processing\n"
     ]
    },
    {
     "name": "stdout",
     "output_type": "stream",
     "text": [
      "[2025-09-16 20:34:32,565: INFO: model: Chain [1] done processing]\n",
      "[2025-09-16 20:34:32,579: INFO: 465351063: Model trained for store 37]\n",
      "[2025-09-16 20:34:32,579: INFO: 465351063: Model trained for store 37]\n",
      "[2025-09-16 20:34:32,579: INFO: 465351063: Started training for store 38]\n",
      "[2025-09-16 20:34:32,589: INFO: 465351063: Data prepared for store 38]\n",
      "[2025-09-16 20:34:32,593: DEBUG: command: cmd: where.exe tbb.dll\n",
      "cwd: None]\n",
      "[2025-09-16 20:34:32,715: DEBUG: model: TBB already found in load path]\n",
      "[2025-09-16 20:34:32,715: INFO: 465351063: Created base model's new instance]\n",
      "[2025-09-16 20:34:32,736: DEBUG: filesystem: input tempfile: C:\\Users\\rohan\\AppData\\Local\\Temp\\tmpsnym8bm2\\867c89ir.json]\n",
      "[2025-09-16 20:34:32,743: DEBUG: filesystem: input tempfile: C:\\Users\\rohan\\AppData\\Local\\Temp\\tmpsnym8bm2\\rc9u_4yu.json]\n",
      "[2025-09-16 20:34:32,755: DEBUG: model: idx 0]\n",
      "[2025-09-16 20:34:32,757: DEBUG: model: running CmdStan, num_threads: None]\n",
      "[2025-09-16 20:34:32,758: DEBUG: model: CmdStan args: ['C:\\\\Users\\\\rohan\\\\.conda\\\\envs\\\\tensorflow\\\\Lib\\\\site-packages\\\\prophet\\\\stan_model\\\\prophet_model.bin', 'random', 'seed=15988', 'data', 'file=C:\\\\Users\\\\rohan\\\\AppData\\\\Local\\\\Temp\\\\tmpsnym8bm2\\\\867c89ir.json', 'init=C:\\\\Users\\\\rohan\\\\AppData\\\\Local\\\\Temp\\\\tmpsnym8bm2\\\\rc9u_4yu.json', 'output', 'file=C:\\\\Users\\\\rohan\\\\AppData\\\\Local\\\\Temp\\\\tmpsnym8bm2\\\\prophet_modelxywhjw0q\\\\prophet_model-20250916203432.csv', 'method=optimize', 'algorithm=lbfgs', 'iter=10000']]\n"
     ]
    },
    {
     "name": "stderr",
     "output_type": "stream",
     "text": [
      "20:34:32 - cmdstanpy - INFO - Chain [1] start processing\n"
     ]
    },
    {
     "name": "stdout",
     "output_type": "stream",
     "text": [
      "[2025-09-16 20:34:32,758: INFO: model: Chain [1] start processing]\n"
     ]
    },
    {
     "name": "stderr",
     "output_type": "stream",
     "text": [
      "20:34:32 - cmdstanpy - INFO - Chain [1] done processing\n"
     ]
    },
    {
     "name": "stdout",
     "output_type": "stream",
     "text": [
      "[2025-09-16 20:34:32,869: INFO: model: Chain [1] done processing]\n",
      "[2025-09-16 20:34:32,882: INFO: 465351063: Model trained for store 38]\n",
      "[2025-09-16 20:34:32,883: INFO: 465351063: Model trained for store 38]\n",
      "[2025-09-16 20:34:32,884: INFO: 465351063: Started training for store 39]\n",
      "[2025-09-16 20:34:32,891: INFO: 465351063: Data prepared for store 39]\n",
      "[2025-09-16 20:34:32,891: DEBUG: command: cmd: where.exe tbb.dll\n",
      "cwd: None]\n",
      "[2025-09-16 20:34:32,957: DEBUG: model: TBB already found in load path]\n",
      "[2025-09-16 20:34:32,957: INFO: 465351063: Created base model's new instance]\n",
      "[2025-09-16 20:34:32,980: DEBUG: filesystem: input tempfile: C:\\Users\\rohan\\AppData\\Local\\Temp\\tmpsnym8bm2\\bvcyorct.json]\n",
      "[2025-09-16 20:34:32,992: DEBUG: filesystem: input tempfile: C:\\Users\\rohan\\AppData\\Local\\Temp\\tmpsnym8bm2\\vjwyvpn2.json]\n",
      "[2025-09-16 20:34:32,998: DEBUG: model: idx 0]\n",
      "[2025-09-16 20:34:33,000: DEBUG: model: running CmdStan, num_threads: None]\n",
      "[2025-09-16 20:34:33,000: DEBUG: model: CmdStan args: ['C:\\\\Users\\\\rohan\\\\.conda\\\\envs\\\\tensorflow\\\\Lib\\\\site-packages\\\\prophet\\\\stan_model\\\\prophet_model.bin', 'random', 'seed=33930', 'data', 'file=C:\\\\Users\\\\rohan\\\\AppData\\\\Local\\\\Temp\\\\tmpsnym8bm2\\\\bvcyorct.json', 'init=C:\\\\Users\\\\rohan\\\\AppData\\\\Local\\\\Temp\\\\tmpsnym8bm2\\\\vjwyvpn2.json', 'output', 'file=C:\\\\Users\\\\rohan\\\\AppData\\\\Local\\\\Temp\\\\tmpsnym8bm2\\\\prophet_modelcs7resus\\\\prophet_model-20250916203432.csv', 'method=optimize', 'algorithm=lbfgs', 'iter=10000']]\n"
     ]
    },
    {
     "name": "stderr",
     "output_type": "stream",
     "text": [
      "20:34:33 - cmdstanpy - INFO - Chain [1] start processing\n"
     ]
    },
    {
     "name": "stdout",
     "output_type": "stream",
     "text": [
      "[2025-09-16 20:34:33,005: INFO: model: Chain [1] start processing]\n"
     ]
    },
    {
     "name": "stderr",
     "output_type": "stream",
     "text": [
      "20:34:33 - cmdstanpy - INFO - Chain [1] done processing\n"
     ]
    },
    {
     "name": "stdout",
     "output_type": "stream",
     "text": [
      "[2025-09-16 20:34:33,053: INFO: model: Chain [1] done processing]\n",
      "[2025-09-16 20:34:33,069: INFO: 465351063: Model trained for store 39]\n",
      "[2025-09-16 20:34:33,069: INFO: 465351063: Model trained for store 39]\n",
      "[2025-09-16 20:34:33,069: INFO: 465351063: Started training for store 40]\n",
      "[2025-09-16 20:34:33,079: INFO: 465351063: Data prepared for store 40]\n",
      "[2025-09-16 20:34:33,079: DEBUG: command: cmd: where.exe tbb.dll\n",
      "cwd: None]\n",
      "[2025-09-16 20:34:33,144: DEBUG: model: TBB already found in load path]\n",
      "[2025-09-16 20:34:33,147: INFO: 465351063: Created base model's new instance]\n",
      "[2025-09-16 20:34:33,166: DEBUG: filesystem: input tempfile: C:\\Users\\rohan\\AppData\\Local\\Temp\\tmpsnym8bm2\\h284yc59.json]\n",
      "[2025-09-16 20:34:33,181: DEBUG: filesystem: input tempfile: C:\\Users\\rohan\\AppData\\Local\\Temp\\tmpsnym8bm2\\c3_9ftbk.json]\n",
      "[2025-09-16 20:34:33,184: DEBUG: model: idx 0]\n",
      "[2025-09-16 20:34:33,184: DEBUG: model: running CmdStan, num_threads: None]\n",
      "[2025-09-16 20:34:33,184: DEBUG: model: CmdStan args: ['C:\\\\Users\\\\rohan\\\\.conda\\\\envs\\\\tensorflow\\\\Lib\\\\site-packages\\\\prophet\\\\stan_model\\\\prophet_model.bin', 'random', 'seed=11668', 'data', 'file=C:\\\\Users\\\\rohan\\\\AppData\\\\Local\\\\Temp\\\\tmpsnym8bm2\\\\h284yc59.json', 'init=C:\\\\Users\\\\rohan\\\\AppData\\\\Local\\\\Temp\\\\tmpsnym8bm2\\\\c3_9ftbk.json', 'output', 'file=C:\\\\Users\\\\rohan\\\\AppData\\\\Local\\\\Temp\\\\tmpsnym8bm2\\\\prophet_modelrd6xsg3b\\\\prophet_model-20250916203433.csv', 'method=optimize', 'algorithm=lbfgs', 'iter=10000']]\n"
     ]
    },
    {
     "name": "stderr",
     "output_type": "stream",
     "text": [
      "20:34:33 - cmdstanpy - INFO - Chain [1] start processing\n"
     ]
    },
    {
     "name": "stdout",
     "output_type": "stream",
     "text": [
      "[2025-09-16 20:34:33,184: INFO: model: Chain [1] start processing]\n"
     ]
    },
    {
     "name": "stderr",
     "output_type": "stream",
     "text": [
      "20:34:33 - cmdstanpy - INFO - Chain [1] done processing\n"
     ]
    },
    {
     "name": "stdout",
     "output_type": "stream",
     "text": [
      "[2025-09-16 20:34:33,233: INFO: model: Chain [1] done processing]\n",
      "[2025-09-16 20:34:33,247: INFO: 465351063: Model trained for store 40]\n",
      "[2025-09-16 20:34:33,248: INFO: 465351063: Model trained for store 40]\n",
      "[2025-09-16 20:34:33,249: INFO: 465351063: Started training for store 41]\n",
      "[2025-09-16 20:34:33,258: INFO: 465351063: Data prepared for store 41]\n",
      "[2025-09-16 20:34:33,258: DEBUG: command: cmd: where.exe tbb.dll\n",
      "cwd: None]\n",
      "[2025-09-16 20:34:33,318: DEBUG: model: TBB already found in load path]\n",
      "[2025-09-16 20:34:33,318: INFO: 465351063: Created base model's new instance]\n",
      "[2025-09-16 20:34:33,348: DEBUG: filesystem: input tempfile: C:\\Users\\rohan\\AppData\\Local\\Temp\\tmpsnym8bm2\\5xs8v54b.json]\n",
      "[2025-09-16 20:34:33,362: DEBUG: filesystem: input tempfile: C:\\Users\\rohan\\AppData\\Local\\Temp\\tmpsnym8bm2\\ci4wnjp0.json]\n",
      "[2025-09-16 20:34:33,368: DEBUG: model: idx 0]\n",
      "[2025-09-16 20:34:33,368: DEBUG: model: running CmdStan, num_threads: None]\n",
      "[2025-09-16 20:34:33,368: DEBUG: model: CmdStan args: ['C:\\\\Users\\\\rohan\\\\.conda\\\\envs\\\\tensorflow\\\\Lib\\\\site-packages\\\\prophet\\\\stan_model\\\\prophet_model.bin', 'random', 'seed=89785', 'data', 'file=C:\\\\Users\\\\rohan\\\\AppData\\\\Local\\\\Temp\\\\tmpsnym8bm2\\\\5xs8v54b.json', 'init=C:\\\\Users\\\\rohan\\\\AppData\\\\Local\\\\Temp\\\\tmpsnym8bm2\\\\ci4wnjp0.json', 'output', 'file=C:\\\\Users\\\\rohan\\\\AppData\\\\Local\\\\Temp\\\\tmpsnym8bm2\\\\prophet_model4tgsb_0r\\\\prophet_model-20250916203433.csv', 'method=optimize', 'algorithm=lbfgs', 'iter=10000']]\n"
     ]
    },
    {
     "name": "stderr",
     "output_type": "stream",
     "text": [
      "20:34:33 - cmdstanpy - INFO - Chain [1] start processing\n"
     ]
    },
    {
     "name": "stdout",
     "output_type": "stream",
     "text": [
      "[2025-09-16 20:34:33,373: INFO: model: Chain [1] start processing]\n"
     ]
    },
    {
     "name": "stderr",
     "output_type": "stream",
     "text": [
      "20:34:33 - cmdstanpy - INFO - Chain [1] done processing\n"
     ]
    },
    {
     "name": "stdout",
     "output_type": "stream",
     "text": [
      "[2025-09-16 20:34:33,424: INFO: model: Chain [1] done processing]\n",
      "[2025-09-16 20:34:33,435: INFO: 465351063: Model trained for store 41]\n",
      "[2025-09-16 20:34:33,439: INFO: 465351063: Model trained for store 41]\n",
      "[2025-09-16 20:34:33,439: INFO: 465351063: Started training for store 42]\n",
      "[2025-09-16 20:34:33,444: INFO: 465351063: Data prepared for store 42]\n",
      "[2025-09-16 20:34:33,451: DEBUG: command: cmd: where.exe tbb.dll\n",
      "cwd: None]\n",
      "[2025-09-16 20:34:33,515: DEBUG: model: TBB already found in load path]\n",
      "[2025-09-16 20:34:33,515: INFO: 465351063: Created base model's new instance]\n",
      "[2025-09-16 20:34:33,536: DEBUG: filesystem: input tempfile: C:\\Users\\rohan\\AppData\\Local\\Temp\\tmpsnym8bm2\\y896wxm0.json]\n",
      "[2025-09-16 20:34:33,551: DEBUG: filesystem: input tempfile: C:\\Users\\rohan\\AppData\\Local\\Temp\\tmpsnym8bm2\\m5az5s1u.json]\n",
      "[2025-09-16 20:34:33,555: DEBUG: model: idx 0]\n",
      "[2025-09-16 20:34:33,555: DEBUG: model: running CmdStan, num_threads: None]\n",
      "[2025-09-16 20:34:33,558: DEBUG: model: CmdStan args: ['C:\\\\Users\\\\rohan\\\\.conda\\\\envs\\\\tensorflow\\\\Lib\\\\site-packages\\\\prophet\\\\stan_model\\\\prophet_model.bin', 'random', 'seed=4961', 'data', 'file=C:\\\\Users\\\\rohan\\\\AppData\\\\Local\\\\Temp\\\\tmpsnym8bm2\\\\y896wxm0.json', 'init=C:\\\\Users\\\\rohan\\\\AppData\\\\Local\\\\Temp\\\\tmpsnym8bm2\\\\m5az5s1u.json', 'output', 'file=C:\\\\Users\\\\rohan\\\\AppData\\\\Local\\\\Temp\\\\tmpsnym8bm2\\\\prophet_modelkq6nitof\\\\prophet_model-20250916203433.csv', 'method=optimize', 'algorithm=lbfgs', 'iter=10000']]\n"
     ]
    },
    {
     "name": "stderr",
     "output_type": "stream",
     "text": [
      "20:34:33 - cmdstanpy - INFO - Chain [1] start processing\n"
     ]
    },
    {
     "name": "stdout",
     "output_type": "stream",
     "text": [
      "[2025-09-16 20:34:33,560: INFO: model: Chain [1] start processing]\n"
     ]
    },
    {
     "name": "stderr",
     "output_type": "stream",
     "text": [
      "20:34:33 - cmdstanpy - INFO - Chain [1] done processing\n"
     ]
    },
    {
     "name": "stdout",
     "output_type": "stream",
     "text": [
      "[2025-09-16 20:34:33,610: INFO: model: Chain [1] done processing]\n",
      "[2025-09-16 20:34:33,620: INFO: 465351063: Model trained for store 42]\n",
      "[2025-09-16 20:34:33,620: INFO: 465351063: Model trained for store 42]\n",
      "[2025-09-16 20:34:33,620: INFO: 465351063: Started training for store 43]\n",
      "[2025-09-16 20:34:33,632: INFO: 465351063: Data prepared for store 43]\n",
      "[2025-09-16 20:34:33,636: DEBUG: command: cmd: where.exe tbb.dll\n",
      "cwd: None]\n",
      "[2025-09-16 20:34:33,701: DEBUG: model: TBB already found in load path]\n",
      "[2025-09-16 20:34:33,701: INFO: 465351063: Created base model's new instance]\n",
      "[2025-09-16 20:34:33,722: DEBUG: filesystem: input tempfile: C:\\Users\\rohan\\AppData\\Local\\Temp\\tmpsnym8bm2\\on2rhosu.json]\n",
      "[2025-09-16 20:34:33,735: DEBUG: filesystem: input tempfile: C:\\Users\\rohan\\AppData\\Local\\Temp\\tmpsnym8bm2\\rggktycd.json]\n",
      "[2025-09-16 20:34:33,740: DEBUG: model: idx 0]\n",
      "[2025-09-16 20:34:33,740: DEBUG: model: running CmdStan, num_threads: None]\n",
      "[2025-09-16 20:34:33,743: DEBUG: model: CmdStan args: ['C:\\\\Users\\\\rohan\\\\.conda\\\\envs\\\\tensorflow\\\\Lib\\\\site-packages\\\\prophet\\\\stan_model\\\\prophet_model.bin', 'random', 'seed=81147', 'data', 'file=C:\\\\Users\\\\rohan\\\\AppData\\\\Local\\\\Temp\\\\tmpsnym8bm2\\\\on2rhosu.json', 'init=C:\\\\Users\\\\rohan\\\\AppData\\\\Local\\\\Temp\\\\tmpsnym8bm2\\\\rggktycd.json', 'output', 'file=C:\\\\Users\\\\rohan\\\\AppData\\\\Local\\\\Temp\\\\tmpsnym8bm2\\\\prophet_modelrii01ril\\\\prophet_model-20250916203433.csv', 'method=optimize', 'algorithm=lbfgs', 'iter=10000']]\n"
     ]
    },
    {
     "name": "stderr",
     "output_type": "stream",
     "text": [
      "20:34:33 - cmdstanpy - INFO - Chain [1] start processing\n"
     ]
    },
    {
     "name": "stdout",
     "output_type": "stream",
     "text": [
      "[2025-09-16 20:34:33,743: INFO: model: Chain [1] start processing]\n"
     ]
    },
    {
     "name": "stderr",
     "output_type": "stream",
     "text": [
      "20:34:33 - cmdstanpy - INFO - Chain [1] done processing\n"
     ]
    },
    {
     "name": "stdout",
     "output_type": "stream",
     "text": [
      "[2025-09-16 20:34:33,791: INFO: model: Chain [1] done processing]\n",
      "[2025-09-16 20:34:33,806: INFO: 465351063: Model trained for store 43]\n",
      "[2025-09-16 20:34:33,807: INFO: 465351063: Model trained for store 43]\n",
      "[2025-09-16 20:34:33,807: INFO: 465351063: Started training for store 44]\n",
      "[2025-09-16 20:34:33,812: INFO: 465351063: Data prepared for store 44]\n",
      "[2025-09-16 20:34:33,819: DEBUG: command: cmd: where.exe tbb.dll\n",
      "cwd: None]\n",
      "[2025-09-16 20:34:33,886: DEBUG: model: TBB already found in load path]\n",
      "[2025-09-16 20:34:33,886: INFO: 465351063: Created base model's new instance]\n",
      "[2025-09-16 20:34:33,915: DEBUG: filesystem: input tempfile: C:\\Users\\rohan\\AppData\\Local\\Temp\\tmpsnym8bm2\\y_12noyq.json]\n",
      "[2025-09-16 20:34:33,944: DEBUG: filesystem: input tempfile: C:\\Users\\rohan\\AppData\\Local\\Temp\\tmpsnym8bm2\\fo9ab0j1.json]\n",
      "[2025-09-16 20:34:33,954: DEBUG: model: idx 0]\n",
      "[2025-09-16 20:34:33,961: DEBUG: model: running CmdStan, num_threads: None]\n",
      "[2025-09-16 20:34:33,971: DEBUG: model: CmdStan args: ['C:\\\\Users\\\\rohan\\\\.conda\\\\envs\\\\tensorflow\\\\Lib\\\\site-packages\\\\prophet\\\\stan_model\\\\prophet_model.bin', 'random', 'seed=84516', 'data', 'file=C:\\\\Users\\\\rohan\\\\AppData\\\\Local\\\\Temp\\\\tmpsnym8bm2\\\\y_12noyq.json', 'init=C:\\\\Users\\\\rohan\\\\AppData\\\\Local\\\\Temp\\\\tmpsnym8bm2\\\\fo9ab0j1.json', 'output', 'file=C:\\\\Users\\\\rohan\\\\AppData\\\\Local\\\\Temp\\\\tmpsnym8bm2\\\\prophet_model4fy4q8m3\\\\prophet_model-20250916203433.csv', 'method=optimize', 'algorithm=lbfgs', 'iter=10000']]\n"
     ]
    },
    {
     "name": "stderr",
     "output_type": "stream",
     "text": [
      "20:34:33 - cmdstanpy - INFO - Chain [1] start processing\n"
     ]
    },
    {
     "name": "stdout",
     "output_type": "stream",
     "text": [
      "[2025-09-16 20:34:33,973: INFO: model: Chain [1] start processing]\n"
     ]
    },
    {
     "name": "stderr",
     "output_type": "stream",
     "text": [
      "20:34:34 - cmdstanpy - INFO - Chain [1] done processing\n"
     ]
    },
    {
     "name": "stdout",
     "output_type": "stream",
     "text": [
      "[2025-09-16 20:34:34,046: INFO: model: Chain [1] done processing]\n",
      "[2025-09-16 20:34:34,064: INFO: 465351063: Model trained for store 44]\n",
      "[2025-09-16 20:34:34,064: INFO: 465351063: Model trained for store 44]\n",
      "[2025-09-16 20:34:34,064: INFO: 465351063: Started training for store 45]\n",
      "[2025-09-16 20:34:34,073: INFO: 465351063: Data prepared for store 45]\n",
      "[2025-09-16 20:34:34,076: DEBUG: command: cmd: where.exe tbb.dll\n",
      "cwd: None]\n",
      "[2025-09-16 20:34:34,142: DEBUG: model: TBB already found in load path]\n",
      "[2025-09-16 20:34:34,143: INFO: 465351063: Created base model's new instance]\n",
      "[2025-09-16 20:34:34,171: DEBUG: filesystem: input tempfile: C:\\Users\\rohan\\AppData\\Local\\Temp\\tmpsnym8bm2\\x1vuymqo.json]\n",
      "[2025-09-16 20:34:34,189: DEBUG: filesystem: input tempfile: C:\\Users\\rohan\\AppData\\Local\\Temp\\tmpsnym8bm2\\_uw57jf_.json]\n",
      "[2025-09-16 20:34:34,192: DEBUG: model: idx 0]\n",
      "[2025-09-16 20:34:34,192: DEBUG: model: running CmdStan, num_threads: None]\n",
      "[2025-09-16 20:34:34,192: DEBUG: model: CmdStan args: ['C:\\\\Users\\\\rohan\\\\.conda\\\\envs\\\\tensorflow\\\\Lib\\\\site-packages\\\\prophet\\\\stan_model\\\\prophet_model.bin', 'random', 'seed=66844', 'data', 'file=C:\\\\Users\\\\rohan\\\\AppData\\\\Local\\\\Temp\\\\tmpsnym8bm2\\\\x1vuymqo.json', 'init=C:\\\\Users\\\\rohan\\\\AppData\\\\Local\\\\Temp\\\\tmpsnym8bm2\\\\_uw57jf_.json', 'output', 'file=C:\\\\Users\\\\rohan\\\\AppData\\\\Local\\\\Temp\\\\tmpsnym8bm2\\\\prophet_modeltw92l0fi\\\\prophet_model-20250916203434.csv', 'method=optimize', 'algorithm=lbfgs', 'iter=10000']]\n"
     ]
    },
    {
     "name": "stderr",
     "output_type": "stream",
     "text": [
      "20:34:34 - cmdstanpy - INFO - Chain [1] start processing\n"
     ]
    },
    {
     "name": "stdout",
     "output_type": "stream",
     "text": [
      "[2025-09-16 20:34:34,195: INFO: model: Chain [1] start processing]\n"
     ]
    },
    {
     "name": "stderr",
     "output_type": "stream",
     "text": [
      "20:34:34 - cmdstanpy - INFO - Chain [1] done processing\n"
     ]
    },
    {
     "name": "stdout",
     "output_type": "stream",
     "text": [
      "[2025-09-16 20:34:34,260: INFO: model: Chain [1] done processing]\n",
      "[2025-09-16 20:34:34,275: INFO: 465351063: Model trained for store 45]\n",
      "[2025-09-16 20:34:34,276: INFO: 465351063: Model trained for store 45]\n",
      "[2025-09-16 20:34:34,282: INFO: 465351063: model saved for store 1 at artifacts\\model_train\\trained_models\\prophet_1.pkl]\n",
      "[2025-09-16 20:34:34,284: INFO: 465351063: model saved for store 2 at artifacts\\model_train\\trained_models\\prophet_2.pkl]\n",
      "[2025-09-16 20:34:34,288: INFO: 465351063: model saved for store 3 at artifacts\\model_train\\trained_models\\prophet_3.pkl]\n",
      "[2025-09-16 20:34:34,291: INFO: 465351063: model saved for store 4 at artifacts\\model_train\\trained_models\\prophet_4.pkl]\n",
      "[2025-09-16 20:34:34,293: INFO: 465351063: model saved for store 5 at artifacts\\model_train\\trained_models\\prophet_5.pkl]\n",
      "[2025-09-16 20:34:34,297: INFO: 465351063: model saved for store 6 at artifacts\\model_train\\trained_models\\prophet_6.pkl]\n",
      "[2025-09-16 20:34:34,301: INFO: 465351063: model saved for store 7 at artifacts\\model_train\\trained_models\\prophet_7.pkl]\n",
      "[2025-09-16 20:34:34,304: INFO: 465351063: model saved for store 8 at artifacts\\model_train\\trained_models\\prophet_8.pkl]\n",
      "[2025-09-16 20:34:34,304: INFO: 465351063: model saved for store 9 at artifacts\\model_train\\trained_models\\prophet_9.pkl]\n",
      "[2025-09-16 20:34:34,310: INFO: 465351063: model saved for store 10 at artifacts\\model_train\\trained_models\\prophet_10.pkl]\n",
      "[2025-09-16 20:34:34,315: INFO: 465351063: model saved for store 11 at artifacts\\model_train\\trained_models\\prophet_11.pkl]\n",
      "[2025-09-16 20:34:34,318: INFO: 465351063: model saved for store 12 at artifacts\\model_train\\trained_models\\prophet_12.pkl]\n",
      "[2025-09-16 20:34:34,322: INFO: 465351063: model saved for store 13 at artifacts\\model_train\\trained_models\\prophet_13.pkl]\n",
      "[2025-09-16 20:34:34,325: INFO: 465351063: model saved for store 14 at artifacts\\model_train\\trained_models\\prophet_14.pkl]\n",
      "[2025-09-16 20:34:34,327: INFO: 465351063: model saved for store 15 at artifacts\\model_train\\trained_models\\prophet_15.pkl]\n",
      "[2025-09-16 20:34:34,334: INFO: 465351063: model saved for store 16 at artifacts\\model_train\\trained_models\\prophet_16.pkl]\n",
      "[2025-09-16 20:34:34,338: INFO: 465351063: model saved for store 17 at artifacts\\model_train\\trained_models\\prophet_17.pkl]\n",
      "[2025-09-16 20:34:34,341: INFO: 465351063: model saved for store 18 at artifacts\\model_train\\trained_models\\prophet_18.pkl]\n",
      "[2025-09-16 20:34:34,343: INFO: 465351063: model saved for store 19 at artifacts\\model_train\\trained_models\\prophet_19.pkl]\n",
      "[2025-09-16 20:34:34,352: INFO: 465351063: model saved for store 20 at artifacts\\model_train\\trained_models\\prophet_20.pkl]\n",
      "[2025-09-16 20:34:34,356: INFO: 465351063: model saved for store 21 at artifacts\\model_train\\trained_models\\prophet_21.pkl]\n",
      "[2025-09-16 20:34:34,356: INFO: 465351063: model saved for store 22 at artifacts\\model_train\\trained_models\\prophet_22.pkl]\n",
      "[2025-09-16 20:34:34,364: INFO: 465351063: model saved for store 23 at artifacts\\model_train\\trained_models\\prophet_23.pkl]\n",
      "[2025-09-16 20:34:34,368: INFO: 465351063: model saved for store 24 at artifacts\\model_train\\trained_models\\prophet_24.pkl]\n",
      "[2025-09-16 20:34:34,372: INFO: 465351063: model saved for store 25 at artifacts\\model_train\\trained_models\\prophet_25.pkl]\n",
      "[2025-09-16 20:34:34,375: INFO: 465351063: model saved for store 26 at artifacts\\model_train\\trained_models\\prophet_26.pkl]\n",
      "[2025-09-16 20:34:34,381: INFO: 465351063: model saved for store 27 at artifacts\\model_train\\trained_models\\prophet_27.pkl]\n",
      "[2025-09-16 20:34:34,386: INFO: 465351063: model saved for store 28 at artifacts\\model_train\\trained_models\\prophet_28.pkl]\n",
      "[2025-09-16 20:34:34,393: INFO: 465351063: model saved for store 29 at artifacts\\model_train\\trained_models\\prophet_29.pkl]\n",
      "[2025-09-16 20:34:34,395: INFO: 465351063: model saved for store 30 at artifacts\\model_train\\trained_models\\prophet_30.pkl]\n",
      "[2025-09-16 20:34:34,398: INFO: 465351063: model saved for store 31 at artifacts\\model_train\\trained_models\\prophet_31.pkl]\n",
      "[2025-09-16 20:34:34,402: INFO: 465351063: model saved for store 32 at artifacts\\model_train\\trained_models\\prophet_32.pkl]\n",
      "[2025-09-16 20:34:34,408: INFO: 465351063: model saved for store 33 at artifacts\\model_train\\trained_models\\prophet_33.pkl]\n",
      "[2025-09-16 20:34:34,411: INFO: 465351063: model saved for store 34 at artifacts\\model_train\\trained_models\\prophet_34.pkl]\n",
      "[2025-09-16 20:34:34,413: INFO: 465351063: model saved for store 35 at artifacts\\model_train\\trained_models\\prophet_35.pkl]\n",
      "[2025-09-16 20:34:34,421: INFO: 465351063: model saved for store 36 at artifacts\\model_train\\trained_models\\prophet_36.pkl]\n",
      "[2025-09-16 20:34:34,423: INFO: 465351063: model saved for store 37 at artifacts\\model_train\\trained_models\\prophet_37.pkl]\n",
      "[2025-09-16 20:34:34,423: INFO: 465351063: model saved for store 38 at artifacts\\model_train\\trained_models\\prophet_38.pkl]\n",
      "[2025-09-16 20:34:34,431: INFO: 465351063: model saved for store 39 at artifacts\\model_train\\trained_models\\prophet_39.pkl]\n",
      "[2025-09-16 20:34:34,433: INFO: 465351063: model saved for store 40 at artifacts\\model_train\\trained_models\\prophet_40.pkl]\n",
      "[2025-09-16 20:34:34,438: INFO: 465351063: model saved for store 41 at artifacts\\model_train\\trained_models\\prophet_41.pkl]\n",
      "[2025-09-16 20:34:34,443: INFO: 465351063: model saved for store 42 at artifacts\\model_train\\trained_models\\prophet_42.pkl]\n",
      "[2025-09-16 20:34:34,443: INFO: 465351063: model saved for store 43 at artifacts\\model_train\\trained_models\\prophet_43.pkl]\n",
      "[2025-09-16 20:34:34,451: INFO: 465351063: model saved for store 44 at artifacts\\model_train\\trained_models\\prophet_44.pkl]\n",
      "[2025-09-16 20:34:34,457: INFO: 465351063: model saved for store 45 at artifacts\\model_train\\trained_models\\prophet_45.pkl]\n"
     ]
    }
   ],
   "source": [
    "try:\n",
    "    config=ConfigurationManager()\n",
    "    train_model=ModelTrain(config.getModelTrainingConfig())\n",
    "    train_model.load_dataset()\n",
    "    train_model.trainAll()\n",
    "    train_model.save_models()\n",
    "except Exception as e:\n",
    "    raise e"
   ]
  },
  {
   "cell_type": "code",
   "execution_count": 15,
   "id": "94fd627b",
   "metadata": {},
   "outputs": [],
   "source": [
    "%pwd\n",
    "import pickle\n",
    "from sklearn.metrics import mean_absolute_error, mean_absolute_percentage_error"
   ]
  },
  {
   "cell_type": "code",
   "execution_count": 16,
   "id": "44d90f26",
   "metadata": {},
   "outputs": [],
   "source": [
    "from typing import Dict\n",
    "\n",
    "\n",
    "class ModelEvaluation:\n",
    "    def __init__(self,config:ModelEvaluationConfig):\n",
    "        self.config=config\n",
    "        self.models=None\n",
    "        self.forecasts={}\n",
    "        self.dataset=None\n",
    "        self.results={}\n",
    "\n",
    "    def load_models(self)->dict:\n",
    "        models={}\n",
    "        models_path=self.config.model_path\n",
    "        if not models_path.exists():\n",
    "            logger.error(\"No model path exists\")\n",
    "        \n",
    "        model_files=list(models_path.glob(\"prophet_*.pkl\"))\n",
    "\n",
    "        if not model_files:\n",
    "            logger.warning(\"No models found\")\n",
    "        logger.info(f\"Found {len(model_files)} models\")\n",
    "\n",
    "        for model_file in model_files:\n",
    "            file=model_file.stem\n",
    "            store=int(file.split(\"_\")[1])\n",
    "            with open(model_file,'rb') as f:\n",
    "                model=pickle.load(f)\n",
    "            models[store]=model\n",
    "            logger.info(f\"Model loaded for store {store}\")\n",
    "        self.models=models\n",
    "\n",
    "    def load_dataset(self):\n",
    "        df_path=self.config.dataset_path\n",
    "        df=pd.read_csv(df_path)\n",
    "        self.dataset=df\n",
    "        logger.info(\"Dataset loaded for model tarining\")\n",
    "\n",
    "    def store_data_prep(self,store_id:int)->pd.DataFrame:\n",
    "        store_data=self.dataset[self.dataset[self.config.store_column]==store_id]\n",
    "\n",
    "        store_data=store_data[[self.config.date_column,self.config.target_column]]\n",
    "        store_data=store_data.groupby(self.config.date_column).sum()\n",
    "        store_data.reset_index(inplace=True)\n",
    "        store_data.columns=['ds','y']\n",
    "        logger.info(f\"Data prepared for store {store_id}\")\n",
    "        return store_data\n",
    "    \n",
    "    def predictStore(self,store_id:int)-> pd.DataFrame:\n",
    "        model=self.models[store_id]\n",
    "\n",
    "        future=model.make_future_dataframe(\n",
    "            periods=self.config.forecast_periods,\n",
    "            freq=self.config.frequency\n",
    "        )\n",
    "        forecast=model.predict(future)\n",
    "        self.forecasts[store_id]=forecast\n",
    "\n",
    "        logger.info(f\"Forecasts generated for store {store_id}\")\n",
    "        return forecast\n",
    "    \n",
    "    def modelEval(self,store_id:int)->Dict[str,float]:\n",
    "        store_data=self.store_data_prep(store_id)\n",
    "        testData=store_data.iloc[self.config.train_split:]\n",
    "        \n",
    "        if store_id not in self.forecasts:\n",
    "            raise ValueError(f\"No store found for id= {store_id}\")\n",
    "        \n",
    "        forecast=self.forecasts[store_id]\n",
    "        y_pred=forecast['yhat'].tail(len(testData)).values\n",
    "        y_true=testData['y'].values\n",
    "\n",
    "        mape=mean_absolute_percentage_error(y_true=y_true,y_pred=y_pred)*100\n",
    "        mae=mean_absolute_error(y_true,y_pred)\n",
    "\n",
    "        metrics = {\n",
    "            'MAPE': round(mape, 4),\n",
    "            'MAE': round(mae, 4)\n",
    "        }\n",
    "\n",
    "        self.results[store_id] = metrics\n",
    "        logger.info(f\"Evaluation completed for store {store_id}: MAPE={mape:.2f}%\")\n",
    "\n",
    "        return metrics\n",
    "    \n",
    "    def evalAll(self):\n",
    "        stores=self.dataset[self.config.store_column].unique()\n",
    "        \n",
    "        logger.info(f\"Starting training {len(stores)} stores\")\n",
    "\n",
    "        for store_id in stores:\n",
    "            self.predictStore(store_id)\n",
    "            self.modelEval(store_id)\n",
    "\n",
    "    def save_evaluation_results(self):\n",
    "        if not self.results:\n",
    "            logger.warning(\"No results to save\")\n",
    "            return\n",
    "        \n",
    "        results_df = pd.DataFrame.from_dict(self.results, orient='index')\n",
    "        results_df.reset_index(inplace=True)\n",
    "        results_df.columns = ['Store', 'MAPE', 'MAE']\n",
    "        \n",
    "        results_path = self.config.evaluation_results_path\n",
    "        results_path.parent.mkdir(parents=True, exist_ok=True)\n",
    "        results_df.to_csv(results_path, index=False)\n",
    "        \n",
    "        logger.info(f\"Evaluation Results Summary:\")\n",
    "        logger.info(f\"  Average MAPE: {results_df['MAPE'].mean():.2f}%\")\n",
    "        logger.info(f\"  Median MAPE: {results_df['MAPE'].median():.2f}%\")\n",
    "        logger.info(f\"  Best MAPE: {results_df['MAPE'].min():.2f}% (Store {results_df.loc[results_df['MAPE'].idxmin(), 'Store']})\")\n",
    "        logger.info(f\"  Results saved to: {results_path}\")\n",
    "        \n",
    "        return results_df\n"
   ]
  },
  {
   "cell_type": "code",
   "execution_count": 17,
   "id": "acb56d7a",
   "metadata": {},
   "outputs": [
    {
     "name": "stdout",
     "output_type": "stream",
     "text": [
      "[2025-09-16 20:34:36,823: INFO: common: yaml file: config\\config.yaml loaded successfully]\n",
      "[2025-09-16 20:34:36,825: INFO: common: yaml file: params.yaml loaded successfully]\n",
      "[2025-09-16 20:34:36,825: INFO: common: Created directory at: artifacts]\n",
      "[2025-09-16 20:34:36,830: INFO: common: Created directory at: artifacts/model_evaluation]\n",
      "[2025-09-16 20:34:36,832: INFO: 850444778: Found 45 models]\n",
      "[2025-09-16 20:34:36,848: INFO: 850444778: Model loaded for store 1]\n",
      "[2025-09-16 20:34:36,863: INFO: 850444778: Model loaded for store 10]\n",
      "[2025-09-16 20:34:36,876: INFO: 850444778: Model loaded for store 11]\n",
      "[2025-09-16 20:34:36,877: INFO: 850444778: Model loaded for store 12]\n",
      "[2025-09-16 20:34:36,902: INFO: 850444778: Model loaded for store 13]\n",
      "[2025-09-16 20:34:36,922: INFO: 850444778: Model loaded for store 14]\n",
      "[2025-09-16 20:34:36,936: INFO: 850444778: Model loaded for store 15]\n",
      "[2025-09-16 20:34:36,940: INFO: 850444778: Model loaded for store 16]\n",
      "[2025-09-16 20:34:36,960: INFO: 850444778: Model loaded for store 17]\n",
      "[2025-09-16 20:34:36,968: INFO: 850444778: Model loaded for store 18]\n",
      "[2025-09-16 20:34:36,990: INFO: 850444778: Model loaded for store 19]\n",
      "[2025-09-16 20:34:37,001: INFO: 850444778: Model loaded for store 2]\n",
      "[2025-09-16 20:34:37,019: INFO: 850444778: Model loaded for store 20]\n",
      "[2025-09-16 20:34:37,032: INFO: 850444778: Model loaded for store 21]\n",
      "[2025-09-16 20:34:37,055: INFO: 850444778: Model loaded for store 22]\n",
      "[2025-09-16 20:34:37,071: INFO: 850444778: Model loaded for store 23]\n",
      "[2025-09-16 20:34:37,090: INFO: 850444778: Model loaded for store 24]\n",
      "[2025-09-16 20:34:37,106: INFO: 850444778: Model loaded for store 25]\n",
      "[2025-09-16 20:34:37,122: INFO: 850444778: Model loaded for store 26]\n",
      "[2025-09-16 20:34:37,136: INFO: 850444778: Model loaded for store 27]\n",
      "[2025-09-16 20:34:37,141: INFO: 850444778: Model loaded for store 28]\n",
      "[2025-09-16 20:34:37,163: INFO: 850444778: Model loaded for store 29]\n",
      "[2025-09-16 20:34:37,193: INFO: 850444778: Model loaded for store 3]\n",
      "[2025-09-16 20:34:37,219: INFO: 850444778: Model loaded for store 30]\n",
      "[2025-09-16 20:34:37,244: INFO: 850444778: Model loaded for store 31]\n",
      "[2025-09-16 20:34:37,264: INFO: 850444778: Model loaded for store 32]\n",
      "[2025-09-16 20:34:37,289: INFO: 850444778: Model loaded for store 33]\n",
      "[2025-09-16 20:34:37,304: INFO: 850444778: Model loaded for store 34]\n",
      "[2025-09-16 20:34:37,322: INFO: 850444778: Model loaded for store 35]\n",
      "[2025-09-16 20:34:37,335: INFO: 850444778: Model loaded for store 36]\n",
      "[2025-09-16 20:34:37,352: INFO: 850444778: Model loaded for store 37]\n",
      "[2025-09-16 20:34:37,367: INFO: 850444778: Model loaded for store 38]\n",
      "[2025-09-16 20:34:37,388: INFO: 850444778: Model loaded for store 39]\n",
      "[2025-09-16 20:34:37,402: INFO: 850444778: Model loaded for store 4]\n",
      "[2025-09-16 20:34:37,417: INFO: 850444778: Model loaded for store 40]\n",
      "[2025-09-16 20:34:37,432: INFO: 850444778: Model loaded for store 41]\n",
      "[2025-09-16 20:34:37,447: INFO: 850444778: Model loaded for store 42]\n",
      "[2025-09-16 20:34:37,464: INFO: 850444778: Model loaded for store 43]\n",
      "[2025-09-16 20:34:37,479: INFO: 850444778: Model loaded for store 44]\n",
      "[2025-09-16 20:34:37,493: INFO: 850444778: Model loaded for store 45]\n",
      "[2025-09-16 20:34:37,506: INFO: 850444778: Model loaded for store 5]\n",
      "[2025-09-16 20:34:37,520: INFO: 850444778: Model loaded for store 6]\n",
      "[2025-09-16 20:34:37,527: INFO: 850444778: Model loaded for store 7]\n",
      "[2025-09-16 20:34:37,539: INFO: 850444778: Model loaded for store 8]\n",
      "[2025-09-16 20:34:37,562: INFO: 850444778: Model loaded for store 9]\n",
      "[2025-09-16 20:34:40,092: INFO: 850444778: Dataset loaded for model tarining]\n",
      "[2025-09-16 20:34:40,099: INFO: 850444778: Starting training 45 stores]\n",
      "[2025-09-16 20:34:40,199: INFO: 850444778: Forecasts generated for store 1]\n",
      "[2025-09-16 20:34:40,204: INFO: 850444778: Data prepared for store 1]\n",
      "[2025-09-16 20:34:40,204: INFO: 850444778: Evaluation completed for store 1: MAPE=3.54%]\n",
      "[2025-09-16 20:34:40,286: INFO: 850444778: Forecasts generated for store 2]\n",
      "[2025-09-16 20:34:40,294: INFO: 850444778: Data prepared for store 2]\n",
      "[2025-09-16 20:34:40,298: INFO: 850444778: Evaluation completed for store 2: MAPE=3.69%]\n",
      "[2025-09-16 20:34:40,373: INFO: 850444778: Forecasts generated for store 3]\n",
      "[2025-09-16 20:34:40,380: INFO: 850444778: Data prepared for store 3]\n",
      "[2025-09-16 20:34:40,384: INFO: 850444778: Evaluation completed for store 3: MAPE=4.81%]\n",
      "[2025-09-16 20:34:40,463: INFO: 850444778: Forecasts generated for store 4]\n",
      "[2025-09-16 20:34:40,473: INFO: 850444778: Data prepared for store 4]\n",
      "[2025-09-16 20:34:40,473: INFO: 850444778: Evaluation completed for store 4: MAPE=3.17%]\n",
      "[2025-09-16 20:34:40,551: INFO: 850444778: Forecasts generated for store 5]\n",
      "[2025-09-16 20:34:40,557: INFO: 850444778: Data prepared for store 5]\n",
      "[2025-09-16 20:34:40,560: INFO: 850444778: Evaluation completed for store 5: MAPE=3.06%]\n",
      "[2025-09-16 20:34:40,619: INFO: 850444778: Forecasts generated for store 6]\n",
      "[2025-09-16 20:34:40,623: INFO: 850444778: Data prepared for store 6]\n",
      "[2025-09-16 20:34:40,627: INFO: 850444778: Evaluation completed for store 6: MAPE=3.67%]\n",
      "[2025-09-16 20:34:40,686: INFO: 850444778: Forecasts generated for store 7]\n",
      "[2025-09-16 20:34:40,691: INFO: 850444778: Data prepared for store 7]\n",
      "[2025-09-16 20:34:40,695: INFO: 850444778: Evaluation completed for store 7: MAPE=7.93%]\n",
      "[2025-09-16 20:34:40,743: INFO: 850444778: Forecasts generated for store 8]\n",
      "[2025-09-16 20:34:40,756: INFO: 850444778: Data prepared for store 8]\n",
      "[2025-09-16 20:34:40,761: INFO: 850444778: Evaluation completed for store 8: MAPE=2.96%]\n",
      "[2025-09-16 20:34:40,805: INFO: 850444778: Forecasts generated for store 9]\n",
      "[2025-09-16 20:34:40,825: INFO: 850444778: Data prepared for store 9]\n",
      "[2025-09-16 20:34:40,828: INFO: 850444778: Evaluation completed for store 9: MAPE=4.28%]\n",
      "[2025-09-16 20:34:40,889: INFO: 850444778: Forecasts generated for store 10]\n",
      "[2025-09-16 20:34:40,896: INFO: 850444778: Data prepared for store 10]\n",
      "[2025-09-16 20:34:40,898: INFO: 850444778: Evaluation completed for store 10: MAPE=3.01%]\n",
      "[2025-09-16 20:34:40,966: INFO: 850444778: Forecasts generated for store 11]\n",
      "[2025-09-16 20:34:40,973: INFO: 850444778: Data prepared for store 11]\n",
      "[2025-09-16 20:34:40,975: INFO: 850444778: Evaluation completed for store 11: MAPE=3.34%]\n",
      "[2025-09-16 20:34:41,036: INFO: 850444778: Forecasts generated for store 12]\n",
      "[2025-09-16 20:34:41,043: INFO: 850444778: Data prepared for store 12]\n",
      "[2025-09-16 20:34:41,047: INFO: 850444778: Evaluation completed for store 12: MAPE=3.39%]\n",
      "[2025-09-16 20:34:41,110: INFO: 850444778: Forecasts generated for store 13]\n",
      "[2025-09-16 20:34:41,117: INFO: 850444778: Data prepared for store 13]\n",
      "[2025-09-16 20:34:41,121: INFO: 850444778: Evaluation completed for store 13: MAPE=2.75%]\n",
      "[2025-09-16 20:34:41,172: INFO: 850444778: Forecasts generated for store 14]\n",
      "[2025-09-16 20:34:41,191: INFO: 850444778: Data prepared for store 14]\n",
      "[2025-09-16 20:34:41,191: INFO: 850444778: Evaluation completed for store 14: MAPE=13.69%]\n",
      "[2025-09-16 20:34:41,252: INFO: 850444778: Forecasts generated for store 15]\n",
      "[2025-09-16 20:34:41,258: INFO: 850444778: Data prepared for store 15]\n",
      "[2025-09-16 20:34:41,261: INFO: 850444778: Evaluation completed for store 15: MAPE=3.96%]\n",
      "[2025-09-16 20:34:41,328: INFO: 850444778: Forecasts generated for store 16]\n",
      "[2025-09-16 20:34:41,335: INFO: 850444778: Data prepared for store 16]\n",
      "[2025-09-16 20:34:41,339: INFO: 850444778: Evaluation completed for store 16: MAPE=6.88%]\n",
      "[2025-09-16 20:34:41,406: INFO: 850444778: Forecasts generated for store 17]\n",
      "[2025-09-16 20:34:41,411: INFO: 850444778: Data prepared for store 17]\n",
      "[2025-09-16 20:34:41,415: INFO: 850444778: Evaluation completed for store 17: MAPE=4.11%]\n",
      "[2025-09-16 20:34:41,469: INFO: 850444778: Forecasts generated for store 18]\n",
      "[2025-09-16 20:34:41,480: INFO: 850444778: Data prepared for store 18]\n",
      "[2025-09-16 20:34:41,482: INFO: 850444778: Evaluation completed for store 18: MAPE=6.16%]\n",
      "[2025-09-16 20:34:41,545: INFO: 850444778: Forecasts generated for store 19]\n",
      "[2025-09-16 20:34:41,551: INFO: 850444778: Data prepared for store 19]\n",
      "[2025-09-16 20:34:41,553: INFO: 850444778: Evaluation completed for store 19: MAPE=3.44%]\n",
      "[2025-09-16 20:34:41,621: INFO: 850444778: Forecasts generated for store 20]\n",
      "[2025-09-16 20:34:41,629: INFO: 850444778: Data prepared for store 20]\n",
      "[2025-09-16 20:34:41,632: INFO: 850444778: Evaluation completed for store 20: MAPE=3.83%]\n",
      "[2025-09-16 20:34:41,702: INFO: 850444778: Forecasts generated for store 21]\n",
      "[2025-09-16 20:34:41,709: INFO: 850444778: Data prepared for store 21]\n",
      "[2025-09-16 20:34:41,711: INFO: 850444778: Evaluation completed for store 21: MAPE=5.66%]\n",
      "[2025-09-16 20:34:41,774: INFO: 850444778: Forecasts generated for store 22]\n",
      "[2025-09-16 20:34:41,779: INFO: 850444778: Data prepared for store 22]\n",
      "[2025-09-16 20:34:41,782: INFO: 850444778: Evaluation completed for store 22: MAPE=3.00%]\n",
      "[2025-09-16 20:34:41,860: INFO: 850444778: Forecasts generated for store 23]\n",
      "[2025-09-16 20:34:41,864: INFO: 850444778: Data prepared for store 23]\n",
      "[2025-09-16 20:34:41,869: INFO: 850444778: Evaluation completed for store 23: MAPE=4.73%]\n",
      "[2025-09-16 20:34:41,954: INFO: 850444778: Forecasts generated for store 24]\n",
      "[2025-09-16 20:34:41,964: INFO: 850444778: Data prepared for store 24]\n",
      "[2025-09-16 20:34:41,967: INFO: 850444778: Evaluation completed for store 24: MAPE=4.31%]\n",
      "[2025-09-16 20:34:42,036: INFO: 850444778: Forecasts generated for store 25]\n",
      "[2025-09-16 20:34:42,043: INFO: 850444778: Data prepared for store 25]\n",
      "[2025-09-16 20:34:42,046: INFO: 850444778: Evaluation completed for store 25: MAPE=3.89%]\n",
      "[2025-09-16 20:34:42,108: INFO: 850444778: Forecasts generated for store 26]\n",
      "[2025-09-16 20:34:42,114: INFO: 850444778: Data prepared for store 26]\n",
      "[2025-09-16 20:34:42,117: INFO: 850444778: Evaluation completed for store 26: MAPE=2.84%]\n",
      "[2025-09-16 20:34:42,176: INFO: 850444778: Forecasts generated for store 27]\n",
      "[2025-09-16 20:34:42,183: INFO: 850444778: Data prepared for store 27]\n",
      "[2025-09-16 20:34:42,186: INFO: 850444778: Evaluation completed for store 27: MAPE=2.95%]\n",
      "[2025-09-16 20:34:42,234: INFO: 850444778: Forecasts generated for store 28]\n",
      "[2025-09-16 20:34:42,250: INFO: 850444778: Data prepared for store 28]\n",
      "[2025-09-16 20:34:42,253: INFO: 850444778: Evaluation completed for store 28: MAPE=8.23%]\n",
      "[2025-09-16 20:34:42,353: INFO: 850444778: Forecasts generated for store 29]\n",
      "[2025-09-16 20:34:42,373: INFO: 850444778: Data prepared for store 29]\n",
      "[2025-09-16 20:34:42,378: INFO: 850444778: Evaluation completed for store 29: MAPE=5.43%]\n",
      "[2025-09-16 20:34:42,456: INFO: 850444778: Forecasts generated for store 30]\n",
      "[2025-09-16 20:34:42,462: INFO: 850444778: Data prepared for store 30]\n",
      "[2025-09-16 20:34:42,465: INFO: 850444778: Evaluation completed for store 30: MAPE=2.45%]\n",
      "[2025-09-16 20:34:42,519: INFO: 850444778: Forecasts generated for store 31]\n",
      "[2025-09-16 20:34:42,528: INFO: 850444778: Data prepared for store 31]\n",
      "[2025-09-16 20:34:42,531: INFO: 850444778: Evaluation completed for store 31: MAPE=3.35%]\n",
      "[2025-09-16 20:34:42,591: INFO: 850444778: Forecasts generated for store 32]\n",
      "[2025-09-16 20:34:42,598: INFO: 850444778: Data prepared for store 32]\n",
      "[2025-09-16 20:34:42,601: INFO: 850444778: Evaluation completed for store 32: MAPE=2.67%]\n",
      "[2025-09-16 20:34:42,662: INFO: 850444778: Forecasts generated for store 33]\n",
      "[2025-09-16 20:34:42,672: INFO: 850444778: Data prepared for store 33]\n",
      "[2025-09-16 20:34:42,672: INFO: 850444778: Evaluation completed for store 33: MAPE=5.74%]\n",
      "[2025-09-16 20:34:42,738: INFO: 850444778: Forecasts generated for store 34]\n",
      "[2025-09-16 20:34:42,750: INFO: 850444778: Data prepared for store 34]\n",
      "[2025-09-16 20:34:42,753: INFO: 850444778: Evaluation completed for store 34: MAPE=2.53%]\n",
      "[2025-09-16 20:34:42,802: INFO: 850444778: Forecasts generated for store 35]\n",
      "[2025-09-16 20:34:42,816: INFO: 850444778: Data prepared for store 35]\n",
      "[2025-09-16 20:34:42,816: INFO: 850444778: Evaluation completed for store 35: MAPE=9.41%]\n",
      "[2025-09-16 20:34:42,876: INFO: 850444778: Forecasts generated for store 36]\n",
      "[2025-09-16 20:34:42,880: INFO: 850444778: Data prepared for store 36]\n",
      "[2025-09-16 20:34:42,884: INFO: 850444778: Evaluation completed for store 36: MAPE=3.84%]\n",
      "[2025-09-16 20:34:42,943: INFO: 850444778: Forecasts generated for store 37]\n",
      "[2025-09-16 20:34:42,952: INFO: 850444778: Data prepared for store 37]\n",
      "[2025-09-16 20:34:42,955: INFO: 850444778: Evaluation completed for store 37: MAPE=2.01%]\n",
      "[2025-09-16 20:34:43,023: INFO: 850444778: Forecasts generated for store 38]\n",
      "[2025-09-16 20:34:43,028: INFO: 850444778: Data prepared for store 38]\n",
      "[2025-09-16 20:34:43,031: INFO: 850444778: Evaluation completed for store 38: MAPE=6.15%]\n",
      "[2025-09-16 20:34:43,098: INFO: 850444778: Forecasts generated for store 39]\n",
      "[2025-09-16 20:34:43,105: INFO: 850444778: Data prepared for store 39]\n",
      "[2025-09-16 20:34:43,107: INFO: 850444778: Evaluation completed for store 39: MAPE=2.94%]\n",
      "[2025-09-16 20:34:43,168: INFO: 850444778: Forecasts generated for store 40]\n",
      "[2025-09-16 20:34:43,180: INFO: 850444778: Data prepared for store 40]\n",
      "[2025-09-16 20:34:43,185: INFO: 850444778: Evaluation completed for store 40: MAPE=4.41%]\n",
      "[2025-09-16 20:34:43,245: INFO: 850444778: Forecasts generated for store 41]\n",
      "[2025-09-16 20:34:43,257: INFO: 850444778: Data prepared for store 41]\n",
      "[2025-09-16 20:34:43,259: INFO: 850444778: Evaluation completed for store 41: MAPE=2.75%]\n",
      "[2025-09-16 20:34:43,331: INFO: 850444778: Forecasts generated for store 42]\n",
      "[2025-09-16 20:34:43,343: INFO: 850444778: Data prepared for store 42]\n",
      "[2025-09-16 20:34:43,346: INFO: 850444778: Evaluation completed for store 42: MAPE=8.33%]\n",
      "[2025-09-16 20:34:43,404: INFO: 850444778: Forecasts generated for store 43]\n",
      "[2025-09-16 20:34:43,415: INFO: 850444778: Data prepared for store 43]\n",
      "[2025-09-16 20:34:43,417: INFO: 850444778: Evaluation completed for store 43: MAPE=8.11%]\n",
      "[2025-09-16 20:34:43,475: INFO: 850444778: Forecasts generated for store 44]\n",
      "[2025-09-16 20:34:43,481: INFO: 850444778: Data prepared for store 44]\n",
      "[2025-09-16 20:34:43,486: INFO: 850444778: Evaluation completed for store 44: MAPE=2.42%]\n",
      "[2025-09-16 20:34:43,545: INFO: 850444778: Forecasts generated for store 45]\n",
      "[2025-09-16 20:34:43,554: INFO: 850444778: Data prepared for store 45]\n",
      "[2025-09-16 20:34:43,556: INFO: 850444778: Evaluation completed for store 45: MAPE=2.62%]\n",
      "[2025-09-16 20:34:43,563: INFO: 850444778: Evaluation Results Summary:]\n",
      "[2025-09-16 20:34:43,565: INFO: 850444778:   Average MAPE: 4.50%]\n",
      "[2025-09-16 20:34:43,568: INFO: 850444778:   Median MAPE: 3.69%]\n",
      "[2025-09-16 20:34:43,571: INFO: 850444778:   Best MAPE: 2.01% (Store 37)]\n",
      "[2025-09-16 20:34:43,571: INFO: 850444778:   Results saved to: artifacts\\model_evaluation\\evaluations_result_path]\n"
     ]
    }
   ],
   "source": [
    "try:\n",
    "    config=ConfigurationManager()\n",
    "    model_eval=ModelEvaluation(config.getModelEvaluationConfig())\n",
    "    model_eval.load_models()\n",
    "    model_eval.load_dataset()\n",
    "    model_eval.evalAll()\n",
    "    model_eval.save_evaluation_results()\n",
    "except Exception as e:\n",
    "    raise e"
   ]
  },
  {
   "cell_type": "code",
   "execution_count": 20,
   "id": "f0b59cc0",
   "metadata": {},
   "outputs": [],
   "source": [
    "from typing import Any\n",
    "\n",
    "\n",
    "class ModelPredictor:\n",
    "    def __init__(self,config:ModelPredictionConfig):\n",
    "        self.config=config\n",
    "        self.models={}\n",
    "\n",
    "    def load_models(self)->dict:\n",
    "        models={}\n",
    "        model_path=self.config.model_path\n",
    "        if not model_path.exists():\n",
    "            logger.error(\"No model path exists\")\n",
    "        \n",
    "        model_files=list(model_path.glob(\"prophet_*.pkl\"))\n",
    "\n",
    "        if not model_files:\n",
    "            logger.warning(\"No models found\")\n",
    "        logger.info(f\"Found {len(model_files)} models\")\n",
    "\n",
    "        for model_file in model_files:\n",
    "            file=model_file.stem\n",
    "            store=int(file.split(\"_\")[1])\n",
    "            with open(model_file,'rb') as f:\n",
    "                model=pickle.load(f)\n",
    "            models[store]=model\n",
    "            logger.info(f\"Model loaded for store {store}\")\n",
    "        self.models=models\n",
    "\n",
    "    def predSales(self,store_id:int,date:str)->Dict[str,Any]:\n",
    "        if store_id not in self.models:\n",
    "            raise ValueError(f\"Model for store {store_id} not found.\")\n",
    "        \n",
    "        model=self.models[store_id]\n",
    "        future=pd.DataFrame({'ds':[pd.to_datetime(date)]})\n",
    "        forecast=model.predict(future)\n",
    "\n",
    "        res={\n",
    "            \"store_id\":store_id,\n",
    "            \"prediction_date\":date,\n",
    "            \"predicted_sales\":round(forecast['yhat'].iloc[0],2),\n",
    "            'lower_bound': round(forecast['yhat_lower'].iloc[0], 2),\n",
    "            'upper_bound': round(forecast['yhat_upper'].iloc[0], 2)\n",
    "        }\n",
    "\n",
    "        logger.info(f\"prediction for store {store_id} on {date} is ${res['predicted_sales']:,.2f}\")\n",
    "        return res"
   ]
  },
  {
   "cell_type": "code",
   "execution_count": 21,
   "id": "654859d3",
   "metadata": {},
   "outputs": [
    {
     "name": "stdout",
     "output_type": "stream",
     "text": [
      "[2025-09-16 20:35:36,501: INFO: common: yaml file: config\\config.yaml loaded successfully]\n",
      "[2025-09-16 20:35:36,508: INFO: common: yaml file: params.yaml loaded successfully]\n",
      "[2025-09-16 20:35:36,511: INFO: common: Created directory at: artifacts]\n",
      "[2025-09-16 20:35:36,513: INFO: common: Created directory at: artifacts/model_evaluation]\n",
      "[2025-09-16 20:35:36,518: INFO: 1353086594: Found 45 models]\n",
      "[2025-09-16 20:35:36,524: INFO: 1353086594: Model loaded for store 1]\n",
      "[2025-09-16 20:35:36,528: INFO: 1353086594: Model loaded for store 10]\n",
      "[2025-09-16 20:35:36,535: INFO: 1353086594: Model loaded for store 11]\n",
      "[2025-09-16 20:35:36,543: INFO: 1353086594: Model loaded for store 12]\n",
      "[2025-09-16 20:35:36,549: INFO: 1353086594: Model loaded for store 13]\n",
      "[2025-09-16 20:35:36,553: INFO: 1353086594: Model loaded for store 14]\n",
      "[2025-09-16 20:35:36,558: INFO: 1353086594: Model loaded for store 15]\n",
      "[2025-09-16 20:35:36,564: INFO: 1353086594: Model loaded for store 16]\n",
      "[2025-09-16 20:35:36,572: INFO: 1353086594: Model loaded for store 17]\n",
      "[2025-09-16 20:35:36,579: INFO: 1353086594: Model loaded for store 18]\n",
      "[2025-09-16 20:35:36,584: INFO: 1353086594: Model loaded for store 19]\n",
      "[2025-09-16 20:35:36,588: INFO: 1353086594: Model loaded for store 2]\n",
      "[2025-09-16 20:35:36,593: INFO: 1353086594: Model loaded for store 20]\n",
      "[2025-09-16 20:35:36,600: INFO: 1353086594: Model loaded for store 21]\n",
      "[2025-09-16 20:35:36,606: INFO: 1353086594: Model loaded for store 22]\n",
      "[2025-09-16 20:35:36,611: INFO: 1353086594: Model loaded for store 23]\n",
      "[2025-09-16 20:35:36,619: INFO: 1353086594: Model loaded for store 24]\n",
      "[2025-09-16 20:35:36,626: INFO: 1353086594: Model loaded for store 25]\n",
      "[2025-09-16 20:35:36,632: INFO: 1353086594: Model loaded for store 26]\n",
      "[2025-09-16 20:35:36,641: INFO: 1353086594: Model loaded for store 27]\n",
      "[2025-09-16 20:35:36,641: INFO: 1353086594: Model loaded for store 28]\n",
      "[2025-09-16 20:35:36,650: INFO: 1353086594: Model loaded for store 29]\n",
      "[2025-09-16 20:35:36,655: INFO: 1353086594: Model loaded for store 3]\n",
      "[2025-09-16 20:35:36,663: INFO: 1353086594: Model loaded for store 30]\n",
      "[2025-09-16 20:35:36,670: INFO: 1353086594: Model loaded for store 31]\n",
      "[2025-09-16 20:35:36,676: INFO: 1353086594: Model loaded for store 32]\n",
      "[2025-09-16 20:35:36,684: INFO: 1353086594: Model loaded for store 33]\n",
      "[2025-09-16 20:35:36,689: INFO: 1353086594: Model loaded for store 34]\n",
      "[2025-09-16 20:35:36,694: INFO: 1353086594: Model loaded for store 35]\n",
      "[2025-09-16 20:35:36,698: INFO: 1353086594: Model loaded for store 36]\n",
      "[2025-09-16 20:35:36,706: INFO: 1353086594: Model loaded for store 37]\n",
      "[2025-09-16 20:35:36,712: INFO: 1353086594: Model loaded for store 38]\n",
      "[2025-09-16 20:35:36,721: INFO: 1353086594: Model loaded for store 39]\n",
      "[2025-09-16 20:35:36,724: INFO: 1353086594: Model loaded for store 4]\n",
      "[2025-09-16 20:35:36,730: INFO: 1353086594: Model loaded for store 40]\n",
      "[2025-09-16 20:35:36,738: INFO: 1353086594: Model loaded for store 41]\n",
      "[2025-09-16 20:35:36,744: INFO: 1353086594: Model loaded for store 42]\n",
      "[2025-09-16 20:35:36,750: INFO: 1353086594: Model loaded for store 43]\n",
      "[2025-09-16 20:35:36,757: INFO: 1353086594: Model loaded for store 44]\n",
      "[2025-09-16 20:35:36,764: INFO: 1353086594: Model loaded for store 45]\n",
      "[2025-09-16 20:35:36,775: INFO: 1353086594: Model loaded for store 5]\n",
      "[2025-09-16 20:35:36,783: INFO: 1353086594: Model loaded for store 6]\n",
      "[2025-09-16 20:35:36,788: INFO: 1353086594: Model loaded for store 7]\n",
      "[2025-09-16 20:35:36,797: INFO: 1353086594: Model loaded for store 8]\n",
      "[2025-09-16 20:35:36,806: INFO: 1353086594: Model loaded for store 9]\n",
      "[2025-09-16 20:35:36,884: INFO: 1353086594: prediction for store 3 on 2010-02-05 is $408,056.12]\n"
     ]
    }
   ],
   "source": [
    "try:\n",
    "    config=ConfigurationManager()\n",
    "    model_pred=ModelPredictor(config.getModelPredConfig())\n",
    "    model_pred.load_models()\n",
    "    model_pred.predSales(store_id=3,date=\"2010-02-05\")\n",
    "except Exception as e:\n",
    "    raise e"
   ]
  },
  {
   "cell_type": "code",
   "execution_count": null,
   "id": "0c1caaa2",
   "metadata": {},
   "outputs": [],
   "source": []
  }
 ],
 "metadata": {
  "kernelspec": {
   "display_name": "tensorflow",
   "language": "python",
   "name": "python3"
  },
  "language_info": {
   "codemirror_mode": {
    "name": "ipython",
    "version": 3
   },
   "file_extension": ".py",
   "mimetype": "text/x-python",
   "name": "python",
   "nbconvert_exporter": "python",
   "pygments_lexer": "ipython3",
   "version": "3.11.13"
  }
 },
 "nbformat": 4,
 "nbformat_minor": 5
}
