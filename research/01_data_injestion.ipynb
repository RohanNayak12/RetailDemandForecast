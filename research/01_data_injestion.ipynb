{
 "cells": [
  {
   "cell_type": "code",
   "execution_count": 1,
   "id": "0ead8833",
   "metadata": {},
   "outputs": [
    {
     "data": {
      "text/plain": [
       "'c:\\\\Users\\\\rohan\\\\OneDrive\\\\Desktop\\\\New folder\\\\RetailDemandForecast\\\\research'"
      ]
     },
     "execution_count": 1,
     "metadata": {},
     "output_type": "execute_result"
    }
   ],
   "source": [
    "import os\n",
    "%pwd"
   ]
  },
  {
   "cell_type": "code",
   "execution_count": 2,
   "id": "c8bffa9e",
   "metadata": {},
   "outputs": [
    {
     "data": {
      "text/plain": [
       "'c:\\\\Users\\\\rohan\\\\OneDrive\\\\Desktop\\\\New folder\\\\RetailDemandForecast'"
      ]
     },
     "execution_count": 2,
     "metadata": {},
     "output_type": "execute_result"
    }
   ],
   "source": [
    "os.chdir(\"../\")\n",
    "%pwd"
   ]
  },
  {
   "cell_type": "code",
   "execution_count": 3,
   "id": "f5fd657a",
   "metadata": {},
   "outputs": [],
   "source": [
    "from dataclasses import dataclass\n",
    "from pathlib import Path\n",
    "\n",
    "@dataclass(frozen=True)\n",
    "class DataInjestionConfig:\n",
    "    root_dir:Path\n",
    "    source_url:str\n",
    "    local_data_file:Path\n",
    "    unzip_dir:Path"
   ]
  },
  {
   "cell_type": "code",
   "execution_count": 4,
   "id": "cb23ef4b",
   "metadata": {},
   "outputs": [],
   "source": [
    "from src.retailDemand.constants import *\n",
    "from src.retailDemand.utils import *"
   ]
  },
  {
   "cell_type": "code",
   "execution_count": 5,
   "id": "3ebf3c79",
   "metadata": {},
   "outputs": [
    {
     "data": {
      "text/plain": [
       "'c:\\\\Users\\\\rohan\\\\OneDrive\\\\Desktop\\\\New folder\\\\RetailDemandForecast'"
      ]
     },
     "execution_count": 5,
     "metadata": {},
     "output_type": "execute_result"
    }
   ],
   "source": [
    "%pwd"
   ]
  },
  {
   "cell_type": "code",
   "execution_count": 12,
   "id": "7becc239",
   "metadata": {},
   "outputs": [],
   "source": [
    "from src.retailDemand.utils.common import createDir, read_yaml\n",
    "\n",
    "\n",
    "class ConfigurationManager:\n",
    "    def __init__(\n",
    "            self,\n",
    "            config_file_path=CONFIG_FILE_PATH,\n",
    "            params_file_path=PARAMS_FILE_PATH):\n",
    "        \n",
    "        self.config=read_yaml(config_file_path)\n",
    "        self.params=read_yaml(params_file_path)\n",
    "\n",
    "        createDir([self.config.artifacts_root])\n",
    "\n",
    "    def getDataInjestionConfig(self)->DataInjestionConfig:\n",
    "        config=self.config.data_injestion\n",
    "\n",
    "        createDir([config.root_dir])\n",
    "        data_injestion_config=DataInjestionConfig(\n",
    "            root_dir=config.root_dir,\n",
    "            local_data_file=config.local_data_file,\n",
    "            unzip_dir=config.unzip_dir,\n",
    "            source_url=config.source_url\n",
    "        )\n",
    "        return data_injestion_config"
   ]
  },
  {
   "cell_type": "code",
   "execution_count": 7,
   "id": "52125e1b",
   "metadata": {},
   "outputs": [],
   "source": [
    "import zipfile\n",
    "import gdown\n",
    "from src.retailDemand import logger"
   ]
  },
  {
   "cell_type": "code",
   "execution_count": 15,
   "id": "6fe976ee",
   "metadata": {},
   "outputs": [],
   "source": [
    "class DataInjestion:\n",
    "    def __init__(self,config:DataInjestionConfig):\n",
    "        self.config=config\n",
    "    \n",
    "    def download_file(self):\n",
    "        try:\n",
    "            dataset_url=self.config.source_url\n",
    "            zip_download_dir=self.config.local_data_file\n",
    "            os.makedirs(\"artifacts/data_injestion\",exist_ok=True)\n",
    "            logger.info(f\"Downloading data from {dataset_url} into {zip_download_dir}\")\n",
    "\n",
    "            file_id=dataset_url.split(\"/\")[-2]\n",
    "            prefix=\"https://drive.google.com/uc?/export=download&id=\"\n",
    "            gdown.download(prefix+file_id,zip_download_dir)\n",
    "            logger.info(f\"Downloaded data from {dataset_url} to {zip_download_dir}\")\n",
    "\n",
    "        except Exception as e:\n",
    "            raise e\n",
    "        \n",
    "    def extract_zip_file(self):\n",
    "        unzip_path=self.config.unzip_dir\n",
    "        os.makedirs(unzip_path,exist_ok=True)\n",
    "        with zipfile.ZipFile(self.config.local_data_file,'r') as zip_ref:\n",
    "            zip_ref.extractall(unzip_path)"
   ]
  },
  {
   "cell_type": "code",
   "execution_count": 9,
   "id": "7c8cbee3",
   "metadata": {},
   "outputs": [
    {
     "data": {
      "text/plain": [
       "'c:\\\\Users\\\\rohan\\\\OneDrive\\\\Desktop\\\\New folder\\\\RetailDemandForecast'"
      ]
     },
     "execution_count": 9,
     "metadata": {},
     "output_type": "execute_result"
    }
   ],
   "source": [
    "%pwd"
   ]
  },
  {
   "cell_type": "code",
   "execution_count": 16,
   "id": "ab025041",
   "metadata": {},
   "outputs": [
    {
     "name": "stdout",
     "output_type": "stream",
     "text": [
      "[2025-09-08 19:23:23,733: INFO: common: yaml file: config\\config.yaml loaded successfully]\n",
      "[2025-09-08 19:23:23,735: INFO: common: yaml file: params.yaml loaded successfully]\n",
      "[2025-09-08 19:23:23,735: INFO: common: Created directory at: artifacts]\n",
      "[2025-09-08 19:23:23,744: INFO: common: Created directory at: artifacts/data_injestion]\n",
      "[2025-09-08 19:23:23,744: INFO: 3104105583: Downloading data from https://drive.google.com/file/d/1o3b5F60AKd245z__9mFBvC_CbsLLoH6S/view?usp=drive_link into artifacts/data_injestion/dataset.zip]\n"
     ]
    },
    {
     "name": "stderr",
     "output_type": "stream",
     "text": [
      "Downloading...\n",
      "From: https://drive.google.com/uc?/export=download&id=1o3b5F60AKd245z__9mFBvC_CbsLLoH6S\n",
      "To: c:\\Users\\rohan\\OneDrive\\Desktop\\New folder\\RetailDemandForecast\\artifacts\\data_injestion\\dataset.zip\n",
      "100%|██████████| 2.59M/2.59M [00:03<00:00, 846kB/s]"
     ]
    },
    {
     "name": "stdout",
     "output_type": "stream",
     "text": [
      "[2025-09-08 19:23:30,766: INFO: 3104105583: Downloaded data from https://drive.google.com/file/d/1o3b5F60AKd245z__9mFBvC_CbsLLoH6S/view?usp=drive_link to artifacts/data_injestion/dataset.zip]\n"
     ]
    },
    {
     "name": "stderr",
     "output_type": "stream",
     "text": [
      "\n"
     ]
    }
   ],
   "source": [
    "try:\n",
    "    config=ConfigurationManager()\n",
    "    data_injestion_config=config.getDataInjestionConfig()\n",
    "    data_injestion=DataInjestion(config=data_injestion_config)\n",
    "    data_injestion.download_file()\n",
    "    data_injestion.extract_zip_file()\n",
    "except Exception as e:\n",
    "    raise e"
   ]
  },
  {
   "cell_type": "code",
   "execution_count": null,
   "id": "98852ffe",
   "metadata": {},
   "outputs": [],
   "source": []
  }
 ],
 "metadata": {
  "kernelspec": {
   "display_name": "tensorflow",
   "language": "python",
   "name": "python3"
  },
  "language_info": {
   "codemirror_mode": {
    "name": "ipython",
    "version": 3
   },
   "file_extension": ".py",
   "mimetype": "text/x-python",
   "name": "python",
   "nbconvert_exporter": "python",
   "pygments_lexer": "ipython3",
   "version": "3.11.13"
  }
 },
 "nbformat": 4,
 "nbformat_minor": 5
}
